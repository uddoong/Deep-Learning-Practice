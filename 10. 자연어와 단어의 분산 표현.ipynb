{
 "cells": [
  {
   "cell_type": "code",
   "execution_count": 73,
   "id": "cfbcc407",
   "metadata": {},
   "outputs": [],
   "source": [
    "import nltk\n",
    "from nltk.corpus import wordnet\n",
    "import numpy as np\n",
    "import matplotlib.pyplot as plt"
   ]
  },
  {
   "cell_type": "code",
   "execution_count": 2,
   "id": "97a214d2",
   "metadata": {},
   "outputs": [
    {
     "data": {
      "text/plain": [
       "[Synset('car.n.01'),\n",
       " Synset('car.n.02'),\n",
       " Synset('car.n.03'),\n",
       " Synset('car.n.04'),\n",
       " Synset('cable_car.n.01')]"
      ]
     },
     "execution_count": 2,
     "metadata": {},
     "output_type": "execute_result"
    }
   ],
   "source": [
    "### 시소러스 기법\n",
    "wordnet.synsets('car')"
   ]
  },
  {
   "cell_type": "code",
   "execution_count": 4,
   "id": "68f70715",
   "metadata": {},
   "outputs": [
    {
     "data": {
      "text/plain": [
       "'a motor vehicle with four wheels; usually propelled by an internal combustion engine'"
      ]
     },
     "execution_count": 4,
     "metadata": {},
     "output_type": "execute_result"
    }
   ],
   "source": [
    "car = wordnet.synset('car.n.01')   # 동의어 그룹\n",
    "car.definition()"
   ]
  },
  {
   "cell_type": "code",
   "execution_count": 5,
   "id": "2e01925f",
   "metadata": {},
   "outputs": [
    {
     "data": {
      "text/plain": [
       "['car', 'auto', 'automobile', 'machine', 'motorcar']"
      ]
     },
     "execution_count": 5,
     "metadata": {},
     "output_type": "execute_result"
    }
   ],
   "source": [
    "car.lemma_names()"
   ]
  },
  {
   "cell_type": "code",
   "execution_count": 6,
   "id": "a8f8e5a6",
   "metadata": {},
   "outputs": [
    {
     "data": {
      "text/plain": [
       "[[Synset('entity.n.01'),\n",
       "  Synset('physical_entity.n.01'),\n",
       "  Synset('object.n.01'),\n",
       "  Synset('whole.n.02'),\n",
       "  Synset('artifact.n.01'),\n",
       "  Synset('instrumentality.n.03'),\n",
       "  Synset('container.n.01'),\n",
       "  Synset('wheeled_vehicle.n.01'),\n",
       "  Synset('self-propelled_vehicle.n.01'),\n",
       "  Synset('motor_vehicle.n.01'),\n",
       "  Synset('car.n.01')],\n",
       " [Synset('entity.n.01'),\n",
       "  Synset('physical_entity.n.01'),\n",
       "  Synset('object.n.01'),\n",
       "  Synset('whole.n.02'),\n",
       "  Synset('artifact.n.01'),\n",
       "  Synset('instrumentality.n.03'),\n",
       "  Synset('conveyance.n.03'),\n",
       "  Synset('vehicle.n.01'),\n",
       "  Synset('wheeled_vehicle.n.01'),\n",
       "  Synset('self-propelled_vehicle.n.01'),\n",
       "  Synset('motor_vehicle.n.01'),\n",
       "  Synset('car.n.01')]]"
      ]
     },
     "execution_count": 6,
     "metadata": {},
     "output_type": "execute_result"
    }
   ],
   "source": [
    "### 상위어 경로 2개\n",
    "car.hypernym_paths()"
   ]
  },
  {
   "cell_type": "code",
   "execution_count": 15,
   "id": "2c6db91e",
   "metadata": {},
   "outputs": [
    {
     "data": {
      "text/plain": [
       "0.3333333333333333"
      ]
     },
     "execution_count": 15,
     "metadata": {},
     "output_type": "execute_result"
    }
   ],
   "source": [
    "### 단어 사이의 유사도 구하기\n",
    "car = wordnet.synset('car.n.01')\n",
    "novel = wordnet.synset('novel.n.01')\n",
    "dog = wordnet.synset('dog.n.01')\n",
    "motorcycle = wordnet.synset('motorcycle.n.01')\n",
    "\n",
    "car.path_similarity(novel)\n",
    "car.path_similarity(dog)\n",
    "car.path_similarity(motorcycle)"
   ]
  },
  {
   "cell_type": "code",
   "execution_count": null,
   "id": "8d536111",
   "metadata": {},
   "outputs": [],
   "source": []
  },
  {
   "cell_type": "code",
   "execution_count": 22,
   "id": "07403da8",
   "metadata": {},
   "outputs": [
    {
     "data": {
      "text/plain": [
       "['you', 'say', 'goodbye', 'and', 'i', 'say', 'hello', '.']"
      ]
     },
     "execution_count": 22,
     "metadata": {},
     "output_type": "execute_result"
    }
   ],
   "source": [
    "### 통계 기반 기법\n",
    "text = 'You say goodbye and I say hello.'\n",
    "text = text.lower()\n",
    "text = text.replace('.', ' .')\n",
    "words = text.split(' ')\n",
    "words"
   ]
  },
  {
   "cell_type": "code",
   "execution_count": 62,
   "id": "ccb3ae86",
   "metadata": {},
   "outputs": [],
   "source": [
    "### 단어 ID와 단어 대응표\n",
    "id_to_word = {}\n",
    "word_to_id = {}\n",
    "\n",
    "# word가 key값에 있으면\n",
    "for word in words:\n",
    "    if word not in word_to_id:\n",
    "        idx = len(word_to_id)\n",
    "        word_to_id[word] = idx \n",
    "        id_to_word[idx] = word"
   ]
  },
  {
   "cell_type": "code",
   "execution_count": 68,
   "id": "d482af1e",
   "metadata": {},
   "outputs": [
    {
     "data": {
      "text/plain": [
       "{0: 'you', 1: 'say', 2: 'goodbye', 3: 'and', 4: 'i', 5: 'hello', 6: '.'}"
      ]
     },
     "execution_count": 68,
     "metadata": {},
     "output_type": "execute_result"
    }
   ],
   "source": [
    "id_to_word"
   ]
  },
  {
   "cell_type": "code",
   "execution_count": 69,
   "id": "9d80f7bc",
   "metadata": {},
   "outputs": [
    {
     "data": {
      "text/plain": [
       "'say'"
      ]
     },
     "execution_count": 69,
     "metadata": {},
     "output_type": "execute_result"
    }
   ],
   "source": [
    "id_to_word[1]"
   ]
  },
  {
   "cell_type": "code",
   "execution_count": 71,
   "id": "038d9bfa",
   "metadata": {},
   "outputs": [
    {
     "data": {
      "text/plain": [
       "{'you': 0, 'say': 1, 'goodbye': 2, 'and': 3, 'i': 4, 'hello': 5, '.': 6}"
      ]
     },
     "execution_count": 71,
     "metadata": {},
     "output_type": "execute_result"
    }
   ],
   "source": [
    "word_to_id"
   ]
  },
  {
   "cell_type": "code",
   "execution_count": 72,
   "id": "ff072bbe",
   "metadata": {},
   "outputs": [
    {
     "data": {
      "text/plain": [
       "1"
      ]
     },
     "execution_count": 72,
     "metadata": {},
     "output_type": "execute_result"
    }
   ],
   "source": [
    "word_to_id['say']"
   ]
  },
  {
   "cell_type": "code",
   "execution_count": 77,
   "id": "806b7a7d",
   "metadata": {},
   "outputs": [
    {
     "data": {
      "text/plain": [
       "array([0, 1, 2, 3, 4, 1, 5, 6])"
      ]
     },
     "execution_count": 77,
     "metadata": {},
     "output_type": "execute_result"
    }
   ],
   "source": [
    "### 단어목록 -> 단어 ID 목록\n",
    "corpus = []\n",
    "\n",
    "for w in words:\n",
    "    corpus.append(word_to_id[w])\n",
    "    \n",
    "corpus = np.array(corpus)\n",
    "corpus"
   ]
  },
  {
   "cell_type": "code",
   "execution_count": 81,
   "id": "1802d3d1",
   "metadata": {},
   "outputs": [
    {
     "data": {
      "text/plain": [
       "array([0, 1, 2, 3, 4, 1, 5, 6])"
      ]
     },
     "execution_count": 81,
     "metadata": {},
     "output_type": "execute_result"
    }
   ],
   "source": [
    "corpus = [word_to_id[w] for w in words]\n",
    "corpus = np.array(corpus)\n",
    "corpus"
   ]
  },
  {
   "cell_type": "code",
   "execution_count": null,
   "id": "03dfba3a",
   "metadata": {},
   "outputs": [],
   "source": []
  },
  {
   "cell_type": "code",
   "execution_count": 83,
   "id": "a001d8e6",
   "metadata": {},
   "outputs": [],
   "source": [
    "### 말뭉치 함수\n",
    "def preprocess(text):\n",
    "    text = text.lower()\n",
    "    text = text.replace('.', ' .')\n",
    "    words = text.split(' ')\n",
    "\n",
    "    id_to_word = {}\n",
    "    word_to_id = {}\n",
    "\n",
    "    for word in words:\n",
    "        if word not in word_to_id:\n",
    "            idx = len(word_to_id)\n",
    "            word_to_id[word] = idx \n",
    "            id_to_word[idx] = word\n",
    "\n",
    "    corpus = np.array([word_to_id[w] for w in words])\n",
    "\n",
    "    return corpus, word_to_id, id_to_word"
   ]
  },
  {
   "cell_type": "code",
   "execution_count": 89,
   "id": "51ff46f8",
   "metadata": {},
   "outputs": [],
   "source": [
    "text = 'You say goodbye and I say hello.'\n",
    "corpus, word_to_id, id_to_word = preprocess(text)"
   ]
  },
  {
   "cell_type": "code",
   "execution_count": 90,
   "id": "a4b6f947",
   "metadata": {},
   "outputs": [
    {
     "data": {
      "text/plain": [
       "array([0, 1, 2, 3, 4, 1, 5, 6])"
      ]
     },
     "execution_count": 90,
     "metadata": {},
     "output_type": "execute_result"
    }
   ],
   "source": [
    "corpus"
   ]
  },
  {
   "cell_type": "code",
   "execution_count": 91,
   "id": "27038aa0",
   "metadata": {},
   "outputs": [
    {
     "data": {
      "text/plain": [
       "{'you': 0, 'say': 1, 'goodbye': 2, 'and': 3, 'i': 4, 'hello': 5, '.': 6}"
      ]
     },
     "execution_count": 91,
     "metadata": {},
     "output_type": "execute_result"
    }
   ],
   "source": [
    "word_to_id"
   ]
  },
  {
   "cell_type": "code",
   "execution_count": 92,
   "id": "383d850d",
   "metadata": {},
   "outputs": [
    {
     "data": {
      "text/plain": [
       "{0: 'you', 1: 'say', 2: 'goodbye', 3: 'and', 4: 'i', 5: 'hello', 6: '.'}"
      ]
     },
     "execution_count": 92,
     "metadata": {},
     "output_type": "execute_result"
    }
   ],
   "source": [
    "id_to_word"
   ]
  },
  {
   "cell_type": "code",
   "execution_count": null,
   "id": "adf97e38",
   "metadata": {},
   "outputs": [],
   "source": []
  },
  {
   "cell_type": "code",
   "execution_count": 94,
   "id": "a8222ae8",
   "metadata": {},
   "outputs": [
    {
     "data": {
      "text/plain": [
       "array([[0, 1, 0, 0, 0, 0, 0],\n",
       "       [1, 0, 1, 0, 1, 1, 0],\n",
       "       [0, 1, 0, 1, 0, 0, 0],\n",
       "       [0, 0, 1, 0, 1, 0, 0],\n",
       "       [0, 1, 0, 1, 0, 0, 0],\n",
       "       [0, 1, 0, 0, 0, 0, 1],\n",
       "       [0, 0, 0, 0, 0, 1, 0]], dtype=int32)"
      ]
     },
     "execution_count": 94,
     "metadata": {},
     "output_type": "execute_result"
    }
   ],
   "source": [
    "### 동시발생 행렬 수동 입력\n",
    "C = np.array([[0,1,0,0,0,0,0],[1,0,1,0,1,1,0],[0,1,0,1,0,0,0],[0,0,1,0,1,0,0],\n",
    "              [0,1,0,1,0,0,0],[0,1,0,0,0,0,1],[0,0,0,0,0,1,0]], dtype=np.int32)\n",
    "C"
   ]
  },
  {
   "cell_type": "code",
   "execution_count": 97,
   "id": "532d7a50",
   "metadata": {},
   "outputs": [
    {
     "data": {
      "text/plain": [
       "array([0, 1, 0, 1, 0, 0, 0], dtype=int32)"
      ]
     },
     "execution_count": 97,
     "metadata": {},
     "output_type": "execute_result"
    }
   ],
   "source": [
    "C[0]\n",
    "C[4]\n",
    "C[word_to_id['goodbye']]"
   ]
  },
  {
   "cell_type": "code",
   "execution_count": 117,
   "id": "dd8ccc76",
   "metadata": {},
   "outputs": [],
   "source": [
    "### 동시발생 행렬 자동화\n",
    "def create_co_matrix(corpus, vocab_size, window_size=1):\n",
    "    corpus_size = len(corpus)\n",
    "    co_matirx = np.zeros((vocab_size, vocab_size), dtype=np.int32)\n",
    "\n",
    "    for idx, word_id in enumerate(corpus):\n",
    "        for i in range(1, window_size+1):\n",
    "            left_idx = idx - i\n",
    "            right_idx = idx + i\n",
    "\n",
    "            if left_idx >= 0:\n",
    "                left_word_id = corpus[left_idx]\n",
    "                co_matirx[word_id, left_word_id] += 1\n",
    "\n",
    "            if right_idx < corpus_size:\n",
    "                right_word_id = corpus[right_idx]\n",
    "                co_matirx[word_id, right_word_id] += 1\n",
    "                \n",
    "    return co_matirx"
   ]
  },
  {
   "cell_type": "code",
   "execution_count": null,
   "id": "e4fec36b",
   "metadata": {},
   "outputs": [],
   "source": []
  },
  {
   "cell_type": "code",
   "execution_count": 112,
   "id": "9c374ac5",
   "metadata": {},
   "outputs": [],
   "source": [
    "### 코사인 유사도\n",
    "def cos_similarity(x, y, eps=1e-8):\n",
    "    nx = x / (np.sqrt(np.sum(x**2)) + eps)\n",
    "    ny = y / (np.sqrt(np.sum(y**2)) + eps)\n",
    "    return np.dot(nx, ny)"
   ]
  },
  {
   "cell_type": "code",
   "execution_count": 121,
   "id": "dc17b408",
   "metadata": {},
   "outputs": [
    {
     "data": {
      "text/plain": [
       "0.7071067691154799"
      ]
     },
     "execution_count": 121,
     "metadata": {},
     "output_type": "execute_result"
    }
   ],
   "source": [
    "### 유사도 구하기\n",
    "text = 'You say goodbye and I say hello.'\n",
    "corpus, word_to_id, id_to_word = preprocess(text)\n",
    "\n",
    "vocab_size = len(word_to_id)\n",
    "C = create_co_matrix(corpus, vocab_size)\n",
    "c0 = C[word_to_id['you']]\n",
    "c1 = C[word_to_id['i']]\n",
    "\n",
    "cos_similarity(c0, c1)"
   ]
  },
  {
   "cell_type": "code",
   "execution_count": null,
   "id": "32756f17",
   "metadata": {},
   "outputs": [],
   "source": []
  },
  {
   "cell_type": "code",
   "execution_count": 248,
   "id": "76d27f7e",
   "metadata": {},
   "outputs": [],
   "source": [
    "### 검색어와 가장 유사도가 높은 단어 찾기\n",
    "def most_similar(query, word_to_id, id_to_word, word_matrix, top=5):\n",
    "    if query not in word_to_id:\n",
    "        print(f'{query}을/를 찾을 수 없습니다.')\n",
    "        return\n",
    "    \n",
    "    print(f'[query] {query}')\n",
    "    query_id = word_to_id[query]\n",
    "    query_vec = word_matrix[query_id]\n",
    "\n",
    "    vocab_size = len(word_to_id)\n",
    "    similarity = np.zeros(vocab_size)\n",
    "    for i in range(vocab_size):\n",
    "        similarity[i] = cos_similarity(word_matrix[i], query_vec)\n",
    "\n",
    "    count = 0\n",
    "    for i in (-1 * similarity).argsort():\n",
    "        if id_to_word[i] == query:\n",
    "            continue\n",
    "        print(f'{id_to_word[i]}: {similarity[i]}')\n",
    "\n",
    "        count += 1\n",
    "        if count >= top:\n",
    "            return"
   ]
  },
  {
   "cell_type": "code",
   "execution_count": 149,
   "id": "c956fb79",
   "metadata": {},
   "outputs": [
    {
     "name": "stdout",
     "output_type": "stream",
     "text": [
      "[query] you\n",
      "goodbye: 0.7071067691154799\n",
      "i: 0.7071067691154799\n",
      "hello: 0.7071067691154799\n"
     ]
    }
   ],
   "source": [
    "C = create_co_matrix(corpus, vocab_size)\n",
    "most_similar('you', word_to_id, id_to_word, C, top=3)"
   ]
  },
  {
   "cell_type": "code",
   "execution_count": null,
   "id": "eff389fb",
   "metadata": {},
   "outputs": [],
   "source": []
  },
  {
   "cell_type": "code",
   "execution_count": 170,
   "id": "57b326e0",
   "metadata": {},
   "outputs": [],
   "source": [
    "### PPMI(양의 상호정보량) 구현\n",
    "def ppmi(C, verbose=True, eps=1e-8):\n",
    "    M = np.zeros_like(C, dtype=np.float32)\n",
    "    N = np.sum(C)\n",
    "    S = np.sum(C, axis=0)\n",
    "    total = C.shape[0] * C.shape[1]\n",
    "    cnt = 0\n",
    "\n",
    "    for i in range(C.shape[0]):\n",
    "        for j in range(C.shape[1]):\n",
    "            pmi = np.log2(C[i,j] * N / (S[i]*S[j]) + eps)\n",
    "            M[i,j] = max(0,pmi)\n",
    "            \n",
    "            if verbose:\n",
    "                cnt += 1\n",
    "                if cnt % (total // 100 + 1) == 0:\n",
    "                    print(f'{100*cnt/total:.1f} 완료')\n",
    "                    \n",
    "    return M"
   ]
  },
  {
   "cell_type": "code",
   "execution_count": 178,
   "id": "4f10dffd",
   "metadata": {},
   "outputs": [
    {
     "name": "stdout",
     "output_type": "stream",
     "text": [
      "동시발생 행렬\n",
      "[[0 1 0 0 0 0 0]\n",
      " [1 0 1 0 1 1 0]\n",
      " [0 1 0 1 0 0 0]\n",
      " [0 0 1 0 1 0 0]\n",
      " [0 1 0 1 0 0 0]\n",
      " [0 1 0 0 0 0 1]\n",
      " [0 0 0 0 0 1 0]]\n",
      "--------------------------------------------------\n",
      "PPMI\n",
      "[[0.    1.807 0.    0.    0.    0.    0.   ]\n",
      " [1.807 0.    0.807 0.    0.807 0.807 0.   ]\n",
      " [0.    0.807 0.    1.807 0.    0.    0.   ]\n",
      " [0.    0.    1.807 0.    1.807 0.    0.   ]\n",
      " [0.    0.807 0.    1.807 0.    0.    0.   ]\n",
      " [0.    0.807 0.    0.    0.    0.    2.807]\n",
      " [0.    0.    0.    0.    0.    2.807 0.   ]]\n"
     ]
    }
   ],
   "source": [
    "### 동시발생 행렬 -> PPMI 행렬\n",
    "text = 'You say goodbye and I say hello.'\n",
    "corpus, word_to_id, id_to_word = preprocess(text)\n",
    "\n",
    "vocab_size = len(word_to_id)\n",
    "C = create_co_matrix(corpus, vocab_size)\n",
    "W = ppmi(C, verbose=False)\n",
    "\n",
    "np.set_printoptions(precision=3)\n",
    "print('동시발생 행렬')\n",
    "print(C)\n",
    "print('-'*50)\n",
    "print('PPMI')\n",
    "print(W)"
   ]
  },
  {
   "cell_type": "code",
   "execution_count": null,
   "id": "8a9c9a9c",
   "metadata": {},
   "outputs": [],
   "source": []
  },
  {
   "cell_type": "code",
   "execution_count": 188,
   "id": "c784fc91",
   "metadata": {},
   "outputs": [],
   "source": [
    "### SVD에 의한 차원 감소\n",
    "text = 'You say goodbye and I say hello.'\n",
    "corpus, word_to_id, id_to_word = preprocess(text)\n",
    "\n",
    "vocab_size = len(word_to_id)\n",
    "C = create_co_matrix(corpus, vocab_size)\n",
    "W = ppmi(C, verbose=False)\n",
    "\n",
    "U, S, V = np.linalg.svd(W)"
   ]
  },
  {
   "cell_type": "code",
   "execution_count": 200,
   "id": "a917a6fe",
   "metadata": {},
   "outputs": [
    {
     "name": "stdout",
     "output_type": "stream",
     "text": [
      "[0 1 0 0 0 0 0]\n",
      "[0.    1.807 0.    0.    0.    0.    0.   ]\n",
      "[ 3.409e-01 -1.110e-16 -3.886e-16 -1.205e-01 -9.323e-01  0.000e+00\n",
      " -1.800e-16]\n",
      "[[ 3.409e-01 -1.110e-16 -3.886e-16 -1.205e-01 -9.323e-01  0.000e+00\n",
      "  -1.800e-16]\n",
      " [ 0.000e+00 -5.976e-01  1.802e-01  0.000e+00  0.000e+00 -7.812e-01\n",
      "   0.000e+00]\n",
      " [ 4.363e-01 -5.551e-17 -2.220e-16 -5.088e-01  2.253e-01 -1.388e-17\n",
      "  -7.071e-01]\n",
      " [ 1.665e-16 -4.978e-01  6.804e-01  4.163e-17 -1.110e-16  5.378e-01\n",
      "   8.668e-17]\n",
      " [ 4.363e-01 -3.124e-17 -1.600e-16 -5.088e-01  2.253e-01 -1.302e-17\n",
      "   7.071e-01]\n",
      " [ 7.092e-01 -3.124e-17 -1.600e-16  6.839e-01  1.710e-01 -1.302e-17\n",
      "  -6.013e-17]\n",
      " [-1.943e-16 -6.285e-01 -7.103e-01 -4.163e-17  2.220e-16  3.169e-01\n",
      "  -1.116e-16]]\n"
     ]
    }
   ],
   "source": [
    "print(C[0])\n",
    "print(W[0])\n",
    "print(U[0])\n",
    "print(U)"
   ]
  },
  {
   "cell_type": "code",
   "execution_count": 195,
   "id": "6a163fdd",
   "metadata": {},
   "outputs": [
    {
     "data": {
      "text/plain": [
       "array([ 3.409e-01, -1.110e-16], dtype=float32)"
      ]
     },
     "execution_count": 195,
     "metadata": {},
     "output_type": "execute_result"
    }
   ],
   "source": [
    "### 밀집벡터의 차원 감소\n",
    "U[0,0:2]"
   ]
  },
  {
   "cell_type": "code",
   "execution_count": 204,
   "id": "f3530a19",
   "metadata": {},
   "outputs": [
    {
     "data": {
      "text/plain": [
       "<matplotlib.collections.PathCollection at 0x7fa901906250>"
      ]
     },
     "execution_count": 204,
     "metadata": {},
     "output_type": "execute_result"
    },
    {
     "data": {
      "image/png": "[encoded data removed]",
      "text/plain": [
       "<Figure size 432x288 with 1 Axes>"
      ]
     },
     "metadata": {
      "needs_background": "light"
     },
     "output_type": "display_data"
    }
   ],
   "source": [
    "### 그래프 그리기\n",
    "for word, word_id in word_to_id.items():\n",
    "    plt.annotate(word, (U[word_id, 0], U[word_id, 1]))\n",
    "    \n",
    "plt.scatter(U[:,0], U[:,1], alpha=0.5)"
   ]
  },
  {
   "cell_type": "code",
   "execution_count": null,
   "id": "58c0aed0",
   "metadata": {},
   "outputs": [],
   "source": []
  },
  {
   "cell_type": "code",
   "execution_count": 208,
   "id": "6d9c1314",
   "metadata": {},
   "outputs": [],
   "source": [
    "import os, sys\n",
    "sys.path.append('..')\n",
    "from dataset.ptb import *"
   ]
  },
  {
   "cell_type": "code",
   "execution_count": 223,
   "id": "ed8b0f63",
   "metadata": {},
   "outputs": [
    {
     "name": "stdout",
     "output_type": "stream",
     "text": [
      "말뭉치 크기 : 929589\n",
      "corpus[:30] : [ 0  1  2  3  4  5  6  7  8  9 10 11 12 13 14 15 16 17 18 19 20 21 22 23\n",
      " 24 25 26 27 28 29]\n",
      "\n",
      "id_to_word[0] : aer\n",
      "id_to_word[1] : banknote\n",
      "id_to_word[2] : berlitz\n",
      "\n",
      "word_to_id[\"car\"] : 3856\n",
      "word_to_id[\"happy\"] : 4428\n",
      "word_to_id[\"lexus\"] : 7426\n"
     ]
    }
   ],
   "source": [
    "### PTB 데이터셋\n",
    "corpus, word_to_id, id_to_word = load_data()\n",
    "\n",
    "print(f'말뭉치 크기 : {len(corpus)}')\n",
    "print(f'corpus[:30] : {corpus[:30]}')\n",
    "print()\n",
    "print(f'id_to_word[0] : {id_to_word[0]}')\n",
    "print(f'id_to_word[1] : {id_to_word[1]}')\n",
    "print(f'id_to_word[2] : {id_to_word[2]}')\n",
    "print()\n",
    "print(f'word_to_id[\"car\"] : {word_to_id[\"car\"]}')\n",
    "print(f'word_to_id[\"happy\"] : {word_to_id[\"happy\"]}')\n",
    "print(f'word_to_id[\"lexus\"] : {word_to_id[\"lexus\"]}')"
   ]
  },
  {
   "cell_type": "code",
   "execution_count": null,
   "id": "0af6a8b0",
   "metadata": {},
   "outputs": [],
   "source": []
  },
  {
   "cell_type": "code",
   "execution_count": 229,
   "id": "69ce420c",
   "metadata": {},
   "outputs": [],
   "source": [
    "from sklearn.utils.extmath import randomized_svd"
   ]
  },
  {
   "cell_type": "code",
   "execution_count": 232,
   "id": "7293f416",
   "metadata": {},
   "outputs": [
    {
     "data": {
      "text/plain": [
       "(10000, 10000)"
      ]
     },
     "execution_count": 232,
     "metadata": {},
     "output_type": "execute_result"
    }
   ],
   "source": [
    "window_size = 2\n",
    "vocab_size = len(word_to_id)\n",
    "C = create_co_matrix(corpus, vocab_size, window_size)\n",
    "C.shape"
   ]
  },
  {
   "cell_type": "code",
   "execution_count": 237,
   "id": "fb98ec17",
   "metadata": {},
   "outputs": [],
   "source": [
    "W = ppmi(C, verbose=False)"
   ]
  },
  {
   "cell_type": "code",
   "execution_count": 238,
   "id": "e53cdd6e",
   "metadata": {},
   "outputs": [],
   "source": [
    "wordvec_size = 100\n",
    "U, S, V = randomized_svd(W, n_components=wordvec_size, n_iter=5, random_state=None)"
   ]
  },
  {
   "cell_type": "code",
   "execution_count": 243,
   "id": "c25a2c9d",
   "metadata": {},
   "outputs": [
    {
     "data": {
      "text/plain": [
       "array([[-2.606e-10,  3.651e-07,  1.508e-06, ..., -8.463e-05, -1.807e-05,\n",
       "         6.406e-05],\n",
       "       [-1.937e-11,  2.206e-08,  9.703e-08, ..., -1.270e-04, -2.684e-05,\n",
       "         9.462e-05],\n",
       "       [ 1.075e-12, -2.276e-08, -3.281e-08, ..., -1.725e-04, -3.423e-05,\n",
       "         1.274e-04],\n",
       "       ...,\n",
       "       [ 4.428e-03, -6.479e-03,  1.148e-02, ..., -5.355e-04, -7.532e-03,\n",
       "         1.483e-02],\n",
       "       [ 2.462e-03, -4.899e-03,  8.017e-03, ..., -4.129e-03,  2.385e-03,\n",
       "         2.029e-03],\n",
       "       [ 3.895e-03, -7.803e-03,  8.056e-03, ..., -2.840e-03,  2.242e-03,\n",
       "         1.862e-03]], dtype=float32)"
      ]
     },
     "execution_count": 243,
     "metadata": {},
     "output_type": "execute_result"
    }
   ],
   "source": [
    "word_vecs = U[:, :wordvec_size]\n",
    "word_vecs"
   ]
  },
  {
   "cell_type": "code",
   "execution_count": 250,
   "id": "07c233b5",
   "metadata": {},
   "outputs": [
    {
     "name": "stdout",
     "output_type": "stream",
     "text": [
      "[query] you\n",
      "i: 0.7009450793266296\n",
      "we: 0.6332400441169739\n",
      "do: 0.558809757232666\n",
      "someone: 0.5409772396087646\n",
      "anybody: 0.5362870693206787\n",
      "[query] year\n",
      "month: 0.6786127090454102\n",
      "quarter: 0.6256309151649475\n",
      "last: 0.6174898147583008\n",
      "fiscal: 0.6041795611381531\n",
      "next: 0.5897749662399292\n",
      "[query] car\n",
      "luxury: 0.6826255321502686\n",
      "auto: 0.6771713495254517\n",
      "domestic: 0.6305776238441467\n",
      "vehicle: 0.5832709074020386\n",
      "truck: 0.5415369272232056\n",
      "[query] toyota\n",
      "motor: 0.7276226878166199\n",
      "nissan: 0.7095350623130798\n",
      "honda: 0.6855267286300659\n",
      "motors: 0.6744861006736755\n",
      "lexus: 0.6233911514282227\n"
     ]
    }
   ],
   "source": [
    "querys = ['you', 'year', 'car', 'toyota']\n",
    "for query in querys:\n",
    "    most_similar(query, word_to_id, id_to_word, word_vecs, top=5)"
   ]
  },
  {
   "cell_type": "code",
   "execution_count": null,
   "id": "44d0a598",
   "metadata": {},
   "outputs": [],
   "source": []
  }
 ],
 "metadata": {
  "kernelspec": {
   "display_name": "Python 3 (ipykernel)",
   "language": "python",
   "name": "python3"
  },
  "language_info": {
   "codemirror_mode": {
    "name": "ipython",
    "version": 3
   },
   "file_extension": ".py",
   "mimetype": "text/x-python",
   "name": "python",
   "nbconvert_exporter": "python",
   "pygments_lexer": "ipython3",
   "version": "3.9.7"
  }
 },
 "nbformat": 4,
 "nbformat_minor": 5
}
