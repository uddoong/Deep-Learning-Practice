{
 "cells": [
  {
   "cell_type": "code",
   "execution_count": 1,
   "id": "8ac35dcc",
   "metadata": {},
   "outputs": [],
   "source": [
    "import numpy as np\n",
    "import sys, os\n",
    "sys.path.append('..')\n",
    "import matplotlib.pyplot as plt"
   ]
  },
  {
   "cell_type": "code",
   "execution_count": 2,
   "id": "e34755b1",
   "metadata": {},
   "outputs": [],
   "source": [
    "### RNN 계층 구현\n",
    "class RNN:\n",
    "    def __init__(self, Wx, Wh, b):\n",
    "        self.params = [Wx, Wh, b]\n",
    "        self.grads = [np.zeros_like(Wx), np.zeros_like(Wh), np.zeros_like(b)]\n",
    "        self.cache = None\n",
    "        \n",
    "    def forward(self, x, h_prev):\n",
    "        Wx, Wh, b = self.params\n",
    "        t = np.matmul(h_prev, Wh) + np.matmul(x, Wx) + b\n",
    "        h_next = np.tanh(t)\n",
    "        \n",
    "        self.cache = [x, h_prev, h_next]\n",
    "        return h_next\n",
    "    \n",
    "    def backward(self, dh_next):\n",
    "        Wx, Wh, b = self.params\n",
    "        x, h_prev, h_next = self.cache\n",
    "        \n",
    "        dt = dh_next * (1 - h_next**2)\n",
    "        db = np.sum(dt, axis=0)\n",
    "        dWh = np.matmul(h_prev.T, dt)\n",
    "        dh_prev = np.matmul(dt, Wh.T)\n",
    "        dWx = np.matmul(x.T, dt)\n",
    "        dx = np.matmul(dt, Wx.T)\n",
    "        \n",
    "        self.grads[0][...] = dWx\n",
    "        self.grads[1][...] = dWh\n",
    "        self.grads[2][...] = db\n",
    "        \n",
    "        return dx, dh_prev"
   ]
  },
  {
   "cell_type": "code",
   "execution_count": null,
   "id": "977e97ee",
   "metadata": {},
   "outputs": [],
   "source": []
  },
  {
   "cell_type": "code",
   "execution_count": 97,
   "id": "307a57bd",
   "metadata": {},
   "outputs": [],
   "source": [
    "### TimeRNN 계층 구현\n",
    "class TimeRNN:\n",
    "    def __init__(self, Wx, Wh, b, stateful=False):\n",
    "        self.params = [Wx, Wh, b]\n",
    "        self.grads = [np.zeros_like(Wx), np.zeros_like(Wh), np.zeros_like(b)]\n",
    "        self.layers = None\n",
    "        \n",
    "        self.h = None\n",
    "        self.stateful = stateful\n",
    "        \n",
    "    def set_state(self, h):\n",
    "        self.h = h\n",
    "        \n",
    "    def reset_state(self):\n",
    "        self.h = None\n",
    "        \n",
    "    def forward(self, xs):\n",
    "        Wx, Wh, b = self.params\n",
    "        N, T, D = xs.shape\n",
    "        D, H = Wx.shape\n",
    "        \n",
    "        self.layers = []\n",
    "        hs = np.empty((N, T, H), dtype='f')\n",
    "        \n",
    "        if not self.stateful or self.h is None:\n",
    "            self.h = np.zeros((N, H), dtype='f')\n",
    "            \n",
    "        for t in range(T):\n",
    "            layer = RNN(*self.params)\n",
    "            self.h = layer.forward(xs[:, t, :], self.h)\n",
    "            hs[:, t, :] = self.h\n",
    "            self.layers.append(layer)\n",
    "            \n",
    "        return hs\n",
    "    \n",
    "    def backward(self, dhs):\n",
    "        Wx, Wh, b = self.params\n",
    "        N, T, H = dhs.shape\n",
    "        D, H = Wx.shape\n",
    "        \n",
    "        dxs = np.empty((N, T, D), dtype='f')\n",
    "        dh = 0\n",
    "        grads = [0, 0, 0]\n",
    "        \n",
    "        for t in reversed(range(T)):\n",
    "            layer = self.layers[t]\n",
    "            dx, dh = layer.backward(dhs[:, t, :] + dh)\n",
    "            dxs[:, t, :] = dx\n",
    "            \n",
    "            for i, grad in enumerate(layer.grads):\n",
    "                grads[i] += grad\n",
    "                \n",
    "        for i, grad in enumerate(grads):\n",
    "            self.grads[i][...] = grad\n",
    "            \n",
    "        self.dh = dh\n",
    "        \n",
    "        return dxs"
   ]
  },
  {
   "cell_type": "code",
   "execution_count": 4,
   "id": "f3bc09e7",
   "metadata": {},
   "outputs": [],
   "source": [
    "xs = np.random.randn(2,3,5)\n",
    "N, T, D = xs.shape\n",
    "\n",
    "Wx = np.random.randn(5, 4)\n",
    "Wh = np.random.randn(4, 4)\n",
    "b = np.random.randn(2, 4)\n",
    "D, H = Wx.shape\n",
    "\n",
    "hs = np.empty((N, T, H), dtype='f')\n",
    "params = [Wx, Wh, b]\n",
    "h = np.empty((N, H), dtype='f')"
   ]
  },
  {
   "cell_type": "code",
   "execution_count": 5,
   "id": "2ef3b66e",
   "metadata": {},
   "outputs": [
    {
     "data": {
      "text/plain": [
       "array([[ 0.66490644, -0.55840267, -0.83988031,  0.39517619],\n",
       "       [ 0.99162458, -0.92132372, -0.98987293,  0.99970973]])"
      ]
     },
     "execution_count": 5,
     "metadata": {},
     "output_type": "execute_result"
    }
   ],
   "source": [
    "layers = []\n",
    "\n",
    "for t in range(T):\n",
    "    layer = RNN(*params)\n",
    "    h = layer.forward(xs[:,t,:], h)\n",
    "    hs[:,t,:] = h\n",
    "    layers.append(layer)\n",
    "hs\n",
    "h"
   ]
  },
  {
   "cell_type": "code",
   "execution_count": 6,
   "id": "fdf91cbc",
   "metadata": {},
   "outputs": [
    {
     "data": {
      "text/plain": [
       "array([[[-1.        , -1.        , -1.        ,  1.        ],\n",
       "        [-0.8856359 ,  0.9997306 ,  0.85615975, -0.98882174],\n",
       "        [ 0.66490644, -0.55840266, -0.8398803 ,  0.3951762 ]],\n",
       "\n",
       "       [[ 1.        , -1.        ,  1.        , -1.        ],\n",
       "        [ 0.9999933 , -0.9897862 , -0.9420544 ,  0.99607164],\n",
       "        [ 0.9916246 , -0.9213237 , -0.98987293,  0.9997097 ]]],\n",
       "      dtype=float32)"
      ]
     },
     "execution_count": 6,
     "metadata": {},
     "output_type": "execute_result"
    }
   ],
   "source": [
    "hs"
   ]
  },
  {
   "cell_type": "code",
   "execution_count": 7,
   "id": "1c02fe66",
   "metadata": {},
   "outputs": [
    {
     "name": "stdout",
     "output_type": "stream",
     "text": [
      "t=0: [[-0.980594   -1.35995936  0.15123834  1.20061991 -0.8257638 ]\n",
      " [-0.06607025  1.18199682  0.18432254  0.37701493  1.4033216 ]]\n",
      "t=1: [[-0.58377788 -0.14037485 -1.77050984  0.279275   -0.440828  ]\n",
      " [-0.50114772  0.22695098  1.40972774  1.59996187  0.92768662]]\n",
      "t=2: [[-0.63393649  0.48414264  0.97589821  0.1613117  -0.27203646]\n",
      " [-0.14367692  1.10831132  1.50480132 -0.45087874  0.21192525]]\n"
     ]
    }
   ],
   "source": [
    "for t in range(3):\n",
    "    print(f't={t}: {xs[:,t,:]}')"
   ]
  },
  {
   "cell_type": "code",
   "execution_count": null,
   "id": "a0a2d310",
   "metadata": {},
   "outputs": [],
   "source": []
  },
  {
   "cell_type": "code",
   "execution_count": 8,
   "id": "da1aa6d7",
   "metadata": {},
   "outputs": [],
   "source": [
    "layers.reverse()"
   ]
  },
  {
   "cell_type": "code",
   "execution_count": 9,
   "id": "f20616b8",
   "metadata": {},
   "outputs": [
    {
     "data": {
      "text/plain": [
       "array([[[0.00000000e+000, 9.88131292e-322, 0.00000000e+000,\n",
       "         0.00000000e+000, 0.00000000e+000],\n",
       "        [5.02034658e+175, 6.74814565e-067, 3.70077714e-033,\n",
       "         2.73961490e-057, 1.18996261e-075],\n",
       "        [7.48678488e-144, 3.59751658e+252, 3.96046095e+246,\n",
       "         1.04918621e-153, 7.69165785e+218]],\n",
       "\n",
       "       [[3.22068560e+257, 1.04918335e-153, 9.08366793e+223,\n",
       "         6.74814565e-067, 3.70077714e-033],\n",
       "        [2.73961490e-057, 1.18996261e-075, 1.04914908e-153,\n",
       "         1.94918966e-153, 1.68891033e-052],\n",
       "        [6.36601159e-062, 1.69053530e-052, 2.59027896e-144,\n",
       "         7.79952704e-143, 5.81186265e+294]]])"
      ]
     },
     "execution_count": 9,
     "metadata": {},
     "output_type": "execute_result"
    }
   ],
   "source": [
    "dhs = np.random.randn(N, T, H)\n",
    "dxs = np.empty((N, T, D))\n",
    "dxs"
   ]
  },
  {
   "cell_type": "code",
   "execution_count": 10,
   "id": "6bfad3a9",
   "metadata": {},
   "outputs": [],
   "source": [
    "dh = 0\n",
    "grads = [0, 0, 0]\n",
    "\n",
    "layer = layers[0]\n",
    "dx, dh_prev = layer.backward(dhs[:, 2, :] + dh)\n",
    "dx, dh_prev\n",
    "dxs[:, 2, :] = dx\n",
    "for i, grad in enumerate(layer.grads):\n",
    "    grads[i] += grad"
   ]
  },
  {
   "cell_type": "code",
   "execution_count": 11,
   "id": "d41e69ff",
   "metadata": {},
   "outputs": [
    {
     "data": {
      "text/plain": [
       "(5, 4)"
      ]
     },
     "execution_count": 11,
     "metadata": {},
     "output_type": "execute_result"
    }
   ],
   "source": [
    "layer.grads[0].shape"
   ]
  },
  {
   "cell_type": "code",
   "execution_count": 12,
   "id": "f0172937",
   "metadata": {},
   "outputs": [
    {
     "name": "stdout",
     "output_type": "stream",
     "text": [
      "0 [[ 0.19728678 -0.61887071  0.04514434 -0.23862808]\n",
      " [-0.16335305  0.51147772 -0.04477455  0.18216294]\n",
      " [-0.32001223  1.00263332 -0.08273312  0.36724825]\n",
      " [-0.04401048  0.13851863 -0.00646096  0.06076011]\n",
      " [ 0.08118535 -0.25493021  0.01655129 -0.10242243]]\n",
      "1 [[ 0.26036708 -0.8178853   0.05068671 -0.33346885]\n",
      " [-0.29567559  0.92865969 -0.0586503   0.37641792]\n",
      " [-0.2520146   0.79162311 -0.04925399  0.32236822]\n",
      " [ 0.29223222 -0.91786176  0.05783413 -0.37231187]]\n",
      "2 [[-0.32103184  1.00631508 -0.07918761  0.37636125]\n",
      " [-0.32103184  1.00631508 -0.07918761  0.37636125]]\n"
     ]
    }
   ],
   "source": [
    "for i, grad in enumerate(layer.grads):\n",
    "    print(i, grad)"
   ]
  },
  {
   "cell_type": "code",
   "execution_count": null,
   "id": "1d9a1feb",
   "metadata": {},
   "outputs": [],
   "source": []
  },
  {
   "cell_type": "code",
   "execution_count": 13,
   "id": "83da0de2",
   "metadata": {},
   "outputs": [],
   "source": [
    "from common.layers import *"
   ]
  },
  {
   "cell_type": "code",
   "execution_count": 98,
   "id": "9563dbd3",
   "metadata": {},
   "outputs": [],
   "source": [
    "class TimeEmbedding:\n",
    "    def __init__(self, W):\n",
    "        self.params = [W]\n",
    "        self.grads = [np.zeros_like(W)]\n",
    "        self.layers = None\n",
    "        self.W = W\n",
    "        \n",
    "    def forward(self, xs):\n",
    "        N, T = xs.shape\n",
    "        V, D = self.W.shape\n",
    "        \n",
    "        out = np.empty((N, T, D), dtype='f')\n",
    "        self.layers = []\n",
    "        \n",
    "        for t in range(T):\n",
    "            layer = Embedding(self.W)\n",
    "            out[:, t, :] = layer.forward(xs[:, t])\n",
    "            self.layers.append(layer)\n",
    "            \n",
    "        return out\n",
    "    \n",
    "    def backward(self, dout):\n",
    "        N, T, D = dout.shape\n",
    "        \n",
    "        grad = 0\n",
    "        for t in range(T):\n",
    "            layer = self.layers[t]\n",
    "            layer.backward(dout[:, t, :])\n",
    "            grad += layer.grads[0]\n",
    "            \n",
    "        self.grads[0][...] = grad\n",
    "        return None"
   ]
  },
  {
   "cell_type": "code",
   "execution_count": null,
   "id": "28f5e215",
   "metadata": {},
   "outputs": [],
   "source": []
  },
  {
   "cell_type": "code",
   "execution_count": 14,
   "id": "d71c0bb9",
   "metadata": {},
   "outputs": [
    {
     "data": {
      "text/plain": [
       "array([[0., 0., 0.],\n",
       "       [0., 0., 0.]])"
      ]
     },
     "execution_count": 14,
     "metadata": {},
     "output_type": "execute_result"
    }
   ],
   "source": [
    "W = np.random.randn(2,3)\n",
    "grads = [np.zeros_like(W)]\n",
    "grads[0]"
   ]
  },
  {
   "cell_type": "code",
   "execution_count": 15,
   "id": "dd8b2935",
   "metadata": {},
   "outputs": [
    {
     "data": {
      "text/plain": [
       "[array([[0., 0., 0.],\n",
       "        [0., 0., 0.]])]"
      ]
     },
     "execution_count": 15,
     "metadata": {},
     "output_type": "execute_result"
    }
   ],
   "source": [
    "grads"
   ]
  },
  {
   "cell_type": "code",
   "execution_count": null,
   "id": "ca98fe06",
   "metadata": {},
   "outputs": [],
   "source": []
  },
  {
   "cell_type": "code",
   "execution_count": 93,
   "id": "d5897b7b",
   "metadata": {},
   "outputs": [],
   "source": [
    "class TimeAffine:\n",
    "    def __init__(self, W, b):\n",
    "        self.params = [W, b]\n",
    "        self.grads = [np.zeros_like(W), np.zeros_like(b)]\n",
    "        self.x = None\n",
    "        \n",
    "    def forward(self, x):\n",
    "        N, T, D = x.shape\n",
    "        W, b = self.params\n",
    "        \n",
    "        rx = x.reshape(N*T, -1)\n",
    "        out = np.dot(rx, W) + b\n",
    "        self.x = x\n",
    "        return out.reshape(N, T, -1)\n",
    "    \n",
    "    def backward(self, dout):\n",
    "        x = self.x\n",
    "        N, T, D = x.shape\n",
    "        W, b = self.params\n",
    "        \n",
    "        dout = dout.reshape(N*T, -1)\n",
    "        rx = x.reshape(N*T, -1)\n",
    "        \n",
    "        db = np.sum(dout, axis=0)\n",
    "        dW = np.dot(rx.T, dout)\n",
    "        dx = np.dot(dout, W.T)\n",
    "        dx = dx.reshape(*x.shape)\n",
    "        \n",
    "        self.grads[0][...] = dW\n",
    "        self.grads[1][...] = db\n",
    "        \n",
    "        return dx"
   ]
  },
  {
   "cell_type": "code",
   "execution_count": null,
   "id": "e867f478",
   "metadata": {},
   "outputs": [],
   "source": []
  },
  {
   "cell_type": "code",
   "execution_count": 94,
   "id": "9eca5ecc",
   "metadata": {},
   "outputs": [],
   "source": [
    "class TimeSoftmaxWithLoss:\n",
    "    def __init__(self):\n",
    "        self.params = []\n",
    "        self.grads = []\n",
    "        self.cache = None\n",
    "        self.ignore_label = -1\n",
    "        \n",
    "    def forward(self, xs, ts):\n",
    "        N, T, V = xs.shape\n",
    "        \n",
    "        if ts.ndim == 3:\n",
    "            ts = ts.argmax(axis=2)\n",
    "            \n",
    "        mask = (ts != self.ignore_label)\n",
    "        \n",
    "        xs = xs.reshape(N*T, V)\n",
    "        ts = ts.reshape(N*T)\n",
    "        mask = mask.reshape(N*T)\n",
    "        \n",
    "        ys = softmax(xs)\n",
    "        ls = np.log(ys[np.arange(N*T), ts])\n",
    "        ls *= mask\n",
    "        loss = -np.sum(ls)\n",
    "        loss /= mask.sum()\n",
    "        \n",
    "        self.cache = (ts, ys, mask, (N, T, V))\n",
    "        return loss\n",
    "    \n",
    "    def backward(self, dout=1):\n",
    "        ts, ys, mask, (N, T, V) = self.cache\n",
    "        \n",
    "        dx = ys\n",
    "        dx[np.arange(N*T), ts] -= 1\n",
    "        dx *= dout\n",
    "        dx /= mask.sum()\n",
    "        dx *= mask[:, np.newaxis]\n",
    "        \n",
    "        dx = dx.reshape((N,T,V))\n",
    "        \n",
    "        return dx"
   ]
  },
  {
   "cell_type": "code",
   "execution_count": 48,
   "id": "907bb6cf",
   "metadata": {},
   "outputs": [],
   "source": [
    "ignore_label = -1\n",
    "xs = np.random.randn(2,3)\n",
    "ts = np.array([[0,0,1], [0,0,0]])"
   ]
  },
  {
   "cell_type": "code",
   "execution_count": 49,
   "id": "a7cc988e",
   "metadata": {},
   "outputs": [
    {
     "data": {
      "text/plain": [
       "array([2, 0])"
      ]
     },
     "execution_count": 49,
     "metadata": {},
     "output_type": "execute_result"
    }
   ],
   "source": [
    "ts = ts.argmax(axis=1)\n",
    "ts"
   ]
  },
  {
   "cell_type": "code",
   "execution_count": 50,
   "id": "15fef24e",
   "metadata": {},
   "outputs": [],
   "source": [
    "mask = (ts != ignore_label)"
   ]
  },
  {
   "cell_type": "code",
   "execution_count": 36,
   "id": "be9545b2",
   "metadata": {},
   "outputs": [],
   "source": [
    "ys = softmax(xs)"
   ]
  },
  {
   "cell_type": "code",
   "execution_count": 37,
   "id": "f9f48460",
   "metadata": {},
   "outputs": [
    {
     "data": {
      "text/plain": [
       "[array([0, 1]), array([2, 0])]"
      ]
     },
     "execution_count": 37,
     "metadata": {},
     "output_type": "execute_result"
    }
   ],
   "source": [
    "[np.arange(2), ts]"
   ]
  },
  {
   "cell_type": "code",
   "execution_count": 42,
   "id": "82d333af",
   "metadata": {},
   "outputs": [
    {
     "data": {
      "text/plain": [
       "array([-2.26618235, -0.18814754])"
      ]
     },
     "execution_count": 42,
     "metadata": {},
     "output_type": "execute_result"
    }
   ],
   "source": [
    "ls = np.log(ys[np.arange(2), ts])\n",
    "ls"
   ]
  },
  {
   "cell_type": "code",
   "execution_count": 46,
   "id": "fbc63e17",
   "metadata": {},
   "outputs": [
    {
     "data": {
      "text/plain": [
       "2.454329894576318"
      ]
     },
     "execution_count": 46,
     "metadata": {},
     "output_type": "execute_result"
    }
   ],
   "source": [
    "ls *= mask\n",
    "loss = -np.sum(ls)\n",
    "loss"
   ]
  },
  {
   "cell_type": "code",
   "execution_count": 47,
   "id": "4d2e4bd9",
   "metadata": {},
   "outputs": [],
   "source": [
    "loss /= mask.sum()"
   ]
  },
  {
   "cell_type": "code",
   "execution_count": null,
   "id": "22673260",
   "metadata": {},
   "outputs": [],
   "source": []
  },
  {
   "cell_type": "code",
   "execution_count": 99,
   "id": "b1b66cfc",
   "metadata": {},
   "outputs": [],
   "source": [
    "### RNNLM 구현\n",
    "class SimpleRnnlm:\n",
    "    def __init__(self, vocab_size, wordvec_size, hidden_size):\n",
    "        V, D, H = vocab_size, wordvec_size, hidden_size\n",
    "        \n",
    "        embed_W = (np.random.randn(V,D) / 100).astype('f')\n",
    "        rnn_Wx = (np.random.randn(D,H) / np.sqrt(D)).astype('f')\n",
    "        rnn_Wh = (np.random.randn(H,H) / np.sqrt(H)).astype('f')\n",
    "        rnn_b = np.zeros(H).astype('f')\n",
    "        affine_W = (np.random.randn(H,V) / np.sqrt(H)).astype('f')\n",
    "        affine_b = np.zeros(V).astype('f')\n",
    "        \n",
    "        self.layers = [\n",
    "            TimeEmbedding(embed_W),\n",
    "            TimeRNN(rnn_Wx, rnn_Wh, rnn_b, stateful=True),\n",
    "            TimeAffine(affine_W, affine_b)\n",
    "        ]\n",
    "        self.loss_layer = TimeSoftmaxWithLoss()\n",
    "        self.rnn_layer = self.layers[1]\n",
    "        \n",
    "        self.params = []\n",
    "        self.grads = []\n",
    "        for layer in self.layers:\n",
    "            self.params += layer.params\n",
    "            self.grads += layer.grads\n",
    "            \n",
    "    def forward(self, xs, ts):\n",
    "        for layer in self.layers:\n",
    "            xs = layer.forward(xs)      \n",
    "        loss = self.loss_layer.forward(xs, ts)\n",
    "        return loss\n",
    "    \n",
    "    def backward(self, dout=1):\n",
    "        dout = self.loss_layer.backward(dout)\n",
    "        for layer in reversed(self.layers):\n",
    "            dout = layer.backward(dout)   \n",
    "        return dout\n",
    "    \n",
    "    def reset_state(self):\n",
    "        self.rnn_layer.reset_state()"
   ]
  },
  {
   "cell_type": "code",
   "execution_count": null,
   "id": "6e07952a",
   "metadata": {},
   "outputs": [],
   "source": []
  },
  {
   "cell_type": "code",
   "execution_count": 84,
   "id": "3893f1be",
   "metadata": {},
   "outputs": [],
   "source": [
    "from common.optimizer import SGD\n",
    "from dataset import ptb"
   ]
  },
  {
   "cell_type": "code",
   "execution_count": 118,
   "id": "4ca311a9",
   "metadata": {},
   "outputs": [
    {
     "name": "stdout",
     "output_type": "stream",
     "text": [
      "말뭉치 크기: 1000, 어휘 수: 418\n",
      "| 에폭 1 | 퍼플렉서티 386.63573886045356\n",
      "| 에폭 2 | 퍼플렉서티 254.45184838343573\n",
      "| 에폭 3 | 퍼플렉서티 223.84327488732077\n",
      "| 에폭 4 | 퍼플렉서티 213.3841093771167\n",
      "| 에폭 5 | 퍼플렉서티 204.6786788390891\n",
      "| 에폭 6 | 퍼플렉서티 202.24649472226182\n",
      "| 에폭 7 | 퍼플렉서티 197.73296674073498\n",
      "| 에폭 8 | 퍼플렉서티 196.79936410083113\n",
      "| 에폭 9 | 퍼플렉서티 191.02847513545132\n",
      "| 에폭 10 | 퍼플렉서티 192.7155327117058\n",
      "| 에폭 11 | 퍼플렉서티 187.87836486586866\n",
      "| 에폭 12 | 퍼플렉서티 192.04890466632725\n",
      "| 에폭 13 | 퍼플렉서티 189.9578534501077\n",
      "| 에폭 14 | 퍼플렉서티 189.85986885969285\n",
      "| 에폭 15 | 퍼플렉서티 188.7514163875996\n",
      "| 에폭 16 | 퍼플렉서티 185.54229998423074\n",
      "| 에폭 17 | 퍼플렉서티 184.00253183755476\n",
      "| 에폭 18 | 퍼플렉서티 182.09729718014066\n",
      "| 에폭 19 | 퍼플렉서티 182.42969658061273\n",
      "| 에폭 20 | 퍼플렉서티 182.74786138906316\n",
      "| 에폭 21 | 퍼플렉서티 181.95192413913247\n",
      "| 에폭 22 | 퍼플렉서티 179.66961172187882\n",
      "| 에폭 23 | 퍼플렉서티 175.9808427926152\n",
      "| 에폭 24 | 퍼플렉서티 176.49512369948977\n",
      "| 에폭 25 | 퍼플렉서티 174.8065029941897\n",
      "| 에폭 26 | 퍼플렉서티 175.798662077773\n",
      "| 에폭 27 | 퍼플렉서티 170.91136139868095\n",
      "| 에폭 28 | 퍼플렉서티 169.55415912026768\n",
      "| 에폭 29 | 퍼플렉서티 167.53752494556943\n",
      "| 에폭 30 | 퍼플렉서티 160.5769227115466\n",
      "| 에폭 31 | 퍼플렉서티 167.27400676208828\n",
      "| 에폭 32 | 퍼플렉서티 162.07045016990844\n",
      "| 에폭 33 | 퍼플렉서티 157.4699254715515\n",
      "| 에폭 34 | 퍼플렉서티 156.24990557765534\n",
      "| 에폭 35 | 퍼플렉서티 154.97209160018886\n",
      "| 에폭 36 | 퍼플렉서티 147.7506101291402\n",
      "| 에폭 37 | 퍼플렉서티 145.59771954067045\n",
      "| 에폭 38 | 퍼플렉서티 141.7434770281335\n",
      "| 에폭 39 | 퍼플렉서티 138.5090503452185\n",
      "| 에폭 40 | 퍼플렉서티 132.2778932889039\n",
      "| 에폭 41 | 퍼플렉서티 133.8097935471095\n",
      "| 에폭 42 | 퍼플렉서티 126.18055582822002\n",
      "| 에폭 43 | 퍼플렉서티 122.59694121820931\n",
      "| 에폭 44 | 퍼플렉서티 117.18292445110283\n",
      "| 에폭 45 | 퍼플렉서티 113.31004658584123\n",
      "| 에폭 46 | 퍼플렉서티 111.54445754802391\n",
      "| 에폭 47 | 퍼플렉서티 108.96334018674231\n",
      "| 에폭 48 | 퍼플렉서티 102.84070448268618\n",
      "| 에폭 49 | 퍼플렉서티 96.22150063572336\n",
      "| 에폭 50 | 퍼플렉서티 93.23522677694444\n",
      "| 에폭 51 | 퍼플렉서티 89.20689190754356\n",
      "| 에폭 52 | 퍼플렉서티 85.9627038506091\n",
      "| 에폭 53 | 퍼플렉서티 80.91502238234173\n",
      "| 에폭 54 | 퍼플렉서티 77.17267440245939\n",
      "| 에폭 55 | 퍼플렉서티 74.88455546356982\n",
      "| 에폭 56 | 퍼플렉서티 71.28634026826134\n",
      "| 에폭 57 | 퍼플렉서티 67.16711108827081\n",
      "| 에폭 58 | 퍼플렉서티 63.487059728655815\n",
      "| 에폭 59 | 퍼플렉서티 59.569847385874255\n",
      "| 에폭 60 | 퍼플렉서티 56.774648767156656\n",
      "| 에폭 61 | 퍼플렉서티 55.55966833870889\n",
      "| 에폭 62 | 퍼플렉서티 51.460542521169835\n",
      "| 에폭 63 | 퍼플렉서티 47.51676151254897\n",
      "| 에폭 64 | 퍼플렉서티 45.32400257045877\n",
      "| 에폭 65 | 퍼플렉서티 43.01057929692537\n",
      "| 에폭 66 | 퍼플렉서티 40.677807693556126\n",
      "| 에폭 67 | 퍼플렉서티 38.62187001308915\n",
      "| 에폭 68 | 퍼플렉서티 35.48236929881525\n",
      "| 에폭 69 | 퍼플렉서티 34.17647053843022\n",
      "| 에폭 70 | 퍼플렉서티 31.99212487975597\n",
      "| 에폭 71 | 퍼플렉서티 31.267648586157314\n",
      "| 에폭 72 | 퍼플렉서티 29.153618079668462\n",
      "| 에폭 73 | 퍼플렉서티 27.115872552773425\n",
      "| 에폭 74 | 퍼플렉서티 25.01863159409482\n",
      "| 에폭 75 | 퍼플렉서티 24.3659855087852\n",
      "| 에폭 76 | 퍼플렉서티 22.186832843062618\n",
      "| 에폭 77 | 퍼플렉서티 20.915116755152052\n",
      "| 에폭 78 | 퍼플렉서티 19.85845651706616\n",
      "| 에폭 79 | 퍼플렉서티 18.692792732941548\n",
      "| 에폭 80 | 퍼플렉서티 17.482833529651536\n",
      "| 에폭 81 | 퍼플렉서티 16.711799318146436\n",
      "| 에폭 82 | 퍼플렉서티 15.937789770110943\n",
      "| 에폭 83 | 퍼플렉서티 15.04194364889527\n",
      "| 에폭 84 | 퍼플렉서티 13.94891371608894\n",
      "| 에폭 85 | 퍼플렉서티 13.516324198107386\n",
      "| 에폭 86 | 퍼플렉서티 12.343072869229815\n",
      "| 에폭 87 | 퍼플렉서티 13.006531053034408\n",
      "| 에폭 88 | 퍼플렉서티 11.369942627358439\n",
      "| 에폭 89 | 퍼플렉서티 10.59584462381028\n",
      "| 에폭 90 | 퍼플렉서티 9.987661599856308\n",
      "| 에폭 91 | 퍼플렉서티 9.383992118934424\n",
      "| 에폭 92 | 퍼플렉서티 8.976146174967166\n",
      "| 에폭 93 | 퍼플렉서티 8.488948272234769\n",
      "| 에폭 94 | 퍼플렉서티 8.31506411653481\n",
      "| 에폭 95 | 퍼플렉서티 7.740201716541392\n",
      "| 에폭 96 | 퍼플렉서티 8.189270020019377\n",
      "| 에폭 97 | 퍼플렉서티 7.088061439004049\n",
      "| 에폭 98 | 퍼플렉서티 6.7476340117076266\n",
      "| 에폭 99 | 퍼플렉서티 6.79907476652445\n",
      "| 에폭 100 | 퍼플렉서티 6.178716220662519\n"
     ]
    }
   ],
   "source": [
    "### RNNLM의 학습 코드\n",
    "batch_size = 10\n",
    "wordvec_size = 100\n",
    "hidden_size = 100\n",
    "time_size = 5\n",
    "lr = 0.1\n",
    "max_epoch = 100\n",
    "\n",
    "# 학습 데이터 읽기 (전체 중 1000개만)\n",
    "corpus, word_to_id, id_to_word = ptb.load_data('train')\n",
    "corpus_size = 1000\n",
    "corpus = corpus[:corpus_size]\n",
    "vocab_size = int(max(corpus) + 1)\n",
    "\n",
    "xs = corpus[:-1]\n",
    "ts = corpus[1:]\n",
    "data_size = len(xs)\n",
    "print(f'말뭉치 크기: {corpus_size}, 어휘 수: {vocab_size}')\n",
    "\n",
    "# 학습 시 사용하는 변수\n",
    "max_iters = data_size // (batch_size * time_size)\n",
    "time_idx = 0\n",
    "total_loss = 0\n",
    "loss_count = 0\n",
    "ppl_list = []\n",
    "\n",
    "# 모델 생성\n",
    "model = SimpleRnnlm(vocab_size, wordvec_size, hidden_size)\n",
    "optimizer = SGD(lr)\n",
    "\n",
    "jump = (corpus_size - 1) // batch_size\n",
    "offsets = [i * jump for i in range(batch_size)]\n",
    "\n",
    "for epoch in range(max_epoch):\n",
    "    for iter in range(max_iters):\n",
    "        batch_x = np.empty((batch_size, time_size), dtype='i')\n",
    "        batch_t = np.empty((batch_size, time_size), dtype='i')\n",
    "        for t in range(time_size):\n",
    "            for i, offset in enumerate(offsets):\n",
    "                batch_x[i, t] = xs[(offset + time_idx) % data_size]\n",
    "                batch_t[i, t] = ts[(offset + time_idx) % data_size]\n",
    "            time_idx += 1\n",
    "            \n",
    "        loss = model.forward(batch_x, batch_t)\n",
    "        model.backward()\n",
    "        optimizer.update(model.params, model.grads)\n",
    "        total_loss += loss\n",
    "        loss_count += 1\n",
    "    \n",
    "    ppl = np.exp(total_loss / loss_count)\n",
    "    print(f'| 에폭 {epoch+1} | 퍼플렉서티 {ppl}')\n",
    "    ppl_list.append(float(ppl))\n",
    "    total_loss, loss_count = 0, 0"
   ]
  },
  {
   "cell_type": "code",
   "execution_count": null,
   "id": "df35cb37",
   "metadata": {},
   "outputs": [],
   "source": []
  },
  {
   "cell_type": "code",
   "execution_count": 115,
   "id": "e134f0b2",
   "metadata": {},
   "outputs": [],
   "source": [
    "batch_x = np.empty((10,5), dtype='i')\n",
    "batch_t = np.empty((10,5), dtype='i')\n",
    "for i, offset in enumerate(offsets):\n",
    "    batch_x[i,0] = xs[(offset + 0) % 999]"
   ]
  },
  {
   "cell_type": "code",
   "execution_count": 116,
   "id": "439e9242",
   "metadata": {},
   "outputs": [
    {
     "data": {
      "text/plain": [
       "array([[  0, 242,  42,  61,  26],\n",
       "       [ 42, 229,  27, 277, 275],\n",
       "       [ 26, 305,  24, 141, 119],\n",
       "       [ 24,  27, 169,  27,  27],\n",
       "       [208,  64, 388, 380, 229],\n",
       "       [ 26,  27, 187, 417,  32],\n",
       "       [274,  75,  35,  46,  42],\n",
       "       [ 88, 127,  24,  35,  26],\n",
       "       [ 42,  48, 164, 174,  24],\n",
       "       [339,  48,  26,  54, 208]], dtype=int32)"
      ]
     },
     "execution_count": 116,
     "metadata": {},
     "output_type": "execute_result"
    }
   ],
   "source": [
    "batch_x"
   ]
  },
  {
   "cell_type": "code",
   "execution_count": 117,
   "id": "8f98f683",
   "metadata": {},
   "outputs": [
    {
     "data": {
      "text/plain": [
       "42"
      ]
     },
     "execution_count": 117,
     "metadata": {},
     "output_type": "execute_result"
    }
   ],
   "source": [
    "xs[99]"
   ]
  },
  {
   "cell_type": "code",
   "execution_count": 112,
   "id": "974a8749",
   "metadata": {},
   "outputs": [
    {
     "data": {
      "text/plain": [
       "198"
      ]
     },
     "execution_count": 112,
     "metadata": {},
     "output_type": "execute_result"
    }
   ],
   "source": [
    "198 % 999"
   ]
  },
  {
   "cell_type": "code",
   "execution_count": 111,
   "id": "f39c0d7d",
   "metadata": {},
   "outputs": [
    {
     "data": {
      "text/plain": [
       "999"
      ]
     },
     "execution_count": 111,
     "metadata": {},
     "output_type": "execute_result"
    }
   ],
   "source": [
    "data_size"
   ]
  },
  {
   "cell_type": "code",
   "execution_count": 113,
   "id": "69f342aa",
   "metadata": {},
   "outputs": [
    {
     "data": {
      "text/plain": [
       "3"
      ]
     },
     "execution_count": 113,
     "metadata": {},
     "output_type": "execute_result"
    }
   ],
   "source": [
    "3 % 10"
   ]
  },
  {
   "cell_type": "code",
   "execution_count": 114,
   "id": "74129b34",
   "metadata": {},
   "outputs": [
    {
     "data": {
      "text/plain": [
       "0"
      ]
     },
     "execution_count": 114,
     "metadata": {},
     "output_type": "execute_result"
    }
   ],
   "source": [
    "6 % 2"
   ]
  },
  {
   "cell_type": "code",
   "execution_count": null,
   "id": "dd11633d",
   "metadata": {},
   "outputs": [],
   "source": []
  },
  {
   "cell_type": "code",
   "execution_count": 121,
   "id": "d97a9c87",
   "metadata": {},
   "outputs": [
    {
     "data": {
      "image/png": "[encoded data removed]",
      "text/plain": [
       "<Figure size 432x288 with 1 Axes>"
      ]
     },
     "metadata": {
      "needs_background": "light"
     },
     "output_type": "display_data"
    }
   ],
   "source": [
    "### 퍼플렉서티 그래프\n",
    "x = np.arange(len(ppl_list))\n",
    "plt.plot(x, ppl_list)\n",
    "plt.xlabel('epochs')\n",
    "plt.ylabel('perplexity')\n",
    "plt.show()"
   ]
  },
  {
   "cell_type": "code",
   "execution_count": null,
   "id": "17c70944",
   "metadata": {},
   "outputs": [],
   "source": []
  },
  {
   "cell_type": "code",
   "execution_count": 122,
   "id": "7236d3ea",
   "metadata": {},
   "outputs": [],
   "source": [
    "from common.trainer import RnnlmTrainer"
   ]
  },
  {
   "cell_type": "code",
   "execution_count": 123,
   "id": "a67fa01c",
   "metadata": {},
   "outputs": [],
   "source": [
    "batch_size = 10\n",
    "wordvec_size = 100\n",
    "hidden_size = 100\n",
    "time_size = 5\n",
    "lr = 0.1\n",
    "max_epoch = 100\n",
    "\n",
    "corpus, word_to_id, id_to_word = ptb.load_data('train')\n",
    "corpus_size = 1000\n",
    "corpus = corpus[:corpus_size]\n",
    "vocab_size = int(max(corpus) + 1)\n",
    "xs = corpus[:-1]\n",
    "ts = corpus[1:]"
   ]
  },
  {
   "cell_type": "code",
   "execution_count": 125,
   "id": "544e525e",
   "metadata": {},
   "outputs": [
    {
     "name": "stdout",
     "output_type": "stream",
     "text": [
      "| 에폭 1 |  반복 1 / 19 | 시간 0[s] | 퍼플렉서티 418.85\n",
      "| 에폭 2 |  반복 1 / 19 | 시간 0[s] | 퍼플렉서티 385.04\n",
      "| 에폭 3 |  반복 1 / 19 | 시간 0[s] | 퍼플렉서티 273.95\n",
      "| 에폭 4 |  반복 1 / 19 | 시간 0[s] | 퍼플렉서티 223.48\n",
      "| 에폭 5 |  반복 1 / 19 | 시간 0[s] | 퍼플렉서티 211.91\n",
      "| 에폭 6 |  반복 1 / 19 | 시간 0[s] | 퍼플렉서티 210.71\n",
      "| 에폭 7 |  반복 1 / 19 | 시간 0[s] | 퍼플렉서티 202.69\n",
      "| 에폭 8 |  반복 1 / 19 | 시간 0[s] | 퍼플렉서티 201.72\n",
      "| 에폭 9 |  반복 1 / 19 | 시간 0[s] | 퍼플렉서티 196.02\n",
      "| 에폭 10 |  반복 1 / 19 | 시간 0[s] | 퍼플렉서티 191.13\n",
      "| 에폭 11 |  반복 1 / 19 | 시간 1[s] | 퍼플렉서티 193.53\n",
      "| 에폭 12 |  반복 1 / 19 | 시간 1[s] | 퍼플렉서티 189.90\n",
      "| 에폭 13 |  반복 1 / 19 | 시간 1[s] | 퍼플렉서티 193.01\n",
      "| 에폭 14 |  반복 1 / 19 | 시간 1[s] | 퍼플렉서티 186.66\n",
      "| 에폭 15 |  반복 1 / 19 | 시간 1[s] | 퍼플렉서티 186.43\n",
      "| 에폭 16 |  반복 1 / 19 | 시간 1[s] | 퍼플렉서티 190.77\n",
      "| 에폭 17 |  반복 1 / 19 | 시간 1[s] | 퍼플렉서티 187.77\n",
      "| 에폭 18 |  반복 1 / 19 | 시간 1[s] | 퍼플렉서티 182.99\n",
      "| 에폭 19 |  반복 1 / 19 | 시간 2[s] | 퍼플렉서티 180.24\n",
      "| 에폭 20 |  반복 1 / 19 | 시간 2[s] | 퍼플렉서티 181.64\n",
      "| 에폭 21 |  반복 1 / 19 | 시간 2[s] | 퍼플렉서티 177.45\n",
      "| 에폭 22 |  반복 1 / 19 | 시간 2[s] | 퍼플렉서티 176.70\n",
      "| 에폭 23 |  반복 1 / 19 | 시간 2[s] | 퍼플렉서티 177.17\n",
      "| 에폭 24 |  반복 1 / 19 | 시간 2[s] | 퍼플렉서티 173.62\n",
      "| 에폭 25 |  반복 1 / 19 | 시간 2[s] | 퍼플렉서티 170.91\n",
      "| 에폭 26 |  반복 1 / 19 | 시간 2[s] | 퍼플렉서티 170.56\n",
      "| 에폭 27 |  반복 1 / 19 | 시간 2[s] | 퍼플렉서티 166.49\n",
      "| 에폭 28 |  반복 1 / 19 | 시간 3[s] | 퍼플렉서티 166.27\n",
      "| 에폭 29 |  반복 1 / 19 | 시간 3[s] | 퍼플렉서티 162.23\n",
      "| 에폭 30 |  반복 1 / 19 | 시간 3[s] | 퍼플렉서티 154.76\n",
      "| 에폭 31 |  반복 1 / 19 | 시간 3[s] | 퍼플렉서티 156.39\n",
      "| 에폭 32 |  반복 1 / 19 | 시간 3[s] | 퍼플렉서티 148.31\n",
      "| 에폭 33 |  반복 1 / 19 | 시간 3[s] | 퍼플렉서티 148.35\n",
      "| 에폭 34 |  반복 1 / 19 | 시간 3[s] | 퍼플렉서티 146.34\n",
      "| 에폭 35 |  반복 1 / 19 | 시간 4[s] | 퍼플렉서티 137.77\n",
      "| 에폭 36 |  반복 1 / 19 | 시간 4[s] | 퍼플렉서티 135.04\n",
      "| 에폭 37 |  반복 1 / 19 | 시간 4[s] | 퍼플렉서티 134.05\n",
      "| 에폭 38 |  반복 1 / 19 | 시간 4[s] | 퍼플렉서티 126.04\n",
      "| 에폭 39 |  반복 1 / 19 | 시간 4[s] | 퍼플렉서티 121.88\n",
      "| 에폭 40 |  반복 1 / 19 | 시간 4[s] | 퍼플렉서티 117.63\n",
      "| 에폭 41 |  반복 1 / 19 | 시간 4[s] | 퍼플렉서티 112.72\n",
      "| 에폭 42 |  반복 1 / 19 | 시간 4[s] | 퍼플렉서티 110.47\n",
      "| 에폭 43 |  반복 1 / 19 | 시간 4[s] | 퍼플렉서티 105.20\n",
      "| 에폭 44 |  반복 1 / 19 | 시간 5[s] | 퍼플렉서티 100.35\n",
      "| 에폭 45 |  반복 1 / 19 | 시간 5[s] | 퍼플렉서티 95.89\n",
      "| 에폭 46 |  반복 1 / 19 | 시간 5[s] | 퍼플렉서티 91.30\n",
      "| 에폭 47 |  반복 1 / 19 | 시간 5[s] | 퍼플렉서티 89.01\n",
      "| 에폭 48 |  반복 1 / 19 | 시간 5[s] | 퍼플렉서티 85.68\n",
      "| 에폭 49 |  반복 1 / 19 | 시간 5[s] | 퍼플렉서티 83.90\n",
      "| 에폭 50 |  반복 1 / 19 | 시간 5[s] | 퍼플렉서티 75.84\n",
      "| 에폭 51 |  반복 1 / 19 | 시간 5[s] | 퍼플렉서티 74.70\n",
      "| 에폭 52 |  반복 1 / 19 | 시간 5[s] | 퍼플렉서티 69.86\n",
      "| 에폭 53 |  반복 1 / 19 | 시간 5[s] | 퍼플렉서티 68.12\n",
      "| 에폭 54 |  반복 1 / 19 | 시간 6[s] | 퍼플렉서티 64.43\n",
      "| 에폭 55 |  반복 1 / 19 | 시간 6[s] | 퍼플렉서티 62.05\n",
      "| 에폭 56 |  반복 1 / 19 | 시간 6[s] | 퍼플렉서티 57.93\n",
      "| 에폭 57 |  반복 1 / 19 | 시간 6[s] | 퍼플렉서티 57.97\n",
      "| 에폭 58 |  반복 1 / 19 | 시간 6[s] | 퍼플렉서티 52.99\n",
      "| 에폭 59 |  반복 1 / 19 | 시간 6[s] | 퍼플렉서티 49.50\n",
      "| 에폭 60 |  반복 1 / 19 | 시간 6[s] | 퍼플렉서티 47.21\n",
      "| 에폭 61 |  반복 1 / 19 | 시간 6[s] | 퍼플렉서티 44.78\n",
      "| 에폭 62 |  반복 1 / 19 | 시간 6[s] | 퍼플렉서티 42.37\n",
      "| 에폭 63 |  반복 1 / 19 | 시간 7[s] | 퍼플렉서티 41.60\n",
      "| 에폭 64 |  반복 1 / 19 | 시간 7[s] | 퍼플렉서티 38.96\n",
      "| 에폭 65 |  반복 1 / 19 | 시간 7[s] | 퍼플렉서티 35.77\n",
      "| 에폭 66 |  반복 1 / 19 | 시간 7[s] | 퍼플렉서티 34.18\n",
      "| 에폭 67 |  반복 1 / 19 | 시간 7[s] | 퍼플렉서티 32.41\n",
      "| 에폭 68 |  반복 1 / 19 | 시간 7[s] | 퍼플렉서티 30.14\n",
      "| 에폭 69 |  반복 1 / 19 | 시간 7[s] | 퍼플렉서티 28.79\n",
      "| 에폭 70 |  반복 1 / 19 | 시간 7[s] | 퍼플렉서티 27.11\n",
      "| 에폭 71 |  반복 1 / 19 | 시간 7[s] | 퍼플렉서티 25.43\n",
      "| 에폭 72 |  반복 1 / 19 | 시간 7[s] | 퍼플렉서티 23.39\n",
      "| 에폭 73 |  반복 1 / 19 | 시간 8[s] | 퍼플렉서티 22.58\n",
      "| 에폭 74 |  반복 1 / 19 | 시간 8[s] | 퍼플렉서티 21.45\n",
      "| 에폭 75 |  반복 1 / 19 | 시간 8[s] | 퍼플렉서티 20.56\n",
      "| 에폭 76 |  반복 1 / 19 | 시간 8[s] | 퍼플렉서티 19.90\n",
      "| 에폭 77 |  반복 1 / 19 | 시간 8[s] | 퍼플렉서티 18.78\n",
      "| 에폭 78 |  반복 1 / 19 | 시간 8[s] | 퍼플렉서티 17.44\n",
      "| 에폭 79 |  반복 1 / 19 | 시간 8[s] | 퍼플렉서티 15.93\n",
      "| 에폭 80 |  반복 1 / 19 | 시간 8[s] | 퍼플렉서티 14.88\n",
      "| 에폭 81 |  반복 1 / 19 | 시간 8[s] | 퍼플렉서티 14.30\n",
      "| 에폭 82 |  반복 1 / 19 | 시간 8[s] | 퍼플렉서티 13.95\n",
      "| 에폭 83 |  반복 1 / 19 | 시간 9[s] | 퍼플렉서티 13.28\n",
      "| 에폭 84 |  반복 1 / 19 | 시간 9[s] | 퍼플렉서티 13.07\n",
      "| 에폭 85 |  반복 1 / 19 | 시간 9[s] | 퍼플렉서티 12.54\n",
      "| 에폭 86 |  반복 1 / 19 | 시간 9[s] | 퍼플렉서티 11.33\n",
      "| 에폭 87 |  반복 1 / 19 | 시간 9[s] | 퍼플렉서티 10.94\n",
      "| 에폭 88 |  반복 1 / 19 | 시간 9[s] | 퍼플렉서티 10.68\n",
      "| 에폭 89 |  반복 1 / 19 | 시간 9[s] | 퍼플렉서티 9.90\n",
      "| 에폭 90 |  반복 1 / 19 | 시간 9[s] | 퍼플렉서티 9.46\n",
      "| 에폭 91 |  반복 1 / 19 | 시간 9[s] | 퍼플렉서티 9.29\n",
      "| 에폭 92 |  반복 1 / 19 | 시간 10[s] | 퍼플렉서티 9.38\n",
      "| 에폭 93 |  반복 1 / 19 | 시간 10[s] | 퍼플렉서티 8.43\n",
      "| 에폭 94 |  반복 1 / 19 | 시간 10[s] | 퍼플렉서티 7.84\n",
      "| 에폭 95 |  반복 1 / 19 | 시간 10[s] | 퍼플렉서티 7.76\n",
      "| 에폭 96 |  반복 1 / 19 | 시간 10[s] | 퍼플렉서티 7.06\n",
      "| 에폭 97 |  반복 1 / 19 | 시간 10[s] | 퍼플렉서티 7.05\n",
      "| 에폭 98 |  반복 1 / 19 | 시간 10[s] | 퍼플렉서티 6.68\n",
      "| 에폭 99 |  반복 1 / 19 | 시간 10[s] | 퍼플렉서티 6.46\n",
      "| 에폭 100 |  반복 1 / 19 | 시간 10[s] | 퍼플렉서티 6.24\n"
     ]
    },
    {
     "name": "stderr",
     "output_type": "stream",
     "text": [
      "/opt/anaconda3/lib/python3.9/site-packages/matplotlib/backends/backend_agg.py:240: RuntimeWarning: Glyph 48152 missing from current font.\n",
      "  font.set_text(s, 0.0, flags=flags)\n",
      "/opt/anaconda3/lib/python3.9/site-packages/matplotlib/backends/backend_agg.py:240: RuntimeWarning: Glyph 48373 missing from current font.\n",
      "  font.set_text(s, 0.0, flags=flags)\n",
      "/opt/anaconda3/lib/python3.9/site-packages/matplotlib/backends/backend_agg.py:240: RuntimeWarning: Glyph 54140 missing from current font.\n",
      "  font.set_text(s, 0.0, flags=flags)\n",
      "/opt/anaconda3/lib/python3.9/site-packages/matplotlib/backends/backend_agg.py:240: RuntimeWarning: Glyph 54540 missing from current font.\n",
      "  font.set_text(s, 0.0, flags=flags)\n",
      "/opt/anaconda3/lib/python3.9/site-packages/matplotlib/backends/backend_agg.py:240: RuntimeWarning: Glyph 47113 missing from current font.\n",
      "  font.set_text(s, 0.0, flags=flags)\n",
      "/opt/anaconda3/lib/python3.9/site-packages/matplotlib/backends/backend_agg.py:240: RuntimeWarning: Glyph 49436 missing from current font.\n",
      "  font.set_text(s, 0.0, flags=flags)\n",
      "/opt/anaconda3/lib/python3.9/site-packages/matplotlib/backends/backend_agg.py:240: RuntimeWarning: Glyph 54000 missing from current font.\n",
      "  font.set_text(s, 0.0, flags=flags)\n",
      "/opt/anaconda3/lib/python3.9/site-packages/matplotlib/backends/backend_agg.py:203: RuntimeWarning: Glyph 48152 missing from current font.\n",
      "  font.set_text(s, 0, flags=flags)\n",
      "/opt/anaconda3/lib/python3.9/site-packages/matplotlib/backends/backend_agg.py:203: RuntimeWarning: Glyph 48373 missing from current font.\n",
      "  font.set_text(s, 0, flags=flags)\n",
      "/opt/anaconda3/lib/python3.9/site-packages/matplotlib/backends/backend_agg.py:203: RuntimeWarning: Glyph 54140 missing from current font.\n",
      "  font.set_text(s, 0, flags=flags)\n",
      "/opt/anaconda3/lib/python3.9/site-packages/matplotlib/backends/backend_agg.py:203: RuntimeWarning: Glyph 54540 missing from current font.\n",
      "  font.set_text(s, 0, flags=flags)\n",
      "/opt/anaconda3/lib/python3.9/site-packages/matplotlib/backends/backend_agg.py:203: RuntimeWarning: Glyph 47113 missing from current font.\n",
      "  font.set_text(s, 0, flags=flags)\n",
      "/opt/anaconda3/lib/python3.9/site-packages/matplotlib/backends/backend_agg.py:203: RuntimeWarning: Glyph 49436 missing from current font.\n",
      "  font.set_text(s, 0, flags=flags)\n",
      "/opt/anaconda3/lib/python3.9/site-packages/matplotlib/backends/backend_agg.py:203: RuntimeWarning: Glyph 54000 missing from current font.\n",
      "  font.set_text(s, 0, flags=flags)\n"
     ]
    },
    {
     "data": {
      "image/png": "[encoded data removed]",
      "text/plain": [
       "<Figure size 432x288 with 1 Axes>"
      ]
     },
     "metadata": {
      "needs_background": "light"
     },
     "output_type": "display_data"
    }
   ],
   "source": [
    "model = SimpleRnnlm(vocab_size, wordvec_size, hidden_size)\n",
    "optimizer = SGD(lr)\n",
    "trainer = RnnlmTrainer(model, optimizer)\n",
    "\n",
    "trainer.fit(xs, ts, max_epoch, batch_size, time_size)\n",
    "trainer.plot()"
   ]
  },
  {
   "cell_type": "code",
   "execution_count": null,
   "id": "1d9cbb00",
   "metadata": {},
   "outputs": [],
   "source": []
  },
  {
   "cell_type": "code",
   "execution_count": null,
   "id": "34f801fa",
   "metadata": {},
   "outputs": [],
   "source": []
  },
  {
   "cell_type": "code",
   "execution_count": null,
   "id": "c3462408",
   "metadata": {},
   "outputs": [],
   "source": []
  },
  {
   "cell_type": "code",
   "execution_count": null,
   "id": "17ff1297",
   "metadata": {},
   "outputs": [],
   "source": []
  },
  {
   "cell_type": "code",
   "execution_count": null,
   "id": "b00aacec",
   "metadata": {},
   "outputs": [],
   "source": []
  },
  {
   "cell_type": "code",
   "execution_count": null,
   "id": "f38bb952",
   "metadata": {},
   "outputs": [],
   "source": []
  },
  {
   "cell_type": "code",
   "execution_count": null,
   "id": "0a2bcedc",
   "metadata": {},
   "outputs": [],
   "source": []
  }
 ],
 "metadata": {
  "kernelspec": {
   "display_name": "Python 3 (ipykernel)",
   "language": "python",
   "name": "python3"
  },
  "language_info": {
   "codemirror_mode": {
    "name": "ipython",
    "version": 3
   },
   "file_extension": ".py",
   "mimetype": "text/x-python",
   "name": "python",
   "nbconvert_exporter": "python",
   "pygments_lexer": "ipython3",
   "version": "3.9.7"
  }
 },
 "nbformat": 4,
 "nbformat_minor": 5
}
