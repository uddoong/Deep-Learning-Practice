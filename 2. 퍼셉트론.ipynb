{
 "cells": [
  {
   "cell_type": "markdown",
   "id": "c2626cb0",
   "metadata": {},
   "source": [
    "### 2.3 퍼셉트론 구현하기"
   ]
  },
  {
   "cell_type": "code",
   "execution_count": 1,
   "id": "e0cd98c2",
   "metadata": {},
   "outputs": [],
   "source": [
    "def AND(x1, x2):\n",
    "    w1, w2, theta = 0.5, 0.5, 0.7\n",
    "    tmp = w1*x1 + w2*x2\n",
    "    if tmp > theta:\n",
    "        return 1\n",
    "    else:\n",
    "        return 0"
   ]
  },
  {
   "cell_type": "code",
   "execution_count": 6,
   "id": "eae729ef",
   "metadata": {},
   "outputs": [
    {
     "data": {
      "text/plain": [
       "1"
      ]
     },
     "execution_count": 6,
     "metadata": {},
     "output_type": "execute_result"
    }
   ],
   "source": [
    "AND(0,0)\n",
    "AND(0,1)\n",
    "AND(1,0)\n",
    "AND(1,1)"
   ]
  },
  {
   "cell_type": "code",
   "execution_count": null,
   "id": "d61fd416",
   "metadata": {},
   "outputs": [],
   "source": []
  },
  {
   "cell_type": "markdown",
   "id": "77ce4abc",
   "metadata": {},
   "source": [
    "### 2.3.2 가중치와 편향 도입"
   ]
  },
  {
   "cell_type": "code",
   "execution_count": 7,
   "id": "fed62bb5",
   "metadata": {},
   "outputs": [],
   "source": [
    "import numpy as np"
   ]
  },
  {
   "cell_type": "code",
   "execution_count": 9,
   "id": "0d8a3c9f",
   "metadata": {},
   "outputs": [],
   "source": [
    "x = np.array([0,1])\n",
    "w = [0.5,0.5]\n",
    "b = -0.7"
   ]
  },
  {
   "cell_type": "code",
   "execution_count": 12,
   "id": "a8900cc9",
   "metadata": {},
   "outputs": [
    {
     "data": {
      "text/plain": [
       "-0.19999999999999996"
      ]
     },
     "execution_count": 12,
     "metadata": {},
     "output_type": "execute_result"
    }
   ],
   "source": [
    "np.sum(w * x) + b"
   ]
  },
  {
   "cell_type": "code",
   "execution_count": null,
   "id": "0acaa10a",
   "metadata": {},
   "outputs": [],
   "source": []
  },
  {
   "cell_type": "markdown",
   "id": "2e785b22",
   "metadata": {},
   "source": [
    "### 2.3.3 가중치와 편향 구현하기"
   ]
  },
  {
   "cell_type": "code",
   "execution_count": 13,
   "id": "0a855c5a",
   "metadata": {},
   "outputs": [],
   "source": [
    "def AND(x1,x2):\n",
    "    x = np.array([x1,x2])\n",
    "    w = np.array([0.5,0.5])\n",
    "    b = -0.7\n",
    "    tmp = np.sum(w * x) + b\n",
    "    if tmp > 0:\n",
    "        return 1\n",
    "    else:\n",
    "        return 0"
   ]
  },
  {
   "cell_type": "code",
   "execution_count": 17,
   "id": "201d68b2",
   "metadata": {},
   "outputs": [],
   "source": [
    "def NAND(x1,x2):\n",
    "    x = np.array([x1, x2])\n",
    "    w = np.array([-0.5, -0.5])\n",
    "    b = 0.7\n",
    "    tmp = np.sum(w * x) + b\n",
    "    if tmp > 0:\n",
    "        return 1\n",
    "    else:\n",
    "        return 0"
   ]
  },
  {
   "cell_type": "code",
   "execution_count": 21,
   "id": "7879d42b",
   "metadata": {},
   "outputs": [
    {
     "data": {
      "text/plain": [
       "0"
      ]
     },
     "execution_count": 21,
     "metadata": {},
     "output_type": "execute_result"
    }
   ],
   "source": [
    "NAND(0,0)\n",
    "NAND(1,0)\n",
    "NAND(0,1)\n",
    "NAND(1,1)"
   ]
  },
  {
   "cell_type": "code",
   "execution_count": 22,
   "id": "ded70c7b",
   "metadata": {},
   "outputs": [],
   "source": [
    "def OR(x1, x2):\n",
    "    x = np.array([x1,x2])\n",
    "    w = np.array([1.5, 1.5])\n",
    "    b = -1.0\n",
    "    tmp = np.sum(w * x) + b\n",
    "    if tmp > 0:\n",
    "        return 1\n",
    "    else:\n",
    "        return 0"
   ]
  },
  {
   "cell_type": "code",
   "execution_count": 26,
   "id": "360ca630",
   "metadata": {},
   "outputs": [
    {
     "data": {
      "text/plain": [
       "1"
      ]
     },
     "execution_count": 26,
     "metadata": {},
     "output_type": "execute_result"
    }
   ],
   "source": [
    "OR(0,0)\n",
    "OR(1,0)\n",
    "OR(0,1)\n",
    "OR(1,1)"
   ]
  },
  {
   "cell_type": "code",
   "execution_count": null,
   "id": "9b9dc8f4",
   "metadata": {},
   "outputs": [],
   "source": []
  },
  {
   "cell_type": "markdown",
   "id": "10644736",
   "metadata": {},
   "source": [
    "### 2.5.2 XOR 게이트 구현하기"
   ]
  },
  {
   "cell_type": "code",
   "execution_count": 27,
   "id": "555f5bf0",
   "metadata": {},
   "outputs": [],
   "source": [
    "### 다층퍼셉트론 : 2층 구조\n",
    "def XOR(x1,x2):\n",
    "    s1 = NAND(x1,x2)\n",
    "    s2 = OR(x1,x2)\n",
    "    return AND(s1,s2)"
   ]
  },
  {
   "cell_type": "code",
   "execution_count": 31,
   "id": "c5feb56e",
   "metadata": {},
   "outputs": [
    {
     "data": {
      "text/plain": [
       "0"
      ]
     },
     "execution_count": 31,
     "metadata": {},
     "output_type": "execute_result"
    }
   ],
   "source": [
    "XOR(0,0)\n",
    "XOR(1,0)\n",
    "XOR(0,1)\n",
    "XOR(1,1)"
   ]
  },
  {
   "cell_type": "code",
   "execution_count": null,
   "id": "57eec7f5",
   "metadata": {},
   "outputs": [],
   "source": []
  }
 ],
 "metadata": {
  "kernelspec": {
   "display_name": "Python 3 (ipykernel)",
   "language": "python",
   "name": "python3"
  },
  "language_info": {
   "codemirror_mode": {
    "name": "ipython",
    "version": 3
   },
   "file_extension": ".py",
   "mimetype": "text/x-python",
   "name": "python",
   "nbconvert_exporter": "python",
   "pygments_lexer": "ipython3",
   "version": "3.9.7"
  }
 },
 "nbformat": 4,
 "nbformat_minor": 5
}
