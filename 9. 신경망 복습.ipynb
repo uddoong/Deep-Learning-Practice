{
 "cells": [
  {
   "cell_type": "code",
   "execution_count": 1,
   "id": "3a11a179",
   "metadata": {},
   "outputs": [],
   "source": [
    "import numpy as np\n",
    "import matplotlib.pyplot as plt"
   ]
  },
  {
   "cell_type": "code",
   "execution_count": 2,
   "id": "49bcbf3b",
   "metadata": {},
   "outputs": [
    {
     "data": {
      "text/plain": [
       "1"
      ]
     },
     "execution_count": 2,
     "metadata": {},
     "output_type": "execute_result"
    }
   ],
   "source": [
    "### 벡터와 행렬\n",
    "x = np.array([1,2,3])\n",
    "x.__class__\n",
    "x.shape\n",
    "x.ndim"
   ]
  },
  {
   "cell_type": "code",
   "execution_count": 3,
   "id": "61f9482a",
   "metadata": {},
   "outputs": [
    {
     "data": {
      "text/plain": [
       "2"
      ]
     },
     "execution_count": 3,
     "metadata": {},
     "output_type": "execute_result"
    }
   ],
   "source": [
    "W = np.array([[1,2,3],[4,5,6]])\n",
    "W.shape\n",
    "W.ndim"
   ]
  },
  {
   "cell_type": "code",
   "execution_count": null,
   "id": "cd80c084",
   "metadata": {},
   "outputs": [],
   "source": []
  },
  {
   "cell_type": "code",
   "execution_count": 4,
   "id": "e5ac13e2",
   "metadata": {},
   "outputs": [
    {
     "data": {
      "text/plain": [
       "array([[ 0,  2,  6],\n",
       "       [12, 20, 30]])"
      ]
     },
     "execution_count": 4,
     "metadata": {},
     "output_type": "execute_result"
    }
   ],
   "source": [
    "### 행렬의 원소별 연산\n",
    "W = np.array([[1,2,3],[4,5,6]])\n",
    "X = np.array([[0,1,2],[3,4,5]])\n",
    "\n",
    "W + X\n",
    "W * X"
   ]
  },
  {
   "cell_type": "code",
   "execution_count": null,
   "id": "6ef7f164",
   "metadata": {},
   "outputs": [],
   "source": []
  },
  {
   "cell_type": "code",
   "execution_count": 5,
   "id": "3585a624",
   "metadata": {},
   "outputs": [
    {
     "data": {
      "text/plain": [
       "array([[10, 20],\n",
       "       [30, 40]])"
      ]
     },
     "execution_count": 5,
     "metadata": {},
     "output_type": "execute_result"
    }
   ],
   "source": [
    "### 브로드캐스트\n",
    "A = np.array([[1,2],[3,4]])\n",
    "A * 10"
   ]
  },
  {
   "cell_type": "code",
   "execution_count": 6,
   "id": "50913c48",
   "metadata": {},
   "outputs": [
    {
     "data": {
      "text/plain": [
       "array([[10, 40],\n",
       "       [30, 80]])"
      ]
     },
     "execution_count": 6,
     "metadata": {},
     "output_type": "execute_result"
    }
   ],
   "source": [
    "A = np.array([[1,2],[3,4]])\n",
    "b = np.array([10,20])\n",
    "A * b"
   ]
  },
  {
   "cell_type": "code",
   "execution_count": null,
   "id": "b04bdcd7",
   "metadata": {},
   "outputs": [],
   "source": []
  },
  {
   "cell_type": "code",
   "execution_count": 7,
   "id": "52714881",
   "metadata": {},
   "outputs": [
    {
     "data": {
      "text/plain": [
       "32"
      ]
     },
     "execution_count": 7,
     "metadata": {},
     "output_type": "execute_result"
    }
   ],
   "source": [
    "### 벡터의 내적\n",
    "a = np.array([1,2,3])\n",
    "b = np.array([4,5,6])\n",
    "\n",
    "np.dot(a,b)"
   ]
  },
  {
   "cell_type": "code",
   "execution_count": 8,
   "id": "e56354ef",
   "metadata": {},
   "outputs": [
    {
     "data": {
      "text/plain": [
       "array([[19, 22],\n",
       "       [43, 50]])"
      ]
     },
     "execution_count": 8,
     "metadata": {},
     "output_type": "execute_result"
    }
   ],
   "source": [
    "### 행렬의 곱\n",
    "A = np.array([[1,2],[3,4]])\n",
    "B = np.array([[5,6],[7,8]])\n",
    "\n",
    "np.matmul(A, B)"
   ]
  },
  {
   "cell_type": "code",
   "execution_count": null,
   "id": "744c68ef",
   "metadata": {},
   "outputs": [],
   "source": []
  },
  {
   "cell_type": "code",
   "execution_count": 9,
   "id": "c95f5419",
   "metadata": {},
   "outputs": [],
   "source": [
    "### 신경망 추론 전체 그림 (미니배치 : 10개)\n",
    "W1 = np.random.randn(2,4)\n",
    "b1 = np.random.randn(4)\n",
    "x = np.random.randn(10,2)\n",
    "\n",
    "h = np.matmul(x, W1) + b1"
   ]
  },
  {
   "cell_type": "code",
   "execution_count": 10,
   "id": "11d25873",
   "metadata": {},
   "outputs": [
    {
     "data": {
      "text/plain": [
       "array([-1.01777411,  0.47770236,  0.65765058, -0.55844554])"
      ]
     },
     "execution_count": 10,
     "metadata": {},
     "output_type": "execute_result"
    }
   ],
   "source": [
    "b1   # b1은 브로드캐스트해서 계산 진행"
   ]
  },
  {
   "cell_type": "code",
   "execution_count": null,
   "id": "f73c2ebc",
   "metadata": {},
   "outputs": [],
   "source": []
  },
  {
   "cell_type": "code",
   "execution_count": 11,
   "id": "52dfdde2",
   "metadata": {},
   "outputs": [],
   "source": [
    "### 시그모이드 함수\n",
    "def sigmoid(x):\n",
    "    return 1 / (1 + np.exp(-x))"
   ]
  },
  {
   "cell_type": "code",
   "execution_count": 12,
   "id": "89e29a28",
   "metadata": {},
   "outputs": [
    {
     "data": {
      "text/plain": [
       "array([[0.71473595, 0.8715347 , 0.84021718, 0.69924358],\n",
       "       [0.19331954, 0.14366813, 0.9349166 , 0.88715011],\n",
       "       [0.3898927 , 0.37804856, 0.9267769 , 0.87418646],\n",
       "       [0.48939291, 0.65183128, 0.85980436, 0.73181143],\n",
       "       [0.36356337, 0.74621499, 0.64534994, 0.35070413],\n",
       "       [0.00847275, 0.26795682, 0.06008949, 0.00547727],\n",
       "       [0.58764715, 0.20515812, 0.99003918, 0.99083026],\n",
       "       [0.0764217 , 0.50903479, 0.30046987, 0.06924827],\n",
       "       [0.38906002, 0.65824209, 0.77310776, 0.55314207],\n",
       "       [0.63626715, 0.40223779, 0.97793119, 0.97416212]])"
      ]
     },
     "execution_count": 12,
     "metadata": {},
     "output_type": "execute_result"
    }
   ],
   "source": [
    "a = sigmoid(h)\n",
    "a"
   ]
  },
  {
   "cell_type": "code",
   "execution_count": 13,
   "id": "c239449b",
   "metadata": {},
   "outputs": [],
   "source": [
    "W2 = np.random.randn(4,3)\n",
    "b2 = np.random.randn(3)\n",
    "\n",
    "s = np.matmul(a, W2) + b2"
   ]
  },
  {
   "cell_type": "code",
   "execution_count": null,
   "id": "fe42fb5e",
   "metadata": {},
   "outputs": [],
   "source": []
  },
  {
   "cell_type": "code",
   "execution_count": 14,
   "id": "8f31965d",
   "metadata": {},
   "outputs": [
    {
     "data": {
      "text/plain": [
       "array([[-2.90564875, -2.28525915, -2.35849492],\n",
       "       [-3.65859242, -2.80563181, -2.28486729],\n",
       "       [-3.03842736, -2.28587715, -2.43678774],\n",
       "       [-3.16272238, -2.74924239, -2.11653869],\n",
       "       [-3.62073646, -2.50604956, -2.52330651],\n",
       "       [-3.29842684, -2.71794532, -2.19619002],\n",
       "       [-2.51993909, -1.66423333, -2.78384   ],\n",
       "       [-3.52130223, -1.86614681, -3.15609608],\n",
       "       [-2.55938261, -1.58255501, -2.87774024],\n",
       "       [-3.58439877, -2.4724103 , -2.53950937]])"
      ]
     },
     "execution_count": 14,
     "metadata": {},
     "output_type": "execute_result"
    }
   ],
   "source": [
    "x = np.random.randn(10,2)\n",
    "W1 = np.random.randn(2,4)\n",
    "b1 = np.random.randn(4)\n",
    "W2 = np.random.randn(4,3)\n",
    "b2 = np.random.randn(3)\n",
    "\n",
    "h = np.matmul(x, W1) + b1\n",
    "a = sigmoid(h)\n",
    "s = np.matmul(a, W2) + b2\n",
    "s"
   ]
  },
  {
   "cell_type": "code",
   "execution_count": null,
   "id": "596c70fb",
   "metadata": {},
   "outputs": [],
   "source": []
  },
  {
   "cell_type": "code",
   "execution_count": 15,
   "id": "68fdfbdc",
   "metadata": {},
   "outputs": [],
   "source": [
    "### 시그모이드 계층 구현\n",
    "class Sigmoid:\n",
    "    def __init__(self):\n",
    "        self.params = []\n",
    "        \n",
    "    def forward(self, x):\n",
    "        return 1 / (1 + np.exp(-x))"
   ]
  },
  {
   "cell_type": "code",
   "execution_count": null,
   "id": "cc694eca",
   "metadata": {},
   "outputs": [],
   "source": []
  },
  {
   "cell_type": "code",
   "execution_count": 16,
   "id": "2e1ea039",
   "metadata": {},
   "outputs": [],
   "source": [
    "### Affine 계층 구현\n",
    "class Affine:\n",
    "    def __init__(self, W, b):\n",
    "        self.params = [W, b]\n",
    "        \n",
    "    def forward(self, x):\n",
    "        W, b = self.params\n",
    "        out = np.matmul(x, W) + b\n",
    "        return out"
   ]
  },
  {
   "cell_type": "code",
   "execution_count": null,
   "id": "e1a25565",
   "metadata": {},
   "outputs": [],
   "source": []
  },
  {
   "cell_type": "code",
   "execution_count": 17,
   "id": "ef290cb5",
   "metadata": {},
   "outputs": [],
   "source": [
    "### x -> Affine -> sigmoid -> Affine -> s\n",
    "class TwoLayerNet:\n",
    "    def __init__(self, input_size, hidden_size, output_size):\n",
    "        I = input_size\n",
    "        H = hidden_size\n",
    "        O = output_size\n",
    "        \n",
    "        W1 = np.random.randn(I,H)\n",
    "        b1 = np.random.randn(H)\n",
    "        W2 = np.random.randn(H,O)\n",
    "        b2 = np.random.randn(O)\n",
    "        \n",
    "        self.layers = [Affine(W1, b1), Sigmoid(), Affine(W2, b2)]\n",
    "        \n",
    "        self.params = []\n",
    "        for layer in self.layers:\n",
    "            self.params += layer.params\n",
    "        \n",
    "    def predict(self,x):\n",
    "        for layer in self.layers:\n",
    "            x = layer.forward(x)\n",
    "        return x"
   ]
  },
  {
   "cell_type": "code",
   "execution_count": 18,
   "id": "fe0e93ec",
   "metadata": {},
   "outputs": [
    {
     "data": {
      "text/plain": [
       "array([[ 3.03583124,  2.75664768,  0.01748588],\n",
       "       [ 2.63399349,  2.65712121,  0.25288871],\n",
       "       [ 3.37371541,  2.36318797, -0.3737127 ],\n",
       "       [ 2.83494724,  2.55892002,  0.08189891],\n",
       "       [ 3.25597168,  2.24610566, -0.27996283],\n",
       "       [ 3.21680642,  2.07539846, -0.31668182],\n",
       "       [ 3.20158517,  1.98583545, -0.34582384],\n",
       "       [ 2.22571553,  2.00611666,  0.23321277],\n",
       "       [ 3.09950946,  2.72065346, -0.02721322],\n",
       "       [ 2.70004199,  2.66926375,  0.20722717]])"
      ]
     },
     "execution_count": 18,
     "metadata": {},
     "output_type": "execute_result"
    }
   ],
   "source": [
    "x = np.random.randn(10,2)\n",
    "model = TwoLayerNet(input_size=2, hidden_size=4, output_size=3)\n",
    "s = model.predict(x)\n",
    "s"
   ]
  },
  {
   "cell_type": "code",
   "execution_count": 19,
   "id": "e6052908",
   "metadata": {},
   "outputs": [],
   "source": [
    "def softmax(x):\n",
    "    if x.ndim == 1:\n",
    "        x = x - np.max(x)\n",
    "        return np.exp(x) / np.sum(np.exp(x))\n",
    "    elif x.ndim == 2:\n",
    "        x = x - np.max(x, axis=1, keepdims=True)\n",
    "        x = np.exp(x)\n",
    "        return x / np.sum(x, axis=1, keepdims=True)"
   ]
  },
  {
   "cell_type": "code",
   "execution_count": 20,
   "id": "91e76b50",
   "metadata": {},
   "outputs": [],
   "source": [
    "def cross_entropy_error(y, t):\n",
    "    if y.ndim == 1:\n",
    "        t = t.reshape(1,-1)\n",
    "        y = y.reshape(1,-1)\n",
    "        \n",
    "    if t.size == y.size:\n",
    "        t = t.argmax(axis=1)\n",
    "        \n",
    "    batch_size = y.shape[0]\n",
    "    return -np.sum(np.log(y[np.arange(batch_size), t] + 1e-7))/batch_size"
   ]
  },
  {
   "cell_type": "code",
   "execution_count": 21,
   "id": "4f1c4673",
   "metadata": {},
   "outputs": [],
   "source": [
    "class SoftmaxWithLoss:\n",
    "    def __init__(self):\n",
    "        self.y = None\n",
    "        self.t = None\n",
    "        \n",
    "    def forward(self, x, t):\n",
    "        self.t = t\n",
    "        self.y = softmax(x)\n",
    "        \n",
    "        if self.t.size == self.y.size:\n",
    "            self.t = self.t.argmax(axis=1)\n",
    "            \n",
    "        loss = cross_entropy_error(self.y, self.t)\n",
    "        return loss"
   ]
  },
  {
   "cell_type": "code",
   "execution_count": 22,
   "id": "073113c7",
   "metadata": {},
   "outputs": [
    {
     "data": {
      "text/plain": [
       "0.7320606988675182"
      ]
     },
     "execution_count": 22,
     "metadata": {},
     "output_type": "execute_result"
    }
   ],
   "source": [
    "x = np.array([[1,2,1],[0,3,4],[1,5,6]])\n",
    "y = softmax(x)\n",
    "\n",
    "t = np.array([[0,1,0],[0,1,0],[0,0,1]])\n",
    "cross_entropy_error(y,t)"
   ]
  },
  {
   "cell_type": "code",
   "execution_count": null,
   "id": "b46836a5",
   "metadata": {},
   "outputs": [],
   "source": []
  },
  {
   "cell_type": "code",
   "execution_count": 23,
   "id": "784f76f9",
   "metadata": {},
   "outputs": [
    {
     "data": {
      "text/plain": [
       "array([[-0.19527577, -1.69689629,  1.1606778 , -1.38567703,  1.09500385,\n",
       "        -0.31369197, -0.76049238,  0.31754174],\n",
       "       [-0.19527577, -1.69689629,  1.1606778 , -1.38567703,  1.09500385,\n",
       "        -0.31369197, -0.76049238,  0.31754174],\n",
       "       [-0.19527577, -1.69689629,  1.1606778 , -1.38567703,  1.09500385,\n",
       "        -0.31369197, -0.76049238,  0.31754174],\n",
       "       [-0.19527577, -1.69689629,  1.1606778 , -1.38567703,  1.09500385,\n",
       "        -0.31369197, -0.76049238,  0.31754174],\n",
       "       [-0.19527577, -1.69689629,  1.1606778 , -1.38567703,  1.09500385,\n",
       "        -0.31369197, -0.76049238,  0.31754174],\n",
       "       [-0.19527577, -1.69689629,  1.1606778 , -1.38567703,  1.09500385,\n",
       "        -0.31369197, -0.76049238,  0.31754174],\n",
       "       [-0.19527577, -1.69689629,  1.1606778 , -1.38567703,  1.09500385,\n",
       "        -0.31369197, -0.76049238,  0.31754174]])"
      ]
     },
     "execution_count": 23,
     "metadata": {},
     "output_type": "execute_result"
    }
   ],
   "source": [
    "### Repeat 노드\n",
    "D, N = 8, 7\n",
    "x = np.random.randn(1,D)\n",
    "y = np.repeat(x, N, axis=0)\n",
    "y"
   ]
  },
  {
   "cell_type": "code",
   "execution_count": 24,
   "id": "f9c16ed6",
   "metadata": {},
   "outputs": [
    {
     "data": {
      "text/plain": [
       "array([[ 6.85232936, -0.59459003,  1.66368655,  5.50574024,  1.5995701 ,\n",
       "        -0.91740431, -1.22530284, -4.109085  ]])"
      ]
     },
     "execution_count": 24,
     "metadata": {},
     "output_type": "execute_result"
    }
   ],
   "source": [
    "dy = np.random.randn(N, D)\n",
    "dx = np.sum(dy , axis=0, keepdims=True)\n",
    "dx"
   ]
  },
  {
   "cell_type": "code",
   "execution_count": null,
   "id": "0115aa88",
   "metadata": {},
   "outputs": [],
   "source": []
  },
  {
   "cell_type": "code",
   "execution_count": 25,
   "id": "bdf5bb65",
   "metadata": {},
   "outputs": [],
   "source": [
    "### Sum 노드\n",
    "D, N = 8, 7\n",
    "x = np.random.randn(D, N)\n",
    "y = np.sum(x, axis=0, keepdims=True)"
   ]
  },
  {
   "cell_type": "code",
   "execution_count": 26,
   "id": "a4020c5b",
   "metadata": {},
   "outputs": [
    {
     "data": {
      "text/plain": [
       "array([[-0.18366475,  1.28160434,  1.32500643, -1.04314371,  0.39642564,\n",
       "        -1.30856051, -1.24207164, -0.6100977 ],\n",
       "       [-0.18366475,  1.28160434,  1.32500643, -1.04314371,  0.39642564,\n",
       "        -1.30856051, -1.24207164, -0.6100977 ],\n",
       "       [-0.18366475,  1.28160434,  1.32500643, -1.04314371,  0.39642564,\n",
       "        -1.30856051, -1.24207164, -0.6100977 ],\n",
       "       [-0.18366475,  1.28160434,  1.32500643, -1.04314371,  0.39642564,\n",
       "        -1.30856051, -1.24207164, -0.6100977 ],\n",
       "       [-0.18366475,  1.28160434,  1.32500643, -1.04314371,  0.39642564,\n",
       "        -1.30856051, -1.24207164, -0.6100977 ],\n",
       "       [-0.18366475,  1.28160434,  1.32500643, -1.04314371,  0.39642564,\n",
       "        -1.30856051, -1.24207164, -0.6100977 ],\n",
       "       [-0.18366475,  1.28160434,  1.32500643, -1.04314371,  0.39642564,\n",
       "        -1.30856051, -1.24207164, -0.6100977 ]])"
      ]
     },
     "execution_count": 26,
     "metadata": {},
     "output_type": "execute_result"
    }
   ],
   "source": [
    "dy = np.random.randn(1, D)\n",
    "dx = np.repeat(dy, N, axis=0)\n",
    "dx"
   ]
  },
  {
   "cell_type": "code",
   "execution_count": null,
   "id": "48ca7512",
   "metadata": {},
   "outputs": [],
   "source": []
  },
  {
   "cell_type": "code",
   "execution_count": 27,
   "id": "81152286",
   "metadata": {},
   "outputs": [],
   "source": [
    "### MatMul 노드\n",
    "class MatMul:\n",
    "    def __init__(self, W):\n",
    "        self.params = [W]\n",
    "        self.grads = [np.zeros_like(W)]\n",
    "        self.x = None\n",
    "        \n",
    "    def forward(self, x):\n",
    "        W, = self.params\n",
    "        out = np.matmul(x, W)\n",
    "        self.x = x\n",
    "        return out\n",
    "    \n",
    "    def backward(self, dout):\n",
    "        W, = self.params\n",
    "        dx = np.matmul(dout, W.T)\n",
    "        dW = np.matmul(self.x.T, dout)\n",
    "        self.grads[0][...] = dW   # 깊은 복사 : 메모리 주소 고정\n",
    "        return dx, dW"
   ]
  },
  {
   "cell_type": "code",
   "execution_count": null,
   "id": "e69849da",
   "metadata": {},
   "outputs": [],
   "source": []
  },
  {
   "cell_type": "code",
   "execution_count": 28,
   "id": "43ba6d49",
   "metadata": {},
   "outputs": [],
   "source": [
    "### 시그모이드 계층 구현\n",
    "class Sigmoid:\n",
    "    def __init__(self):\n",
    "        self.params = []\n",
    "        self.grads = []\n",
    "        self.out = None\n",
    "    \n",
    "    def forward(self, x):\n",
    "        out = 1 / (np.exp(-x) + 1)\n",
    "        self.out = out\n",
    "        return out\n",
    "        \n",
    "    def backward(self, dout):\n",
    "        return dout * self.out * (1.0 - self.out)"
   ]
  },
  {
   "cell_type": "code",
   "execution_count": null,
   "id": "c58ae2bf",
   "metadata": {},
   "outputs": [],
   "source": []
  },
  {
   "cell_type": "code",
   "execution_count": 29,
   "id": "85870ddd",
   "metadata": {},
   "outputs": [],
   "source": [
    "### Affine 계층 구현\n",
    "class Affine:\n",
    "    def __init__(self, W, b):\n",
    "        self.params = [W, b]\n",
    "        self.grads = [np.zeros_like(W), np.zeros_like(b)]\n",
    "        self.x = None\n",
    "        \n",
    "    def forward(self, x):\n",
    "        W, b = self.params\n",
    "        out = np.matmul(x, W) + b\n",
    "        self.x = x\n",
    "        return out\n",
    "    \n",
    "    def backward(self, dout):\n",
    "        W, b = self.params\n",
    "        dx = np.matmul(dout, W.T)\n",
    "        dW = np.matmul(self.x.T, dout)\n",
    "        db = np.sum(dout, axis=0)\n",
    "        \n",
    "        self.grads[0][...] = dW\n",
    "        self.grads[1][...] = db\n",
    "        return dx"
   ]
  },
  {
   "cell_type": "code",
   "execution_count": null,
   "id": "d4f62997",
   "metadata": {},
   "outputs": [],
   "source": []
  },
  {
   "cell_type": "code",
   "execution_count": 30,
   "id": "68ccb6bf",
   "metadata": {},
   "outputs": [],
   "source": [
    "### Affine With Loss 계층 구현\n",
    "class SoftmaxWithLoss:\n",
    "    def __init__(self):\n",
    "        self.params = []\n",
    "        self.grads = []\n",
    "        self.t = None\n",
    "        self.y = None\n",
    "        \n",
    "    def forward(self, x, t):\n",
    "        self.t = t\n",
    "        self.y = softmax(x)\n",
    "        \n",
    "        if self.t.size == self.y.size:\n",
    "            self.t = self.t.argmax(axis=1)\n",
    "            \n",
    "        loss = cross_entropy_error(self.y, self.t)\n",
    "        return loss\n",
    "    \n",
    "    def backward(self, dout=1):\n",
    "        batch_size = self.t.shape[0]\n",
    "        \n",
    "        dx = self.y.copy()\n",
    "        dx[np.arange(batch_size), self.t] -= 1\n",
    "        dx *= dout\n",
    "        dx = dx / batch_size\n",
    "        \n",
    "        return dx"
   ]
  },
  {
   "cell_type": "code",
   "execution_count": 31,
   "id": "43cb3a4d",
   "metadata": {},
   "outputs": [
    {
     "data": {
      "text/plain": [
       "(array([[1.3, 1.1, 0.8],\n",
       "        [0.5, 3.2, 1. ],\n",
       "        [2.8, 2.5, 1.1]]),\n",
       " array([[0.43333333, 0.36666667, 0.26666667],\n",
       "        [0.16666667, 1.06666667, 0.33333333],\n",
       "        [0.93333333, 0.83333333, 0.36666667]]))"
      ]
     },
     "execution_count": 31,
     "metadata": {},
     "output_type": "execute_result"
    }
   ],
   "source": [
    "y = np.array([[2.3,1.1,0.8],[0.5,3.2,2.0],[2.8,3.5,1.1]])\n",
    "t = np.array([[1,0,0],[0,0,1],[0,1,0]])\n",
    "if t.size == y.size:\n",
    "    t = t.argmax(axis=1)\n",
    "    \n",
    "loss = cross_entropy_error(y,t)\n",
    "\n",
    "batch_size = t.shape[0]\n",
    "\n",
    "dx = y.copy() # y값 바꿔도 dx값 안바뀜\n",
    "dx[np.arange(batch_size), t] -= 1\n",
    "dx *= 1\n",
    "dx, dx / batch_size"
   ]
  },
  {
   "cell_type": "code",
   "execution_count": null,
   "id": "53413185",
   "metadata": {},
   "outputs": [],
   "source": []
  },
  {
   "cell_type": "code",
   "execution_count": 32,
   "id": "e1d7af62",
   "metadata": {},
   "outputs": [],
   "source": [
    "### SGD 구현\n",
    "class SGD:\n",
    "    def __init__(self, lr=0.001):\n",
    "        self.lr = lr\n",
    "        \n",
    "    def update(self, params, grads):\n",
    "        for i in range(len(params)):\n",
    "            params[i] -= self.lr * grads[i]"
   ]
  },
  {
   "cell_type": "code",
   "execution_count": null,
   "id": "81959571",
   "metadata": {},
   "outputs": [],
   "source": []
  },
  {
   "cell_type": "code",
   "execution_count": 33,
   "id": "e7457b56",
   "metadata": {},
   "outputs": [],
   "source": [
    "import sys\n",
    "sys.path.append('..')\n",
    "from dataset import spiral\n",
    "import matplotlib.pyplot as plt"
   ]
  },
  {
   "cell_type": "code",
   "execution_count": 34,
   "id": "c69e6cc4",
   "metadata": {},
   "outputs": [
    {
     "data": {
      "text/plain": [
       "((300, 2), (300, 3))"
      ]
     },
     "execution_count": 34,
     "metadata": {},
     "output_type": "execute_result"
    }
   ],
   "source": [
    "### 비선형 데이터 학습\n",
    "x, t = spiral.load_data()\n",
    "x.shape, t.shape"
   ]
  },
  {
   "cell_type": "code",
   "execution_count": 35,
   "id": "04c1cbb8",
   "metadata": {},
   "outputs": [
    {
     "data": {
      "image/png": "[encoded data removed]",
      "text/plain": [
       "<Figure size 432x288 with 1 Axes>"
      ]
     },
     "metadata": {
      "needs_background": "light"
     },
     "output_type": "display_data"
    }
   ],
   "source": [
    "cls_num = 100\n",
    "N = 100\n",
    "\n",
    "for i in range(cls_num):\n",
    "    plt.scatter(x[i*N:i*N+100,0], x[i*N:i*N+100,1], s=40)\n",
    "plt.show()"
   ]
  },
  {
   "cell_type": "code",
   "execution_count": null,
   "id": "9e69a32a",
   "metadata": {},
   "outputs": [],
   "source": []
  },
  {
   "cell_type": "code",
   "execution_count": 36,
   "id": "08aebfdc",
   "metadata": {},
   "outputs": [],
   "source": [
    "### 2층 신경망 구현\n",
    "class TwoLayerNet:\n",
    "    def __init__(self, input_size, hidden_size, output_size):\n",
    "        I = input_size\n",
    "        H = hidden_size\n",
    "        O = output_size\n",
    "        \n",
    "        W1 = 0.01 * np.random.randn(I,H)\n",
    "        b1 = np.zeros(H)\n",
    "        W2 = 0.01 * np.random.randn(H,O)\n",
    "        b2 = np.zeros(O)\n",
    "        \n",
    "        self.layers = [Affine(W1, b1), Sigmoid(), Affine(W2, b2)]\n",
    "        self.loss_layer = SoftmaxWithLoss()\n",
    "        \n",
    "        self.params = []\n",
    "        self.grads = []\n",
    "        for layer in self.layers:\n",
    "            self.params += layer.params\n",
    "            self.grads += layer.grads\n",
    "        \n",
    "    def predict(self, x):\n",
    "        for layer in self.layers:\n",
    "            x = layer.forward(x)\n",
    "        return x\n",
    "    \n",
    "    def forward(self, x, t):\n",
    "        score = self.predict(x)\n",
    "        loss = self.loss_layer.forward(score, t)\n",
    "        return loss\n",
    "    \n",
    "    def backward(self, dout=1):\n",
    "        dout = self.loss_layer.backward(dout)\n",
    "        for layer in reversed(self.layers):\n",
    "            dout = layer.backward(dout)\n",
    "        return dout"
   ]
  },
  {
   "cell_type": "code",
   "execution_count": null,
   "id": "aa255ce9",
   "metadata": {},
   "outputs": [],
   "source": []
  },
  {
   "cell_type": "code",
   "execution_count": 37,
   "id": "a506c9ce",
   "metadata": {},
   "outputs": [],
   "source": [
    "### 학습용 코드 1 : 하이퍼파라미터 설정\n",
    "max_epoch = 300\n",
    "batch_size = 30\n",
    "hidden_size = 10\n",
    "learning_rate = 1.0"
   ]
  },
  {
   "cell_type": "code",
   "execution_count": 38,
   "id": "2e8e7dbc",
   "metadata": {},
   "outputs": [],
   "source": [
    "### 학습용 코드 2 : 데이터 읽기 & 모델, 옵티마이저 생성\n",
    "x, t = spiral.load_data()\n",
    "model = TwoLayerNet(input_size=2, hidden_size=hidden_size, output_size=3)\n",
    "optimizer = SGD(lr=learning_rate)"
   ]
  },
  {
   "cell_type": "code",
   "execution_count": 39,
   "id": "a9558f8c",
   "metadata": {},
   "outputs": [
    {
     "name": "stdout",
     "output_type": "stream",
     "text": [
      "에폭: 0, 반복: 10/10, 손실: 1.1256062166823237\n",
      "에폭: 1, 반복: 10/10, 손실: 1.1255202354489933\n",
      "에폭: 2, 반복: 10/10, 손실: 1.1162613752115285\n",
      "에폭: 3, 반복: 10/10, 손실: 1.1162867078413503\n",
      "에폭: 4, 반복: 10/10, 손실: 1.1123000112951948\n",
      "에폭: 5, 반복: 10/10, 손실: 1.1384639824108038\n",
      "에폭: 6, 반복: 10/10, 손실: 1.1590961883070312\n",
      "에폭: 7, 반복: 10/10, 손실: 1.1086316143023154\n",
      "에폭: 8, 반복: 10/10, 손실: 1.1173305676924539\n",
      "에폭: 9, 반복: 10/10, 손실: 1.1287957712269245\n",
      "에폭: 10, 반복: 10/10, 손실: 1.1168438089353867\n",
      "에폭: 11, 반복: 10/10, 손실: 1.108338779101816\n",
      "에폭: 12, 반복: 10/10, 손실: 1.087614920049946\n",
      "에폭: 13, 반복: 10/10, 손실: 1.076681386581935\n",
      "에폭: 14, 반복: 10/10, 손실: 1.0442376735950387\n",
      "에폭: 15, 반복: 10/10, 손실: 1.034578262633777\n",
      "에폭: 16, 반복: 10/10, 손실: 0.9572932039643971\n",
      "에폭: 17, 반복: 10/10, 손실: 0.918385321087945\n",
      "에폭: 18, 반복: 10/10, 손실: 0.9241491096212101\n",
      "에폭: 19, 반복: 10/10, 손실: 0.8685139076509193\n",
      "에폭: 20, 반복: 10/10, 손실: 0.8493807047841541\n",
      "에폭: 21, 반복: 10/10, 손실: 0.8171629191788113\n",
      "에폭: 22, 반복: 10/10, 손실: 0.7924414711357767\n",
      "에폭: 23, 반복: 10/10, 손실: 0.7826646392986113\n",
      "에폭: 24, 반복: 10/10, 손실: 0.8235432039035638\n",
      "에폭: 25, 반복: 10/10, 손실: 0.7754573601774307\n",
      "에폭: 26, 반복: 10/10, 손실: 0.755785763679778\n",
      "에폭: 27, 반복: 10/10, 손실: 0.7644773546985875\n",
      "에폭: 28, 반복: 10/10, 손실: 0.783489908441849\n",
      "에폭: 29, 반복: 10/10, 손실: 0.7507895610696304\n",
      "에폭: 30, 반복: 10/10, 손실: 0.777306703616526\n",
      "에폭: 31, 반복: 10/10, 손실: 0.7650839562418821\n",
      "에폭: 32, 반복: 10/10, 손실: 0.7727897179944695\n",
      "에폭: 33, 반복: 10/10, 손실: 0.7819402998382253\n",
      "에폭: 34, 반복: 10/10, 손실: 0.7479802970891094\n",
      "에폭: 35, 반복: 10/10, 손실: 0.7449918634368047\n",
      "에폭: 36, 반복: 10/10, 손실: 0.7560347486336814\n",
      "에폭: 37, 반복: 10/10, 손실: 0.762136567723541\n",
      "에폭: 38, 반복: 10/10, 손실: 0.7308895411004576\n",
      "에폭: 39, 반복: 10/10, 손실: 0.7530268898576873\n",
      "에폭: 40, 반복: 10/10, 손실: 0.7598416342022494\n",
      "에폭: 41, 반복: 10/10, 손실: 0.7594443798911803\n",
      "에폭: 42, 반복: 10/10, 손실: 0.7609245612331736\n",
      "에폭: 43, 반복: 10/10, 손실: 0.7385235003122192\n",
      "에폭: 44, 반복: 10/10, 손실: 0.7483287079215574\n",
      "에폭: 45, 반복: 10/10, 손실: 0.732212322256757\n",
      "에폭: 46, 반복: 10/10, 손실: 0.7226947264484566\n",
      "에폭: 47, 반복: 10/10, 손실: 0.7329453633807873\n",
      "에폭: 48, 반복: 10/10, 손실: 0.7228591003722221\n",
      "에폭: 49, 반복: 10/10, 손실: 0.7225109819294905\n",
      "에폭: 50, 반복: 10/10, 손실: 0.7151355271138069\n",
      "에폭: 51, 반복: 10/10, 손실: 0.7195462325887141\n",
      "에폭: 52, 반복: 10/10, 손실: 0.7375188235491986\n",
      "에폭: 53, 반복: 10/10, 손실: 0.7361580823220941\n",
      "에폭: 54, 반복: 10/10, 손실: 0.7224648808897995\n",
      "에폭: 55, 반복: 10/10, 손실: 0.7182891638960813\n",
      "에폭: 56, 반복: 10/10, 손실: 0.7074840271194412\n",
      "에폭: 57, 반복: 10/10, 손실: 0.7004036126944774\n",
      "에폭: 58, 반복: 10/10, 손실: 0.7172821745385197\n",
      "에폭: 59, 반복: 10/10, 손실: 0.7014167269154442\n",
      "에폭: 60, 반복: 10/10, 손실: 0.7139798052248812\n",
      "에폭: 61, 반복: 10/10, 손실: 0.7158390973991743\n",
      "에폭: 62, 반복: 10/10, 손실: 0.7024145847917301\n",
      "에폭: 63, 반복: 10/10, 손실: 0.7147655630827303\n",
      "에폭: 64, 반복: 10/10, 손실: 0.7258385981107361\n",
      "에폭: 65, 반복: 10/10, 손실: 0.6991952628756113\n",
      "에폭: 66, 반복: 10/10, 손실: 0.7149037812469095\n",
      "에폭: 67, 반복: 10/10, 손실: 0.692379332920815\n",
      "에폭: 68, 반복: 10/10, 손실: 0.6950715496129247\n",
      "에폭: 69, 반복: 10/10, 손실: 0.7051743201139316\n",
      "에폭: 70, 반복: 10/10, 손실: 0.681889220127928\n",
      "에폭: 71, 반복: 10/10, 손실: 0.6931081236194647\n",
      "에폭: 72, 반복: 10/10, 손실: 0.6678843529136957\n",
      "에폭: 73, 반복: 10/10, 손실: 0.6795690012595996\n",
      "에폭: 74, 반복: 10/10, 손실: 0.669691878190896\n",
      "에폭: 75, 반복: 10/10, 손실: 0.6601032915888684\n",
      "에폭: 76, 반복: 10/10, 손실: 0.6948944014779304\n",
      "에폭: 77, 반복: 10/10, 손실: 0.6448714009948227\n",
      "에폭: 78, 반복: 10/10, 손실: 0.6797970357896564\n",
      "에폭: 79, 반복: 10/10, 손실: 0.6389928717097749\n",
      "에폭: 80, 반복: 10/10, 손실: 0.6352100394457479\n",
      "에폭: 81, 반복: 10/10, 손실: 0.6642182679001872\n",
      "에폭: 82, 반복: 10/10, 손실: 0.6194764020308778\n",
      "에폭: 83, 반복: 10/10, 손실: 0.622967457376708\n",
      "에폭: 84, 반복: 10/10, 손실: 0.6125107706517631\n",
      "에폭: 85, 반복: 10/10, 손실: 0.5971911133520723\n",
      "에폭: 86, 반복: 10/10, 손실: 0.5988198466130641\n",
      "에폭: 87, 반복: 10/10, 손실: 0.6083885307835825\n",
      "에폭: 88, 반복: 10/10, 손실: 0.5881132092407982\n",
      "에폭: 89, 반복: 10/10, 손실: 0.5773251645421089\n",
      "에폭: 90, 반복: 10/10, 손실: 0.5573829192639739\n",
      "에폭: 91, 반복: 10/10, 손실: 0.5604590214222995\n",
      "에폭: 92, 반복: 10/10, 손실: 0.5448990532547213\n",
      "에폭: 93, 반복: 10/10, 손실: 0.5286015850570891\n",
      "에폭: 94, 반복: 10/10, 손실: 0.5299314123468274\n",
      "에폭: 95, 반복: 10/10, 손실: 0.5163065862636677\n",
      "에폭: 96, 반복: 10/10, 손실: 0.5124308579159356\n",
      "에폭: 97, 반복: 10/10, 손실: 0.501644036212414\n",
      "에폭: 98, 반복: 10/10, 손실: 0.4844736823098783\n",
      "에폭: 99, 반복: 10/10, 손실: 0.48000592169629347\n",
      "에폭: 100, 반복: 10/10, 손실: 0.46099348805921797\n",
      "에폭: 101, 반복: 10/10, 손실: 0.45402197600669814\n",
      "에폭: 102, 반복: 10/10, 손실: 0.45357141775905907\n",
      "에폭: 103, 반복: 10/10, 손실: 0.442992946526939\n",
      "에폭: 104, 반복: 10/10, 손실: 0.43615541714274936\n",
      "에폭: 105, 반복: 10/10, 손실: 0.41049348011889675\n",
      "에폭: 106, 반복: 10/10, 손실: 0.4031641890220192\n",
      "에폭: 107, 반복: 10/10, 손실: 0.4076112682225581\n",
      "에폭: 108, 반복: 10/10, 손실: 0.40362389037806257\n",
      "에폭: 109, 반복: 10/10, 손실: 0.3995146952313426\n",
      "에폭: 110, 반복: 10/10, 손실: 0.37921674077822287\n",
      "에폭: 111, 반복: 10/10, 손실: 0.3750471397806641\n",
      "에폭: 112, 반복: 10/10, 손실: 0.3622949849404951\n",
      "에폭: 113, 반복: 10/10, 손실: 0.3675710439808239\n",
      "에폭: 114, 반복: 10/10, 손실: 0.34616510526107847\n",
      "에폭: 115, 반복: 10/10, 손실: 0.34489800029011575\n",
      "에폭: 116, 반복: 10/10, 손실: 0.33528933507000985\n",
      "에폭: 117, 반복: 10/10, 손실: 0.33807418815033247\n",
      "에폭: 118, 반복: 10/10, 손실: 0.3283438143916969\n",
      "에폭: 119, 반복: 10/10, 손실: 0.3351965821052376\n",
      "에폭: 120, 반복: 10/10, 손실: 0.31583944005785053\n",
      "에폭: 121, 반복: 10/10, 손실: 0.3174067835957744\n",
      "에폭: 122, 반복: 10/10, 손실: 0.30558094499258287\n",
      "에폭: 123, 반복: 10/10, 손실: 0.313067432203768\n",
      "에폭: 124, 반복: 10/10, 손실: 0.3001822128388419\n",
      "에폭: 125, 반복: 10/10, 손실: 0.2987418925474238\n",
      "에폭: 126, 반복: 10/10, 손실: 0.2838029470706274\n",
      "에폭: 127, 반복: 10/10, 손실: 0.2811840756517868\n",
      "에폭: 128, 반복: 10/10, 손실: 0.28183411256599317\n",
      "에폭: 129, 반복: 10/10, 손실: 0.2777145993871098\n",
      "에폭: 130, 반복: 10/10, 손실: 0.2723882569863483\n",
      "에폭: 131, 반복: 10/10, 손실: 0.26707712316069954\n",
      "에폭: 132, 반복: 10/10, 손실: 0.2709453036220713\n",
      "에폭: 133, 반복: 10/10, 손실: 0.2705724538659976\n",
      "에폭: 134, 반복: 10/10, 손실: 0.27030885972727653\n",
      "에폭: 135, 반복: 10/10, 손실: 0.2643726010723016\n",
      "에폭: 136, 반복: 10/10, 손실: 0.2637830554224591\n",
      "에폭: 137, 반복: 10/10, 손실: 0.25605019939775364\n",
      "에폭: 138, 반복: 10/10, 손실: 0.2521541449844562\n",
      "에폭: 139, 반복: 10/10, 손실: 0.24291112934456205\n",
      "에폭: 140, 반복: 10/10, 손실: 0.23945524042724547\n",
      "에폭: 141, 반복: 10/10, 손실: 0.24542262746858562\n",
      "에폭: 142, 반복: 10/10, 손실: 0.23667537176990056\n",
      "에폭: 143, 반복: 10/10, 손실: 0.24031931061928158\n",
      "에폭: 144, 반복: 10/10, 손실: 0.2336128881049624\n",
      "에폭: 145, 반복: 10/10, 손실: 0.23650963179911194\n",
      "에폭: 146, 반복: 10/10, 손실: 0.2302540765678646\n",
      "에폭: 147, 반복: 10/10, 손실: 0.22932871901830199\n",
      "에폭: 148, 반복: 10/10, 손실: 0.2240169314658726\n",
      "에폭: 149, 반복: 10/10, 손실: 0.22394676535578747\n",
      "에폭: 150, 반복: 10/10, 손실: 0.2231075781471304\n",
      "에폭: 151, 반복: 10/10, 손실: 0.22264097958236584\n",
      "에폭: 152, 반복: 10/10, 손실: 0.21697683471580692\n",
      "에폭: 153, 반복: 10/10, 손실: 0.21755951288880987\n",
      "에폭: 154, 반복: 10/10, 손실: 0.2150705866267714\n",
      "에폭: 155, 반복: 10/10, 손실: 0.2083575532150995\n",
      "에폭: 156, 반복: 10/10, 손실: 0.20913544783239274\n",
      "에폭: 157, 반복: 10/10, 손실: 0.20480456033012637\n",
      "에폭: 158, 반복: 10/10, 손실: 0.20860699412184824\n",
      "에폭: 159, 반복: 10/10, 손실: 0.19815557489605243\n",
      "에폭: 160, 반복: 10/10, 손실: 0.20435571889234475\n",
      "에폭: 161, 반복: 10/10, 손실: 0.1972402074622855\n",
      "에폭: 162, 반복: 10/10, 손실: 0.21198898405557248\n",
      "에폭: 163, 반복: 10/10, 손실: 0.19990055286420474\n",
      "에폭: 164, 반복: 10/10, 손실: 0.19670798433788003\n",
      "에폭: 165, 반복: 10/10, 손실: 0.19493732434411765\n",
      "에폭: 166, 반복: 10/10, 손실: 0.18861275602513145\n",
      "에폭: 167, 반복: 10/10, 손실: 0.1871358291328787\n",
      "에폭: 168, 반복: 10/10, 손실: 0.18592571707387803\n",
      "에폭: 169, 반복: 10/10, 손실: 0.1883737689447249\n",
      "에폭: 170, 반복: 10/10, 손실: 0.18999546718467406\n",
      "에폭: 171, 반복: 10/10, 손실: 0.18273072019428152\n",
      "에폭: 172, 반복: 10/10, 손실: 0.18441370204922133\n",
      "에폭: 173, 반복: 10/10, 손실: 0.18330587406258353\n",
      "에폭: 174, 반복: 10/10, 손실: 0.1802345548091978\n",
      "에폭: 175, 반복: 10/10, 손실: 0.17511064852464453\n",
      "에폭: 176, 반복: 10/10, 손실: 0.17767416217643658\n",
      "에폭: 177, 반복: 10/10, 손실: 0.17668728636135786\n",
      "에폭: 178, 반복: 10/10, 손실: 0.17293847154024705\n",
      "에폭: 179, 반복: 10/10, 손실: 0.17328551329855005\n",
      "에폭: 180, 반복: 10/10, 손실: 0.17653792738499421\n",
      "에폭: 181, 반복: 10/10, 손실: 0.17282612618111404\n",
      "에폭: 182, 반복: 10/10, 손실: 0.17626893090372212\n",
      "에폭: 183, 반복: 10/10, 손실: 0.1743462890173575\n",
      "에폭: 184, 반복: 10/10, 손실: 0.16949071085989292\n",
      "에폭: 185, 반복: 10/10, 손실: 0.17755351335716008\n",
      "에폭: 186, 반복: 10/10, 손실: 0.17285695698153447\n",
      "에폭: 187, 반복: 10/10, 손실: 0.16648514397547956\n",
      "에폭: 188, 반복: 10/10, 손실: 0.16594153132977593\n",
      "에폭: 189, 반복: 10/10, 손실: 0.16931139951263366\n",
      "에폭: 190, 반복: 10/10, 손실: 0.16301106121602327\n",
      "에폭: 191, 반복: 10/10, 손실: 0.16958890572080482\n",
      "에폭: 192, 반복: 10/10, 손실: 0.1619068243118519\n",
      "에폭: 193, 반복: 10/10, 손실: 0.15939537909039858\n",
      "에폭: 194, 반복: 10/10, 손실: 0.16286032857961982\n",
      "에폭: 195, 반복: 10/10, 손실: 0.16124197360055154\n",
      "에폭: 196, 반복: 10/10, 손실: 0.16364914579280598\n",
      "에폭: 197, 반복: 10/10, 손실: 0.15276787679918438\n",
      "에폭: 198, 반복: 10/10, 손실: 0.1597032801970887\n",
      "에폭: 199, 반복: 10/10, 손실: 0.15747782851517939\n",
      "에폭: 200, 반복: 10/10, 손실: 0.15467694220979322\n",
      "에폭: 201, 반복: 10/10, 손실: 0.15693770655217212\n",
      "에폭: 202, 반복: 10/10, 손실: 0.15547652786727328\n",
      "에폭: 203, 반복: 10/10, 손실: 0.15394834058798232\n",
      "에폭: 204, 반복: 10/10, 손실: 0.15758367150781277\n",
      "에폭: 205, 반복: 10/10, 손실: 0.15348488267419594\n",
      "에폭: 206, 반복: 10/10, 손실: 0.15446293102249126\n",
      "에폭: 207, 반복: 10/10, 손실: 0.14767977186639952\n",
      "에폭: 208, 반복: 10/10, 손실: 0.15141489293752305\n",
      "에폭: 209, 반복: 10/10, 손실: 0.14935646270420955\n",
      "에폭: 210, 반복: 10/10, 손실: 0.15170519390744677\n",
      "에폭: 211, 반복: 10/10, 손실: 0.1475591778682618\n",
      "에폭: 212, 반복: 10/10, 손실: 0.1478514574205583\n",
      "에폭: 213, 반복: 10/10, 손실: 0.1451598062679798\n",
      "에폭: 214, 반복: 10/10, 손실: 0.14678399383604504\n",
      "에폭: 215, 반복: 10/10, 손실: 0.14388363320088376\n",
      "에폭: 216, 반복: 10/10, 손실: 0.1425976866105934\n",
      "에폭: 217, 반복: 10/10, 손실: 0.14555184796511342\n",
      "에폭: 218, 반복: 10/10, 손실: 0.1392242223657278\n",
      "에폭: 219, 반복: 10/10, 손실: 0.1373094434318807\n",
      "에폭: 220, 반복: 10/10, 손실: 0.14410598841352637\n",
      "에폭: 221, 반복: 10/10, 손실: 0.14050778228166333\n",
      "에폭: 222, 반복: 10/10, 손실: 0.1422498424980962\n",
      "에폭: 223, 반복: 10/10, 손실: 0.14254640666896862\n",
      "에폭: 224, 반복: 10/10, 손실: 0.13667202381979074\n",
      "에폭: 225, 반복: 10/10, 손실: 0.1365901190048486\n",
      "에폭: 226, 반복: 10/10, 손실: 0.14251665205070393\n",
      "에폭: 227, 반복: 10/10, 손실: 0.13608657183237477\n",
      "에폭: 228, 반복: 10/10, 손실: 0.12909966921321347\n",
      "에폭: 229, 반복: 10/10, 손실: 0.13883107120690047\n",
      "에폭: 230, 반복: 10/10, 손실: 0.131423370738821\n",
      "에폭: 231, 반복: 10/10, 손실: 0.13594951747222703\n",
      "에폭: 232, 반복: 10/10, 손실: 0.13429273376232012\n",
      "에폭: 233, 반복: 10/10, 손실: 0.1314406978985542\n",
      "에폭: 234, 반복: 10/10, 손실: 0.13148269177878144\n",
      "에폭: 235, 반복: 10/10, 손실: 0.12860673738419162\n",
      "에폭: 236, 반복: 10/10, 손실: 0.13539204860157295\n",
      "에폭: 237, 반복: 10/10, 손실: 0.13223101774593116\n",
      "에폭: 238, 반복: 10/10, 손실: 0.13134628823538028\n",
      "에폭: 239, 반복: 10/10, 손실: 0.13781596053410883\n",
      "에폭: 240, 반복: 10/10, 손실: 0.1336728687160507\n",
      "에폭: 241, 반복: 10/10, 손실: 0.12860547570667222\n",
      "에폭: 242, 반복: 10/10, 손실: 0.12775015207856288\n",
      "에폭: 243, 반복: 10/10, 손실: 0.1300224354664545\n",
      "에폭: 244, 반복: 10/10, 손실: 0.1314597490170684\n",
      "에폭: 245, 반복: 10/10, 손실: 0.12796605893873647\n",
      "에폭: 246, 반복: 10/10, 손실: 0.12643439113307106\n",
      "에폭: 247, 반복: 10/10, 손실: 0.1320104190640849\n",
      "에폭: 248, 반복: 10/10, 손실: 0.12779009853793594\n",
      "에폭: 249, 반복: 10/10, 손실: 0.1304032884799826\n",
      "에폭: 250, 반복: 10/10, 손실: 0.13348456295442604\n",
      "에폭: 251, 반복: 10/10, 손실: 0.12453963049125039\n",
      "에폭: 252, 반복: 10/10, 손실: 0.12132675691111512\n",
      "에폭: 253, 반복: 10/10, 손실: 0.12286008452064738\n",
      "에폭: 254, 반복: 10/10, 손실: 0.12267013423577515\n",
      "에폭: 255, 반복: 10/10, 손실: 0.12312488940516723\n",
      "에폭: 256, 반복: 10/10, 손실: 0.12127839505918632\n",
      "에폭: 257, 반복: 10/10, 손실: 0.12467328584597177\n",
      "에폭: 258, 반복: 10/10, 손실: 0.1319570980321645\n",
      "에폭: 259, 반복: 10/10, 손실: 0.120266572365163\n",
      "에폭: 260, 반복: 10/10, 손실: 0.12500316552637764\n",
      "에폭: 261, 반복: 10/10, 손실: 0.12062063523861202\n",
      "에폭: 262, 반복: 10/10, 손실: 0.1181079868686632\n",
      "에폭: 263, 반복: 10/10, 손실: 0.12681552271035715\n",
      "에폭: 264, 반복: 10/10, 손실: 0.11807400896605269\n",
      "에폭: 265, 반복: 10/10, 손실: 0.12014005000495145\n",
      "에폭: 266, 반복: 10/10, 손실: 0.11993006486808414\n",
      "에폭: 267, 반복: 10/10, 손실: 0.11732517384704759\n",
      "에폭: 268, 반복: 10/10, 손실: 0.11360477597904675\n",
      "에폭: 269, 반복: 10/10, 손실: 0.11888250117808812\n",
      "에폭: 270, 반복: 10/10, 손실: 0.1163351104051561\n",
      "에폭: 271, 반복: 10/10, 손실: 0.1182539118355926\n",
      "에폭: 272, 반복: 10/10, 손실: 0.1162370356972749\n",
      "에폭: 273, 반복: 10/10, 손실: 0.12322514116418921\n",
      "에폭: 274, 반복: 10/10, 손실: 0.1132633426127632\n",
      "에폭: 275, 반복: 10/10, 손실: 0.11580125295481195\n",
      "에폭: 276, 반복: 10/10, 손실: 0.12418527047451158\n",
      "에폭: 277, 반복: 10/10, 손실: 0.11289494501453375\n",
      "에폭: 278, 반복: 10/10, 손실: 0.11077561346473122\n",
      "에폭: 279, 반복: 10/10, 손실: 0.1143121792506725\n",
      "에폭: 280, 반복: 10/10, 손실: 0.11427378474471332\n",
      "에폭: 281, 반복: 10/10, 손실: 0.11731530918730074\n",
      "에폭: 282, 반복: 10/10, 손실: 0.11173984745596406\n",
      "에폭: 283, 반복: 10/10, 손실: 0.11382437328275703\n",
      "에폭: 284, 반복: 10/10, 손실: 0.11354569974260224\n",
      "에폭: 285, 반복: 10/10, 손실: 0.11082773737319433\n",
      "에폭: 286, 반복: 10/10, 손실: 0.11235645391470024\n",
      "에폭: 287, 반복: 10/10, 손실: 0.11698939249450457\n",
      "에폭: 288, 반복: 10/10, 손실: 0.11394781289859852\n",
      "에폭: 289, 반복: 10/10, 손실: 0.11472703869653116\n",
      "에폭: 290, 반복: 10/10, 손실: 0.11195179439782446\n",
      "에폭: 291, 반복: 10/10, 손실: 0.11252714425363775\n",
      "에폭: 292, 반복: 10/10, 손실: 0.11019011632052719\n",
      "에폭: 293, 반복: 10/10, 손실: 0.11147947028025718\n",
      "에폭: 294, 반복: 10/10, 손실: 0.11578316334144992\n",
      "에폭: 295, 반복: 10/10, 손실: 0.11022282695739696\n",
      "에폭: 296, 반복: 10/10, 손실: 0.11966849814776918\n",
      "에폭: 297, 반복: 10/10, 손실: 0.1116026841169647\n",
      "에폭: 298, 반복: 10/10, 손실: 0.10668719692739763\n",
      "에폭: 299, 반복: 10/10, 손실: 0.10854954795724311\n"
     ]
    }
   ],
   "source": [
    "### 학습용 코드 3 : 매개변수 갱신 \n",
    "data_size = x.shape[0]\n",
    "max_iters = data_size // batch_size\n",
    "total_loss = 0\n",
    "loss_count = 0\n",
    "loss_list = []\n",
    "\n",
    "for epoch in range(max_epoch):\n",
    "    idx = np.random.permutation(data_size)\n",
    "    x = x[idx]\n",
    "    t = t[idx]\n",
    "\n",
    "    for iters in range(max_iters):\n",
    "        x_batch = x[iters * batch_size : (iters+1) * batch_size]\n",
    "        t_batch = t[iters * batch_size : (iters+1) * batch_size]\n",
    "\n",
    "        loss = model.forward(x_batch, t_batch)\n",
    "        model.backward()\n",
    "        optimizer.update(model.params, model.grads)\n",
    "\n",
    "        total_loss += loss\n",
    "        loss_count += 1\n",
    "\n",
    "        if (iters+1) % 10 == 0:\n",
    "            avg_loss = total_loss / loss_count\n",
    "            print(f'에폭: {epoch}, 반복: {iters+1}/{max_iters}, 손실: {avg_loss}')\n",
    "            loss_list.append(avg_loss)\n",
    "            total_loss = 0\n",
    "            loss_count = 0"
   ]
  },
  {
   "cell_type": "code",
   "execution_count": 40,
   "id": "acaa693c",
   "metadata": {},
   "outputs": [
    {
     "data": {
      "text/plain": [
       "300"
      ]
     },
     "execution_count": 40,
     "metadata": {},
     "output_type": "execute_result"
    }
   ],
   "source": [
    "x.shape[0]"
   ]
  },
  {
   "cell_type": "code",
   "execution_count": null,
   "id": "ddcd6096",
   "metadata": {},
   "outputs": [],
   "source": []
  },
  {
   "cell_type": "code",
   "execution_count": 41,
   "id": "54931add",
   "metadata": {},
   "outputs": [
    {
     "data": {
      "image/png": "[encoded data removed]",
      "text/plain": [
       "<Figure size 432x288 with 1 Axes>"
      ]
     },
     "metadata": {
      "needs_background": "light"
     },
     "output_type": "display_data"
    }
   ],
   "source": [
    "### 학습 결과 그래프\n",
    "plt.plot(np.arange(len(loss_list)), loss_list, label='train')\n",
    "plt.xlabel('iterations (x10)')\n",
    "plt.ylabel('loss')\n",
    "plt.show()"
   ]
  },
  {
   "cell_type": "code",
   "execution_count": 42,
   "id": "ce01cdac",
   "metadata": {},
   "outputs": [
    {
     "data": {
      "image/png": "[encoded data removed]",
      "text/plain": [
       "<Figure size 432x288 with 1 Axes>"
      ]
     },
     "metadata": {
      "needs_background": "light"
     },
     "output_type": "display_data"
    }
   ],
   "source": [
    "### 경계 영역 그래프\n",
    "h = 0.001\n",
    "x_min, x_max = x[:, 0].min()-0.1, x[:, 0].max()+0.1\n",
    "y_min, y_max = x[:, 1].min()-0.1, x[:, 1].max()+0.1\n",
    "xx, yy = np.meshgrid(np.arange(x_min, x_max, h), np.arange(y_min, y_max, h))\n",
    "X = np.c_[xx.ravel(), yy.ravel()]\n",
    "score = model.predict(X)\n",
    "predict_cls = np.argmax(score, axis=1)\n",
    "Z = predict_cls.reshape(xx.shape)\n",
    "plt.contourf(xx, yy, Z)\n",
    "plt.axis('off')\n",
    "\n",
    "\n",
    "### 데이터점 그래프\n",
    "x, t = spiral.load_data()\n",
    "cls_num = 3\n",
    "N = 100\n",
    "\n",
    "for i in range(cls_num):\n",
    "    plt.scatter(x[i*N:(i+1)*N,0], x[i*N:(i+1)*N, 1], s=40)\n",
    "plt.show()"
   ]
  },
  {
   "cell_type": "code",
   "execution_count": null,
   "id": "e9e53c5e",
   "metadata": {},
   "outputs": [],
   "source": []
  },
  {
   "cell_type": "code",
   "execution_count": 43,
   "id": "2274723a",
   "metadata": {},
   "outputs": [],
   "source": [
    "import time\n",
    "from common.util import clip_grads\n",
    "from common.trainer import remove_duplicate"
   ]
  },
  {
   "cell_type": "code",
   "execution_count": 44,
   "id": "a626b5f7",
   "metadata": {},
   "outputs": [],
   "source": [
    "### trainer 클래스 구현\n",
    "class Trainer:\n",
    "    def __init__(self, model, optimizer):\n",
    "        self.model = model\n",
    "        self.optimizer = optimizer\n",
    "        self.loss_list = []\n",
    "        self.eval_interval = None\n",
    "        self.current_epoch = 0\n",
    "        \n",
    "    def fit(self, x, t, max_epoch=10, batch_size=32, max_grad=None, eval_interval=20):\n",
    "        data_size = x.shape[0]\n",
    "        max_iters = data_size // batch_size\n",
    "        self.eval_interval = eval_interval\n",
    "        model = self.model\n",
    "        optimizer = self.optimizer\n",
    "        total_loss = 0\n",
    "        loss_count = 0\n",
    "        \n",
    "        start_time = time.time()\n",
    "        for epoch in range(max_epoch):\n",
    "            idx = np.random.permutation(data_size)\n",
    "            x = x[idx]\n",
    "            t = t[idx]\n",
    "\n",
    "            for iters in range(max_iters):\n",
    "                x_batch = x[iters * batch_size : (iters+1) * batch_size]\n",
    "                t_batch = t[iters * batch_size : (iters+1) * batch_size]\n",
    "\n",
    "                loss = model.forward(x_batch, t_batch)\n",
    "                model.backward()\n",
    "                params, grads = remove_duplicate(model.params, model.grads)\n",
    "                \n",
    "                if max_grad is not None:\n",
    "                    clip_grads(grads, max_grads)\n",
    "                optimizer.update(params, grads)\n",
    "                total_loss += loss\n",
    "                loss_count += 1\n",
    "\n",
    "                if (eval_interval is not None) and (iters % eval_interval) == 0:\n",
    "                    avg_loss = total_loss / loss_count\n",
    "                    elapsed_time = time.time() - start_time\n",
    "                    print(f'에폭: {self.current_epoch + 1}, 반복: {iters+1}/{max_iters}, 시간: {elapsed_time}, 손실: {avg_loss}')\n",
    "                    self.loss_list.append(float(avg_loss))\n",
    "                    total_loss = 0\n",
    "                    loss_count = 0\n",
    "            self.current_epoch += 1\n",
    "            \n",
    "    def plot(self, ylim=None):\n",
    "        x = np.arange(len(self.loss_list))\n",
    "        if ylim is not None:\n",
    "            plt.ylim(*ylim)\n",
    "        plt.plot(x, self.loss_list, label='train')\n",
    "        plt.xlabel(f'iterations (x{self.eval_interval})')\n",
    "        plt.ylabel('loss')\n",
    "        plt.show()"
   ]
  },
  {
   "cell_type": "code",
   "execution_count": null,
   "id": "5ec8b7ff",
   "metadata": {},
   "outputs": [],
   "source": []
  },
  {
   "cell_type": "code",
   "execution_count": 45,
   "id": "2894e602",
   "metadata": {},
   "outputs": [
    {
     "name": "stdout",
     "output_type": "stream",
     "text": [
      "에폭: 1, 반복: 1/10, 시간: 0.00036716461181640625, 손실: 1.0979835927063497\n",
      "에폭: 2, 반복: 1/10, 시간: 0.0018842220306396484, 손실: 1.1189180749104572\n",
      "에폭: 3, 반복: 1/10, 시간: 0.003199338912963867, 손실: 1.1299014199094313\n",
      "에폭: 4, 반복: 1/10, 시간: 0.004403352737426758, 손실: 1.1212650789399152\n",
      "에폭: 5, 반복: 1/10, 시간: 0.005583286285400391, 손실: 1.1228718231286021\n",
      "에폭: 6, 반복: 1/10, 시간: 0.0069561004638671875, 손실: 1.1047121736014993\n",
      "에폭: 7, 반복: 1/10, 시간: 0.008118152618408203, 손실: 1.141305904827527\n",
      "에폭: 8, 반복: 1/10, 시간: 0.009321212768554688, 손실: 1.1557548646288012\n",
      "에폭: 9, 반복: 1/10, 시간: 0.010506391525268555, 손실: 1.105871729281462\n",
      "에폭: 10, 반복: 1/10, 시간: 0.011457204818725586, 손실: 1.1220119486921498\n",
      "에폭: 11, 반복: 1/10, 시간: 0.012604236602783203, 손실: 1.1244772899987758\n",
      "에폭: 12, 반복: 1/10, 시간: 0.013652324676513672, 손실: 1.120126909581506\n",
      "에폭: 13, 반복: 1/10, 시간: 0.014789104461669922, 손실: 1.103876639279867\n",
      "에폭: 14, 반복: 1/10, 시간: 0.015989303588867188, 손실: 1.0855137810441755\n",
      "에폭: 15, 반복: 1/10, 시간: 0.017226219177246094, 손실: 1.0792409637174225\n",
      "에폭: 16, 반복: 1/10, 시간: 0.018215179443359375, 손실: 1.0441585538361102\n",
      "에폭: 17, 반복: 1/10, 시간: 0.01954936981201172, 손실: 1.0342035938528984\n",
      "에폭: 18, 반복: 1/10, 시간: 0.020495176315307617, 손실: 0.9442895807990228\n",
      "에폭: 19, 반복: 1/10, 시간: 0.02159428596496582, 손실: 0.915729698728408\n",
      "에폭: 20, 반복: 1/10, 시간: 0.022783994674682617, 손실: 0.9205615515088853\n",
      "에폭: 21, 반복: 1/10, 시간: 0.023768186569213867, 손실: 0.8654450879946565\n",
      "에폭: 22, 반복: 1/10, 시간: 0.024877071380615234, 손실: 0.8541678169014162\n",
      "에폭: 23, 반복: 1/10, 시간: 0.026165246963500977, 손실: 0.8043936848058572\n",
      "에폭: 24, 반복: 1/10, 시간: 0.02744913101196289, 손실: 0.7917979235015323\n",
      "에폭: 25, 반복: 1/10, 시간: 0.02846837043762207, 손실: 0.7753351921853644\n",
      "에폭: 26, 반복: 1/10, 시간: 0.029790401458740234, 손실: 0.8339585233130735\n",
      "에폭: 27, 반복: 1/10, 시간: 0.03098917007446289, 손실: 0.7721785492375892\n",
      "에폭: 28, 반복: 1/10, 시간: 0.03231525421142578, 손실: 0.7567444584243066\n",
      "에폭: 29, 반복: 1/10, 시간: 0.03359103202819824, 손실: 0.774880682410478\n",
      "에폭: 30, 반복: 1/10, 시간: 0.0347592830657959, 손실: 0.7649344628892473\n",
      "에폭: 31, 반복: 1/10, 시간: 0.03592538833618164, 손실: 0.767018661923031\n",
      "에폭: 32, 반복: 1/10, 시간: 0.037882089614868164, 손실: 0.7497066566693447\n",
      "에폭: 33, 반복: 1/10, 시간: 0.03900313377380371, 손실: 0.7769289732891365\n",
      "에폭: 34, 반복: 1/10, 시간: 0.04025125503540039, 손실: 0.7735480713549183\n",
      "에폭: 35, 반복: 1/10, 시간: 0.04132723808288574, 손실: 0.7816307811014033\n",
      "에폭: 36, 반복: 1/10, 시간: 0.04237842559814453, 손실: 0.7400206840771982\n",
      "에폭: 37, 반복: 1/10, 시간: 0.04392528533935547, 손실: 0.7464824127503826\n",
      "에폭: 38, 반복: 1/10, 시간: 0.04511117935180664, 손실: 0.7738371450787577\n",
      "에폭: 39, 반복: 1/10, 시간: 0.046067237854003906, 손실: 0.7517827216669922\n",
      "에폭: 40, 반복: 1/10, 시간: 0.04708504676818848, 손실: 0.7283977388671626\n",
      "에폭: 41, 반복: 1/10, 시간: 0.0481412410736084, 손실: 0.7533055787982212\n",
      "에폭: 42, 반복: 1/10, 시간: 0.04923820495605469, 손실: 0.7574297784970775\n",
      "에폭: 43, 반복: 1/10, 시간: 0.05052518844604492, 손실: 0.7923654638656279\n",
      "에폭: 44, 반복: 1/10, 시간: 0.05151224136352539, 손실: 0.7405699131094493\n",
      "에폭: 45, 반복: 1/10, 시간: 0.05278944969177246, 손실: 0.7466374768440613\n",
      "에폭: 46, 반복: 1/10, 시간: 0.054015398025512695, 손실: 0.7300407377230745\n",
      "에폭: 47, 반복: 1/10, 시간: 0.05501222610473633, 손실: 0.7276470767013012\n",
      "에폭: 48, 반복: 1/10, 시간: 0.055968284606933594, 손실: 0.7280486904604355\n",
      "에폭: 49, 반복: 1/10, 시간: 0.05711936950683594, 손실: 0.7318611823746034\n",
      "에폭: 50, 반복: 1/10, 시간: 0.058170318603515625, 손실: 0.7240188669469187\n",
      "에폭: 51, 반복: 1/10, 시간: 0.05960440635681152, 손실: 0.715057845693329\n",
      "에폭: 52, 반복: 1/10, 시간: 0.06083416938781738, 손실: 0.7217338463471181\n",
      "에폭: 53, 반복: 1/10, 시간: 0.06207728385925293, 손실: 0.7179123063402677\n",
      "에폭: 54, 반복: 1/10, 시간: 0.06312918663024902, 손실: 0.7383882988324697\n",
      "에폭: 55, 반복: 1/10, 시간: 0.06420707702636719, 손실: 0.7387855446860688\n",
      "에폭: 56, 반복: 1/10, 시간: 0.06515312194824219, 손실: 0.7279428926846059\n",
      "에폭: 57, 반복: 1/10, 시간: 0.06612300872802734, 손실: 0.7238265860483393\n",
      "에폭: 58, 반복: 1/10, 시간: 0.06724309921264648, 손실: 0.6945176335222972\n",
      "에폭: 59, 반복: 1/10, 시간: 0.06842708587646484, 손실: 0.7246382128771435\n",
      "에폭: 60, 반복: 1/10, 시간: 0.0695040225982666, 손실: 0.7035613062503043\n",
      "에폭: 61, 반복: 1/10, 시간: 0.07051420211791992, 손실: 0.6912815905903839\n",
      "에폭: 62, 반복: 1/10, 시간: 0.07165837287902832, 손실: 0.7142197646227398\n",
      "에폭: 63, 반복: 1/10, 시간: 0.07265424728393555, 손실: 0.7029235118269533\n",
      "에폭: 64, 반복: 1/10, 시간: 0.07373309135437012, 손실: 0.7110481811661483\n",
      "에폭: 65, 반복: 1/10, 시간: 0.07505512237548828, 손실: 0.7179805981367194\n",
      "에폭: 66, 반복: 1/10, 시간: 0.07627320289611816, 손실: 0.7146959057282997\n",
      "에폭: 67, 반복: 1/10, 시간: 0.07750320434570312, 손실: 0.712600081530824\n",
      "에폭: 68, 반복: 1/10, 시간: 0.07871532440185547, 손실: 0.7083669812296975\n",
      "에폭: 69, 반복: 1/10, 시간: 0.07967019081115723, 손실: 0.6999326754216085\n",
      "에폭: 70, 반복: 1/10, 시간: 0.08059525489807129, 손실: 0.6848447715976075\n",
      "에폭: 71, 반복: 1/10, 시간: 0.08177614212036133, 손실: 0.7265197274883203\n",
      "에폭: 72, 반복: 1/10, 시간: 0.08286118507385254, 손실: 0.6636916836185567\n",
      "에폭: 73, 반복: 1/10, 시간: 0.08419609069824219, 손실: 0.6881947068045251\n",
      "에폭: 74, 반복: 1/10, 시간: 0.08553028106689453, 손실: 0.6616843330375066\n",
      "에폭: 75, 반복: 1/10, 시간: 0.08667421340942383, 손실: 0.6964560768279828\n",
      "에폭: 76, 반복: 1/10, 시간: 0.0877223014831543, 손실: 0.6518530160390046\n",
      "에폭: 77, 반복: 1/10, 시간: 0.08893728256225586, 손실: 0.6688454757640327\n",
      "에폭: 78, 반복: 1/10, 시간: 0.0901193618774414, 손실: 0.7033758476506942\n",
      "에폭: 79, 반복: 1/10, 시간: 0.0911092758178711, 손실: 0.633003595120378\n",
      "에폭: 80, 반복: 1/10, 시간: 0.09248828887939453, 손실: 0.664116356687024\n",
      "에폭: 81, 반복: 1/10, 시간: 0.09357738494873047, 손실: 0.6517380939642721\n",
      "에폭: 82, 반복: 1/10, 시간: 0.09453630447387695, 손실: 0.6595765862019384\n",
      "에폭: 83, 반복: 1/10, 시간: 0.09555935859680176, 손실: 0.6380163507689842\n",
      "에폭: 84, 반복: 1/10, 시간: 0.09655117988586426, 손실: 0.6158231485107697\n",
      "에폭: 85, 반복: 1/10, 시간: 0.0975182056427002, 손실: 0.6242157415466183\n",
      "에폭: 86, 반복: 1/10, 시간: 0.09879612922668457, 손실: 0.6342745947513542\n",
      "에폭: 87, 반복: 1/10, 시간: 0.10000324249267578, 손실: 0.5859567480247287\n",
      "에폭: 88, 반복: 1/10, 시간: 0.10126328468322754, 손실: 0.5845476424222784\n",
      "에폭: 89, 반복: 1/10, 시간: 0.10247135162353516, 손실: 0.6122127759372351\n",
      "에폭: 90, 반복: 1/10, 시간: 0.10374617576599121, 손실: 0.5884303223554338\n",
      "에폭: 91, 반복: 1/10, 시간: 0.1046762466430664, 손실: 0.5838789036447765\n",
      "에폭: 92, 반복: 1/10, 시간: 0.10562324523925781, 손실: 0.5664015625028579\n",
      "에폭: 93, 반복: 1/10, 시간: 0.10669732093811035, 손실: 0.5514472457193949\n",
      "에폭: 94, 반복: 1/10, 시간: 0.10787725448608398, 손실: 0.5372923499673592\n",
      "에폭: 95, 반복: 1/10, 시간: 0.10927224159240723, 손실: 0.5348918411263369\n",
      "에폭: 96, 반복: 1/10, 시간: 0.11056208610534668, 손실: 0.5368153073452435\n",
      "에폭: 97, 반복: 1/10, 시간: 0.11162114143371582, 손실: 0.51395914180483\n",
      "에폭: 98, 반복: 1/10, 시간: 0.11263728141784668, 손실: 0.5086243291294652\n",
      "에폭: 99, 반복: 1/10, 시간: 0.11396121978759766, 손실: 0.4956902609246779\n",
      "에폭: 100, 반복: 1/10, 시간: 0.11501121520996094, 손실: 0.4691466658339902\n",
      "에폭: 101, 반복: 1/10, 시간: 0.11629223823547363, 손실: 0.48833969522141574\n",
      "에폭: 102, 반복: 1/10, 시간: 0.11766433715820312, 손실: 0.4648588632928624\n",
      "에폭: 103, 반복: 1/10, 시간: 0.11881804466247559, 손실: 0.438545385558907\n",
      "에폭: 104, 반복: 1/10, 시간: 0.1198892593383789, 손실: 0.4721879286375632\n",
      "에폭: 105, 반복: 1/10, 시간: 0.12090921401977539, 손실: 0.4400168742841341\n",
      "에폭: 106, 반복: 1/10, 시간: 0.12216925621032715, 손실: 0.42521167526352655\n",
      "에폭: 107, 반복: 1/10, 시간: 0.12321734428405762, 손실: 0.4302861225167162\n",
      "에폭: 108, 반복: 1/10, 시간: 0.1242990493774414, 손실: 0.39125299572384953\n",
      "에폭: 109, 반복: 1/10, 시간: 0.12535929679870605, 손실: 0.40262303055747434\n",
      "에폭: 110, 반복: 1/10, 시간: 0.12647032737731934, 손실: 0.40919624584679387\n",
      "에폭: 111, 반복: 1/10, 시간: 0.12759017944335938, 손실: 0.3826129300799543\n",
      "에폭: 112, 반복: 1/10, 시간: 0.1286940574645996, 손실: 0.38323219677823067\n",
      "에폭: 113, 반복: 1/10, 시간: 0.12965130805969238, 손실: 0.3771513003208758\n",
      "에폭: 114, 반복: 1/10, 시간: 0.13081598281860352, 손실: 0.3673288148750066\n",
      "에폭: 115, 반복: 1/10, 시간: 0.13173508644104004, 손실: 0.3593891598371616\n",
      "에폭: 116, 반복: 1/10, 시간: 0.13294124603271484, 손실: 0.33803113550436326\n",
      "에폭: 117, 반복: 1/10, 시간: 0.1341862678527832, 손실: 0.3503266521005154\n",
      "에폭: 118, 반복: 1/10, 시간: 0.13521838188171387, 손실: 0.3337400654368428\n",
      "에폭: 119, 반복: 1/10, 시간: 0.13627123832702637, 손실: 0.3459695249106943\n",
      "에폭: 120, 반복: 1/10, 시간: 0.13733911514282227, 손실: 0.3322205931595305\n",
      "에폭: 121, 반복: 1/10, 시간: 0.1383652687072754, 손실: 0.3319978431356462\n",
      "에폭: 122, 반복: 1/10, 시간: 0.13932228088378906, 손실: 0.31857974372988407\n",
      "에폭: 123, 반복: 1/10, 시간: 0.14033937454223633, 손실: 0.30837430657242637\n",
      "에폭: 124, 반복: 1/10, 시간: 0.14130830764770508, 손실: 0.3079296282600526\n",
      "에폭: 125, 반복: 1/10, 시간: 0.14257025718688965, 손실: 0.3105917390075239\n",
      "에폭: 126, 반복: 1/10, 시간: 0.14376020431518555, 손실: 0.2976403472094547\n",
      "에폭: 127, 반복: 1/10, 시간: 0.1449742317199707, 손실: 0.297021896041062\n",
      "에폭: 128, 반복: 1/10, 시간: 0.14599227905273438, 손실: 0.27456800965098493\n",
      "에폭: 129, 반복: 1/10, 시간: 0.14713120460510254, 손실: 0.301081012705676\n",
      "에폭: 130, 반복: 1/10, 시간: 0.14820313453674316, 손실: 0.28257939135002413\n",
      "에폭: 131, 반복: 1/10, 시간: 0.14978623390197754, 손실: 0.2648091932886874\n",
      "에폭: 132, 반복: 1/10, 시간: 0.15101313591003418, 손실: 0.2684012293254721\n",
      "에폭: 133, 반복: 1/10, 시간: 0.1522083282470703, 손실: 0.27159703916819\n",
      "에폭: 134, 반복: 1/10, 시간: 0.15318036079406738, 손실: 0.2777220812881219\n",
      "에폭: 135, 반복: 1/10, 시간: 0.15427041053771973, 손실: 0.2601932097612221\n",
      "에폭: 136, 반복: 1/10, 시간: 0.15539216995239258, 손실: 0.28427984572933346\n",
      "에폭: 137, 반복: 1/10, 시간: 0.1563892364501953, 손실: 0.2502787192299508\n",
      "에폭: 138, 반복: 1/10, 시간: 0.15804004669189453, 손실: 0.2627948337637424\n",
      "에폭: 139, 반복: 1/10, 시간: 0.15940308570861816, 손실: 0.26175190802693893\n",
      "에폭: 140, 반복: 1/10, 시간: 0.16057825088500977, 손실: 0.2597842247429842\n",
      "에폭: 141, 반복: 1/10, 시간: 0.16156315803527832, 손실: 0.23230546522325954\n",
      "에폭: 142, 반복: 1/10, 시간: 0.16250228881835938, 손실: 0.23437527452670248\n",
      "에폭: 143, 반복: 1/10, 시간: 0.1635732650756836, 손실: 0.2570166656218184\n",
      "에폭: 144, 반복: 1/10, 시간: 0.16457319259643555, 손실: 0.22553844599225648\n",
      "에폭: 145, 반복: 1/10, 시간: 0.1655442714691162, 손실: 0.2387467796952017\n",
      "에폭: 146, 반복: 1/10, 시간: 0.16676926612854004, 손실: 0.2370746762333075\n",
      "에폭: 147, 반복: 1/10, 시간: 0.16789627075195312, 손실: 0.24863300187510853\n",
      "에폭: 148, 반복: 1/10, 시간: 0.16910934448242188, 손실: 0.21492423072898054\n",
      "에폭: 149, 반복: 1/10, 시간: 0.1703202724456787, 손실: 0.23240023445247907\n",
      "에폭: 150, 반복: 1/10, 시간: 0.171309232711792, 손실: 0.22207445577897275\n",
      "에폭: 151, 반복: 1/10, 시간: 0.17234420776367188, 손실: 0.22378429506263847\n",
      "에폭: 152, 반복: 1/10, 시간: 0.17352724075317383, 손실: 0.23385015338458626\n",
      "에폭: 153, 반복: 1/10, 시간: 0.17451739311218262, 손실: 0.2262605302897284\n",
      "에폭: 154, 반복: 1/10, 시간: 0.17566418647766113, 손실: 0.20484087519839972\n",
      "에폭: 155, 반복: 1/10, 시간: 0.1769883632659912, 손실: 0.21777247859534588\n",
      "에폭: 156, 반복: 1/10, 시간: 0.1779942512512207, 손실: 0.2147112065741311\n",
      "에폭: 157, 반복: 1/10, 시간: 0.1790001392364502, 손실: 0.2139988914666914\n",
      "에폭: 158, 반복: 1/10, 시간: 0.18010425567626953, 손실: 0.20315474388862054\n",
      "에폭: 159, 반복: 1/10, 시간: 0.18134021759033203, 손실: 0.21244959168588942\n",
      "에폭: 160, 반복: 1/10, 시간: 0.18259406089782715, 손실: 0.20308674531202575\n",
      "에폭: 161, 반복: 1/10, 시간: 0.18384122848510742, 손실: 0.19000527985598892\n",
      "에폭: 162, 반복: 1/10, 시간: 0.18479514122009277, 손실: 0.21659651309273636\n",
      "에폭: 163, 반복: 1/10, 시간: 0.18602228164672852, 손실: 0.1870029939860019\n",
      "에폭: 164, 반복: 1/10, 시간: 0.1871790885925293, 손실: 0.21101454713816556\n",
      "에폭: 165, 반복: 1/10, 시간: 0.18810820579528809, 손실: 0.1981644558343642\n",
      "에폭: 166, 반복: 1/10, 시간: 0.18915510177612305, 손실: 0.2019122598838484\n",
      "에폭: 167, 반복: 1/10, 시간: 0.19056034088134766, 손실: 0.2001265713829578\n",
      "에폭: 168, 반복: 1/10, 시간: 0.19168305397033691, 손실: 0.18853189004024676\n",
      "에폭: 169, 반복: 1/10, 시간: 0.19282126426696777, 손실: 0.17749747567202878\n",
      "에폭: 170, 반복: 1/10, 시간: 0.19402337074279785, 손실: 0.18934574464612952\n",
      "에폭: 171, 반복: 1/10, 시간: 0.19512605667114258, 손실: 0.19256695715367872\n",
      "에폭: 172, 반복: 1/10, 시간: 0.19614410400390625, 손실: 0.1996304104312425\n",
      "에폭: 173, 반복: 1/10, 시간: 0.19725322723388672, 손실: 0.16451479323188994\n",
      "에폭: 174, 반복: 1/10, 시간: 0.19861412048339844, 손실: 0.19541690769623937\n",
      "에폭: 175, 반복: 1/10, 시간: 0.19987201690673828, 손실: 0.1828333344950006\n",
      "에폭: 176, 반복: 1/10, 시간: 0.20108413696289062, 손실: 0.17365677657856476\n",
      "에폭: 177, 반복: 1/10, 시간: 0.20234012603759766, 손실: 0.17301146270671713\n"
     ]
    },
    {
     "name": "stdout",
     "output_type": "stream",
     "text": [
      "에폭: 178, 반복: 1/10, 시간: 0.2038562297821045, 손실: 0.17238063697551492\n",
      "에폭: 179, 반복: 1/10, 시간: 0.20491313934326172, 손실: 0.17726766553457318\n",
      "에폭: 180, 반복: 1/10, 시간: 0.20588016510009766, 손실: 0.18940609591442867\n",
      "에폭: 181, 반복: 1/10, 시간: 0.20690631866455078, 손실: 0.173674700899353\n",
      "에폭: 182, 반복: 1/10, 시간: 0.20795011520385742, 손실: 0.17582934139101297\n",
      "에폭: 183, 반복: 1/10, 시간: 0.2089841365814209, 손실: 0.15705710513487184\n",
      "에폭: 184, 반복: 1/10, 시간: 0.2100820541381836, 손실: 0.17654973515181135\n",
      "에폭: 185, 반복: 1/10, 시간: 0.21126723289489746, 손실: 0.17828999932023198\n",
      "에폭: 186, 반복: 1/10, 시간: 0.21245121955871582, 손실: 0.1718019281118341\n",
      "에폭: 187, 반복: 1/10, 시간: 0.2134263515472412, 손실: 0.1718184650674917\n",
      "에폭: 188, 반복: 1/10, 시간: 0.2146453857421875, 손실: 0.18361238313455816\n",
      "에폭: 189, 반복: 1/10, 시간: 0.2158830165863037, 손실: 0.16046685909382388\n",
      "에폭: 190, 반복: 1/10, 시간: 0.21705913543701172, 손실: 0.1640261350186427\n",
      "에폭: 191, 반복: 1/10, 시간: 0.2183091640472412, 손실: 0.16843157849451781\n",
      "에폭: 192, 반복: 1/10, 시간: 0.21981525421142578, 손실: 0.1735312036198414\n",
      "에폭: 193, 반복: 1/10, 시간: 0.22101712226867676, 손실: 0.161772401474594\n",
      "에폭: 194, 반복: 1/10, 시간: 0.2222273349761963, 손실: 0.1611111433018671\n",
      "에폭: 195, 반복: 1/10, 시간: 0.22342228889465332, 손실: 0.15820460259834837\n",
      "에폭: 196, 반복: 1/10, 시간: 0.22446823120117188, 손실: 0.1665746656101535\n",
      "에폭: 197, 반복: 1/10, 시간: 0.2258601188659668, 손실: 0.15797749185273086\n",
      "에폭: 198, 반복: 1/10, 시간: 0.22685718536376953, 손실: 0.17477411567196932\n",
      "에폭: 199, 반복: 1/10, 시간: 0.2281332015991211, 손실: 0.155549521947779\n",
      "에폭: 200, 반복: 1/10, 시간: 0.229567289352417, 손실: 0.14221863641367902\n",
      "에폭: 201, 반복: 1/10, 시간: 0.23064112663269043, 손실: 0.1553913683223306\n",
      "에폭: 202, 반복: 1/10, 시간: 0.231842041015625, 손실: 0.15827909548373328\n",
      "에폭: 203, 반복: 1/10, 시간: 0.23292326927185059, 손실: 0.15329764593816553\n",
      "에폭: 204, 반복: 1/10, 시간: 0.2339951992034912, 손실: 0.16499141264482148\n",
      "에폭: 205, 반복: 1/10, 시간: 0.23492026329040527, 손실: 0.14456568601642567\n",
      "에폭: 206, 반복: 1/10, 시간: 0.23601508140563965, 손실: 0.1578881434345947\n",
      "에폭: 207, 반복: 1/10, 시간: 0.23725414276123047, 손실: 0.1643249336285512\n",
      "에폭: 208, 반복: 1/10, 시간: 0.2382183074951172, 손실: 0.14298475284108075\n",
      "에폭: 209, 반복: 1/10, 시간: 0.23939824104309082, 손실: 0.15405166983606927\n",
      "에폭: 210, 반복: 1/10, 시간: 0.2413020133972168, 손실: 0.15542678514712643\n",
      "에폭: 211, 반복: 1/10, 시간: 0.24265432357788086, 손실: 0.1419562405707736\n",
      "에폭: 212, 반복: 1/10, 시간: 0.2436223030090332, 손실: 0.1508926804035673\n",
      "에폭: 213, 반복: 1/10, 시간: 0.24486136436462402, 손실: 0.15082172731026464\n",
      "에폭: 214, 반복: 1/10, 시간: 0.24612832069396973, 손실: 0.1511525419077589\n",
      "에폭: 215, 반복: 1/10, 시간: 0.24706721305847168, 손실: 0.14177886844222534\n",
      "에폭: 216, 반복: 1/10, 시간: 0.24840021133422852, 손실: 0.139498867628061\n",
      "에폭: 217, 반복: 1/10, 시간: 0.24961304664611816, 손실: 0.1528616087509923\n",
      "에폭: 218, 반복: 1/10, 시간: 0.25058412551879883, 손실: 0.1354995447343313\n",
      "에폭: 219, 반복: 1/10, 시간: 0.2515132427215576, 손실: 0.14875204629351804\n",
      "에폭: 220, 반복: 1/10, 시간: 0.2525923252105713, 손실: 0.15087860434541256\n",
      "에폭: 221, 반복: 1/10, 시간: 0.2536771297454834, 손실: 0.13623756251421495\n",
      "에폭: 222, 반복: 1/10, 시간: 0.2547183036804199, 손실: 0.13308686297959563\n",
      "에폭: 223, 반복: 1/10, 시간: 0.2560153007507324, 손실: 0.14611212476030752\n",
      "에폭: 224, 반복: 1/10, 시간: 0.2569851875305176, 손실: 0.13765276464696324\n",
      "에폭: 225, 반복: 1/10, 시간: 0.25803518295288086, 손실: 0.1587563179841692\n",
      "에폭: 226, 반복: 1/10, 시간: 0.2592780590057373, 손실: 0.12396768055365404\n",
      "에폭: 227, 반복: 1/10, 시간: 0.26032042503356934, 손실: 0.12990631646013479\n",
      "에폭: 228, 반복: 1/10, 시간: 0.26128220558166504, 손실: 0.1452543608685113\n",
      "에폭: 229, 반복: 1/10, 시간: 0.26273107528686523, 손실: 0.14176348303040298\n",
      "에폭: 230, 반복: 1/10, 시간: 0.26366209983825684, 손실: 0.12663311548966624\n",
      "에폭: 231, 반복: 1/10, 시간: 0.26482415199279785, 손실: 0.13894096235606118\n",
      "에폭: 232, 반복: 1/10, 시간: 0.2660942077636719, 손실: 0.13449449022015939\n",
      "에폭: 233, 반복: 1/10, 시간: 0.26703834533691406, 손실: 0.1305528190587973\n",
      "에폭: 234, 반복: 1/10, 시간: 0.2681400775909424, 손실: 0.13739142003410013\n",
      "에폭: 235, 반복: 1/10, 시간: 0.2692232131958008, 손실: 0.134526989440935\n",
      "에폭: 236, 반복: 1/10, 시간: 0.2705402374267578, 손실: 0.12318649700617894\n",
      "에폭: 237, 반복: 1/10, 시간: 0.2717890739440918, 손실: 0.12866415547463353\n",
      "에폭: 238, 반복: 1/10, 시간: 0.27303433418273926, 손실: 0.1357533008057264\n",
      "에폭: 239, 반복: 1/10, 시간: 0.27423620223999023, 손실: 0.13744532901525597\n",
      "에폭: 240, 반복: 1/10, 시간: 0.27541613578796387, 손실: 0.12908690095369174\n",
      "에폭: 241, 반복: 1/10, 시간: 0.27654409408569336, 손실: 0.14271342694914804\n",
      "에폭: 242, 반복: 1/10, 시간: 0.27774620056152344, 손실: 0.1263212156190018\n",
      "에폭: 243, 반복: 1/10, 시간: 0.2788400650024414, 손실: 0.12849594951652327\n",
      "에폭: 244, 반복: 1/10, 시간: 0.2800760269165039, 손실: 0.13814904038168568\n",
      "에폭: 245, 반복: 1/10, 시간: 0.2815511226654053, 손실: 0.11927876039437972\n",
      "에폭: 246, 반복: 1/10, 시간: 0.2826962471008301, 손실: 0.13317932030868637\n",
      "에폭: 247, 반복: 1/10, 시간: 0.2842581272125244, 손실: 0.12936805097889945\n",
      "에폭: 248, 반복: 1/10, 시간: 0.2857992649078369, 손실: 0.12406856042226388\n",
      "에폭: 249, 반복: 1/10, 시간: 0.28699731826782227, 손실: 0.1369729105385942\n",
      "에폭: 250, 반복: 1/10, 시간: 0.28861117362976074, 손실: 0.12107111734542861\n",
      "에폭: 251, 반복: 1/10, 시간: 0.2897961139678955, 손실: 0.1316001749560137\n",
      "에폭: 252, 반복: 1/10, 시간: 0.2915000915527344, 손실: 0.1314684755013273\n",
      "에폭: 253, 반복: 1/10, 시간: 0.293182373046875, 손실: 0.12494609802000205\n",
      "에폭: 254, 반복: 1/10, 시간: 0.29513025283813477, 손실: 0.12051576928108425\n",
      "에폭: 255, 반복: 1/10, 시간: 0.2964773178100586, 손실: 0.1293445203714056\n",
      "에폭: 256, 반복: 1/10, 시간: 0.2982630729675293, 손실: 0.12160180184298523\n",
      "에폭: 257, 반복: 1/10, 시간: 0.299896240234375, 손실: 0.12301532230035946\n",
      "에폭: 258, 반복: 1/10, 시간: 0.30155229568481445, 손실: 0.12059951406790106\n",
      "에폭: 259, 반복: 1/10, 시간: 0.30349016189575195, 손실: 0.12748655811729073\n",
      "에폭: 260, 반복: 1/10, 시간: 0.3052070140838623, 손실: 0.132509813343698\n",
      "에폭: 261, 반복: 1/10, 시간: 0.30667734146118164, 손실: 0.11008280884084129\n",
      "에폭: 262, 반복: 1/10, 시간: 0.30817222595214844, 손실: 0.13495423464130119\n",
      "에폭: 263, 반복: 1/10, 시간: 0.30939316749572754, 손실: 0.11704233732758132\n",
      "에폭: 264, 반복: 1/10, 시간: 0.31055307388305664, 손실: 0.11036117636477519\n",
      "에폭: 265, 반복: 1/10, 시간: 0.31171727180480957, 손실: 0.13537666854265393\n",
      "에폭: 266, 반복: 1/10, 시간: 0.31315135955810547, 손실: 0.11302004179506422\n",
      "에폭: 267, 반복: 1/10, 시간: 0.3146512508392334, 손실: 0.12974777394313153\n",
      "에폭: 268, 반복: 1/10, 시간: 0.31597208976745605, 손실: 0.10683680586568041\n",
      "에폭: 269, 반복: 1/10, 시간: 0.31711316108703613, 손실: 0.1251181785191314\n",
      "에폭: 270, 반복: 1/10, 시간: 0.31824326515197754, 손실: 0.10781511504714422\n",
      "에폭: 271, 반복: 1/10, 시간: 0.3195791244506836, 손실: 0.1212920281224849\n",
      "에폭: 272, 반복: 1/10, 시간: 0.32117724418640137, 손실: 0.11860020588894978\n",
      "에폭: 273, 반복: 1/10, 시간: 0.3225290775299072, 손실: 0.11652772806260865\n",
      "에폭: 274, 반복: 1/10, 시간: 0.324113130569458, 손실: 0.1173467447776202\n",
      "에폭: 275, 반복: 1/10, 시간: 0.32583022117614746, 손실: 0.11833701610529737\n",
      "에폭: 276, 반복: 1/10, 시간: 0.3271641731262207, 손실: 0.12445179171575145\n",
      "에폭: 277, 반복: 1/10, 시간: 0.328336238861084, 손실: 0.10620440617043916\n",
      "에폭: 278, 반복: 1/10, 시간: 0.3296854496002197, 손실: 0.12807754579675823\n",
      "에폭: 279, 반복: 1/10, 시간: 0.33118629455566406, 손실: 0.11499580141521618\n",
      "에폭: 280, 반복: 1/10, 시간: 0.332714319229126, 손실: 0.10322685725904632\n",
      "에폭: 281, 반복: 1/10, 시간: 0.33412933349609375, 손실: 0.123147709815512\n",
      "에폭: 282, 반복: 1/10, 시간: 0.3356773853302002, 손실: 0.10741381582789156\n",
      "에폭: 283, 반복: 1/10, 시간: 0.33701610565185547, 손실: 0.12352338093065707\n",
      "에폭: 284, 반복: 1/10, 시간: 0.3388102054595947, 손실: 0.10730573522071689\n",
      "에폭: 285, 반복: 1/10, 시간: 0.34055328369140625, 손실: 0.11185107940497059\n",
      "에폭: 286, 반복: 1/10, 시간: 0.3419172763824463, 손실: 0.12128860867100844\n",
      "에폭: 287, 반복: 1/10, 시간: 0.34311509132385254, 손실: 0.10616831961907773\n",
      "에폭: 288, 반복: 1/10, 시간: 0.344266414642334, 손실: 0.1149596522166036\n",
      "에폭: 289, 반복: 1/10, 시간: 0.34552907943725586, 손실: 0.11534662851032103\n",
      "에폭: 290, 반복: 1/10, 시간: 0.34690403938293457, 손실: 0.11069130990991471\n",
      "에폭: 291, 반복: 1/10, 시간: 0.3480980396270752, 손실: 0.1122706155814118\n",
      "에폭: 292, 반복: 1/10, 시간: 0.3494842052459717, 손실: 0.1133562088803908\n",
      "에폭: 293, 반복: 1/10, 시간: 0.35065221786499023, 손실: 0.11482597598846393\n",
      "에폭: 294, 반복: 1/10, 시간: 0.3518211841583252, 손실: 0.11158438118092957\n",
      "에폭: 295, 반복: 1/10, 시간: 0.3534541130065918, 손실: 0.1118798224067284\n",
      "에폭: 296, 반복: 1/10, 시간: 0.35445523262023926, 손실: 0.11857472471316252\n",
      "에폭: 297, 반복: 1/10, 시간: 0.35549020767211914, 손실: 0.11221402801232014\n",
      "에폭: 298, 반복: 1/10, 시간: 0.3568291664123535, 손실: 0.11383509508995668\n",
      "에폭: 299, 반복: 1/10, 시간: 0.35809826850891113, 손실: 0.11370117229657824\n",
      "에폭: 300, 반복: 1/10, 시간: 0.3594381809234619, 손실: 0.10868606991116359\n"
     ]
    },
    {
     "data": {
      "image/png": "[encoded data removed]",
      "text/plain": [
       "<Figure size 432x288 with 1 Axes>"
      ]
     },
     "metadata": {
      "needs_background": "light"
     },
     "output_type": "display_data"
    }
   ],
   "source": [
    "### Trainer 클래스 이용해서 학습\n",
    "max_epoch = 300\n",
    "batch_size = 30\n",
    "hidden_size = 10\n",
    "learning_rate = 1.0\n",
    "\n",
    "x, t = spiral.load_data()\n",
    "model = TwoLayerNet(input_size=2, hidden_size=hidden_size, output_size=3)\n",
    "optimizer = SGD(lr=learning_rate)\n",
    "\n",
    "trainer = Trainer(model, optimizer)\n",
    "trainer.fit(x, t, max_epoch=max_epoch, batch_size=batch_size, eval_interval=10)\n",
    "trainer.plot()"
   ]
  },
  {
   "cell_type": "code",
   "execution_count": null,
   "id": "13cb40d2",
   "metadata": {},
   "outputs": [],
   "source": []
  },
  {
   "cell_type": "code",
   "execution_count": 46,
   "id": "ec1125c4",
   "metadata": {},
   "outputs": [
    {
     "data": {
      "text/plain": [
       "dtype('float64')"
      ]
     },
     "execution_count": 46,
     "metadata": {},
     "output_type": "execute_result"
    }
   ],
   "source": [
    "### 비트수 확인\n",
    "a = np.random.randn(3)\n",
    "a.dtype   # float64 : 64비트 부동소수점 수"
   ]
  },
  {
   "cell_type": "code",
   "execution_count": 47,
   "id": "8ffb8cbc",
   "metadata": {},
   "outputs": [
    {
     "data": {
      "text/plain": [
       "dtype('float32')"
      ]
     },
     "execution_count": 47,
     "metadata": {},
     "output_type": "execute_result"
    }
   ],
   "source": [
    "### 32비트 부동소수점 수로 변경\n",
    "b = np.random.randn(3).astype(np.float32)\n",
    "b.dtype\n",
    "\n",
    "c = np.random.randn(3).astype('f')\n",
    "c.dtype"
   ]
  },
  {
   "cell_type": "code",
   "execution_count": null,
   "id": "b74ebfac",
   "metadata": {},
   "outputs": [],
   "source": []
  },
  {
   "cell_type": "code",
   "execution_count": 49,
   "id": "245a46c1",
   "metadata": {},
   "outputs": [],
   "source": [
    "### 맥은 쿠파이 지원 안함"
   ]
  },
  {
   "cell_type": "code",
   "execution_count": null,
   "id": "4a605f5b",
   "metadata": {},
   "outputs": [],
   "source": []
  }
 ],
 "metadata": {
  "kernelspec": {
   "display_name": "Python 3 (ipykernel)",
   "language": "python",
   "name": "python3"
  },
  "language_info": {
   "codemirror_mode": {
    "name": "ipython",
    "version": 3
   },
   "file_extension": ".py",
   "mimetype": "text/x-python",
   "name": "python",
   "nbconvert_exporter": "python",
   "pygments_lexer": "ipython3",
   "version": "3.9.7"
  }
 },
 "nbformat": 4,
 "nbformat_minor": 5
}
