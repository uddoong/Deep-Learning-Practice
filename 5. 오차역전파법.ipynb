{
 "cells": [
  {
   "cell_type": "markdown",
   "id": "099a3180",
   "metadata": {},
   "source": [
    "### 5.4 단순한 계층 구현하기"
   ]
  },
  {
   "cell_type": "code",
   "execution_count": 1,
   "id": "312969de",
   "metadata": {},
   "outputs": [],
   "source": [
    "import numpy as np\n",
    "import matplotlib.pyplot as plt"
   ]
  },
  {
   "cell_type": "code",
   "execution_count": 2,
   "id": "85ce9997",
   "metadata": {},
   "outputs": [],
   "source": [
    "### 곱셈 노드\n",
    "class MulLayer(): \n",
    "    def __init__(self):\n",
    "        self.x = None\n",
    "        self.y = None\n",
    "    \n",
    "    def forward(self, x, y):\n",
    "        self.x = x\n",
    "        self.y = y\n",
    "        return self.x * self.y\n",
    "    \n",
    "    def backward(self, dout):\n",
    "        return dout * self.y, dout * self.x"
   ]
  },
  {
   "cell_type": "code",
   "execution_count": 3,
   "id": "99d1eb0e",
   "metadata": {},
   "outputs": [],
   "source": [
    "mul_apple = MulLayer()\n",
    "mul_tax = MulLayer()"
   ]
  },
  {
   "cell_type": "code",
   "execution_count": 4,
   "id": "14161310",
   "metadata": {},
   "outputs": [
    {
     "data": {
      "text/plain": [
       "220.00000000000003"
      ]
     },
     "execution_count": 4,
     "metadata": {},
     "output_type": "execute_result"
    }
   ],
   "source": [
    "apple_num = 2\n",
    "apple = 100\n",
    "tax = 1.1\n",
    "\n",
    "apple_price = mul_apple.forward(apple, apple_num)\n",
    "price = mul_tax.forward(apple_price, tax)\n",
    "price"
   ]
  },
  {
   "cell_type": "code",
   "execution_count": 5,
   "id": "d01fc1c0",
   "metadata": {},
   "outputs": [
    {
     "data": {
      "text/plain": [
       "(2.2, 110.00000000000001)"
      ]
     },
     "execution_count": 5,
     "metadata": {},
     "output_type": "execute_result"
    }
   ],
   "source": [
    "dprice = 1\n",
    "dapple_price, dtax = mul_tax.backward(dprice)\n",
    "dapple_price, dtax\n",
    "\n",
    "dapple, dapple_num = mul_apple.backward(dapple_price)\n",
    "dapple, dapple_num"
   ]
  },
  {
   "cell_type": "code",
   "execution_count": 6,
   "id": "13e2a760",
   "metadata": {},
   "outputs": [],
   "source": [
    "### 덧셈 노드\n",
    "class AddLayer:\n",
    "    def __init__(self):\n",
    "        pass\n",
    "    \n",
    "    # self.x = x, self.y = y 안한 이유: x, y값 저장할 필요가 없음    \n",
    "    def forward(self, x, y):\n",
    "        return x + y\n",
    "        \n",
    "    def backward(self, dout):\n",
    "        return dout * 1, dout * 1"
   ]
  },
  {
   "cell_type": "code",
   "execution_count": 7,
   "id": "ac08f66a",
   "metadata": {},
   "outputs": [],
   "source": [
    "mul_apple = MulLayer()\n",
    "mul_orange = MulLayer()\n",
    "mul_tax = MulLayer()\n",
    "add_apple_orange = AddLayer()"
   ]
  },
  {
   "cell_type": "code",
   "execution_count": 8,
   "id": "363c1d58",
   "metadata": {},
   "outputs": [],
   "source": [
    "apple_num = 2\n",
    "apple = 100\n",
    "orange_num = 3\n",
    "orange = 150\n",
    "tax = 1.1\n",
    "\n",
    "apple_price = mul_apple.forward(apple_num, apple)\n",
    "orange_price = mul_orange.forward(orange, orange_num)\n",
    "apple_orange_price = add_apple_orange.forward(apple_price, orange_price)\n",
    "price = mul_tax.forward(apple_orange_price, tax)"
   ]
  },
  {
   "cell_type": "code",
   "execution_count": 9,
   "id": "595d16b1",
   "metadata": {},
   "outputs": [
    {
     "data": {
      "text/plain": [
       "(110.00000000000001, 2.2)"
      ]
     },
     "execution_count": 9,
     "metadata": {},
     "output_type": "execute_result"
    }
   ],
   "source": [
    "dprice = 1\n",
    "\n",
    "dapple_orange_price, dtax = mul_tax.backward(dprice)\n",
    "dapple_price, dorange_price = add_apple_orange.backward(dapple_orange_price)\n",
    "dorange, dorange_num = mul_orange.backward(dorange_price)\n",
    "dapple_num, dapple = mul_apple.backward(dapple_price)\n",
    "dapple_num, dapple "
   ]
  },
  {
   "cell_type": "code",
   "execution_count": null,
   "id": "cc3ecb54",
   "metadata": {},
   "outputs": [],
   "source": []
  },
  {
   "cell_type": "markdown",
   "id": "8bc8b2ff",
   "metadata": {},
   "source": [
    "### 5.5 활성화 함수 계층 구현하기"
   ]
  },
  {
   "cell_type": "code",
   "execution_count": 10,
   "id": "e695635d",
   "metadata": {},
   "outputs": [],
   "source": [
    "### ReLU 계층 구현\n",
    "class Relu:\n",
    "    def __init__(self):\n",
    "        self.mask = None\n",
    "        \n",
    "    def forward(self, x):\n",
    "        self.mask = (x <= 0)\n",
    "        out = x.copy()\n",
    "        out[self.mask] = 0\n",
    "        return out\n",
    "        \n",
    "    def backward(self, dout):\n",
    "        dout[self.mask] = 0\n",
    "        dx = dout\n",
    "        return dx"
   ]
  },
  {
   "cell_type": "code",
   "execution_count": 11,
   "id": "fa8bf8fe",
   "metadata": {},
   "outputs": [
    {
     "data": {
      "text/plain": [
       "array([[1. , 0. ],\n",
       "       [3.1, 0. ]])"
      ]
     },
     "execution_count": 11,
     "metadata": {},
     "output_type": "execute_result"
    }
   ],
   "source": [
    "x = np.array([[1.0, -2.0], [3.1, -4.0]])\n",
    "mask = (x <= 0)\n",
    "out = x.copy()\n",
    "out[mask] = 0\n",
    "out"
   ]
  },
  {
   "cell_type": "code",
   "execution_count": 12,
   "id": "39e3e768",
   "metadata": {},
   "outputs": [
    {
     "data": {
      "text/plain": [
       "array([[0. , 2. ],\n",
       "       [3.1, 0. ]])"
      ]
     },
     "execution_count": 12,
     "metadata": {},
     "output_type": "execute_result"
    }
   ],
   "source": [
    "dout = np.array([[-1.0, 2.0], [3.1, -4.0]])\n",
    "mask = (dout <= 0)\n",
    "dout[mask] = 0\n",
    "dout"
   ]
  },
  {
   "cell_type": "code",
   "execution_count": 13,
   "id": "9afc8df5",
   "metadata": {},
   "outputs": [],
   "source": [
    "a = Relu()"
   ]
  },
  {
   "cell_type": "code",
   "execution_count": 14,
   "id": "0859ae64",
   "metadata": {},
   "outputs": [
    {
     "data": {
      "text/plain": [
       "array([[1. , 0. ],\n",
       "       [3.1, 0. ]])"
      ]
     },
     "execution_count": 14,
     "metadata": {},
     "output_type": "execute_result"
    }
   ],
   "source": [
    "x = np.array([[1.0, -2.0], [3.1, -4.0]])\n",
    "a.forward(x)"
   ]
  },
  {
   "cell_type": "code",
   "execution_count": 15,
   "id": "9ae47dfb",
   "metadata": {},
   "outputs": [
    {
     "data": {
      "text/plain": [
       "array([[-1. ,  0. ],\n",
       "       [ 3.1,  0. ]])"
      ]
     },
     "execution_count": 15,
     "metadata": {},
     "output_type": "execute_result"
    }
   ],
   "source": [
    "dout = np.array([[-1.0, 2.0], [3.1, -4.0]])\n",
    "a.backward(dout)"
   ]
  },
  {
   "cell_type": "code",
   "execution_count": null,
   "id": "553e7f22",
   "metadata": {},
   "outputs": [],
   "source": []
  },
  {
   "cell_type": "code",
   "execution_count": 16,
   "id": "86b139e0",
   "metadata": {},
   "outputs": [],
   "source": [
    "### sigmoid 계층\n",
    "class Sigmoid:\n",
    "    def __init__(self):\n",
    "        self.y = None\n",
    "    \n",
    "    def forward(self, x):\n",
    "        self.y = 1 / (1 + np.exp(-x))\n",
    "        return self.y\n",
    "        \n",
    "    def backward(self, dout):\n",
    "        dx = dout * self.y * (1.0 - self.y)\n",
    "        return dx"
   ]
  },
  {
   "cell_type": "code",
   "execution_count": null,
   "id": "1b3d26d6",
   "metadata": {},
   "outputs": [],
   "source": []
  },
  {
   "cell_type": "markdown",
   "id": "590e1088",
   "metadata": {},
   "source": [
    "### 5.6 Affine/Softmax 계층 구현하기"
   ]
  },
  {
   "cell_type": "code",
   "execution_count": 17,
   "id": "7099a96d",
   "metadata": {},
   "outputs": [
    {
     "data": {
      "text/plain": [
       "array([0.74870454, 0.88938289, 0.96453029])"
      ]
     },
     "execution_count": 17,
     "metadata": {},
     "output_type": "execute_result"
    }
   ],
   "source": [
    "x = np.random.rand(2)\n",
    "W = np.random.rand(2,3)\n",
    "b = np.random.rand(3)\n",
    "\n",
    "y = np.dot(x, W) + b\n",
    "y"
   ]
  },
  {
   "cell_type": "code",
   "execution_count": 18,
   "id": "83369ef2",
   "metadata": {},
   "outputs": [
    {
     "data": {
      "text/plain": [
       "((2,), (2, 3), (3,), (3,))"
      ]
     },
     "execution_count": 18,
     "metadata": {},
     "output_type": "execute_result"
    }
   ],
   "source": [
    "x.shape, W.shape, b.shape, y.shape"
   ]
  },
  {
   "cell_type": "code",
   "execution_count": 19,
   "id": "88fe9ec4",
   "metadata": {},
   "outputs": [
    {
     "data": {
      "text/plain": [
       "array([[ 1,  2,  3],\n",
       "       [11, 12, 13]])"
      ]
     },
     "execution_count": 19,
     "metadata": {},
     "output_type": "execute_result"
    }
   ],
   "source": [
    "X_dot_W = np.array([[0,0,0],[10,10,10]])\n",
    "B = np.array([1,2,3])\n",
    "X_dot_W + B"
   ]
  },
  {
   "cell_type": "code",
   "execution_count": 20,
   "id": "ecc5c7fc",
   "metadata": {},
   "outputs": [
    {
     "data": {
      "text/plain": [
       "array([[1, 2, 3],\n",
       "       [4, 5, 6]])"
      ]
     },
     "execution_count": 20,
     "metadata": {},
     "output_type": "execute_result"
    }
   ],
   "source": [
    "dY = np.array([[1,2,3],[4,5,6]])\n",
    "dY"
   ]
  },
  {
   "cell_type": "code",
   "execution_count": 21,
   "id": "94f16581",
   "metadata": {},
   "outputs": [
    {
     "data": {
      "text/plain": [
       "array([5, 7, 9])"
      ]
     },
     "execution_count": 21,
     "metadata": {},
     "output_type": "execute_result"
    }
   ],
   "source": [
    "dB = np.sum(dY, axis=0)\n",
    "dB"
   ]
  },
  {
   "cell_type": "code",
   "execution_count": 22,
   "id": "050f1faf",
   "metadata": {},
   "outputs": [],
   "source": [
    "### affine 계층 구현\n",
    "class Affine:\n",
    "    def __init__(self, W, b):\n",
    "        self.W = W\n",
    "        self.b = b\n",
    "        self.x = None\n",
    "        self.dw = None\n",
    "        self.db = None\n",
    "        \n",
    "    def forward(self, x):\n",
    "        self.x = x\n",
    "        return np.dot(self.x, self.W) + self.b\n",
    "        \n",
    "    def backward(self, dout):\n",
    "        dx = np.dot(dout, self.W.T)\n",
    "        self.dw = np.dot(self.x.T, dout)\n",
    "        self.db = np.sum(dout, axis=0)\n",
    "        return dx"
   ]
  },
  {
   "cell_type": "code",
   "execution_count": null,
   "id": "11120fc4",
   "metadata": {},
   "outputs": [],
   "source": []
  },
  {
   "cell_type": "code",
   "execution_count": 23,
   "id": "1dd5a66b",
   "metadata": {},
   "outputs": [],
   "source": [
    "def softmax(x):\n",
    "    if x.ndim == 2:\n",
    "        x = x.T\n",
    "        x = x - np.max(x, axis=0)\n",
    "        y = np.exp(x) / np.sum(np.exp(x), axis=0)\n",
    "        return y.T\n",
    "\n",
    "    x = x - np.max(x)\n",
    "    return np.exp(x) / np.sum(np.exp(x))"
   ]
  },
  {
   "cell_type": "code",
   "execution_count": 24,
   "id": "9ab48c39",
   "metadata": {},
   "outputs": [],
   "source": [
    "def cross_entropy_error(y, t):\n",
    "    delta = 1e-7\n",
    "    if y.ndim == 1:\n",
    "        y = y.reshape(1, y.shape[0])\n",
    "        t = t.reshape(1, t.shape[0])\n",
    "        \n",
    "    batch_size = y.shape[0]\n",
    "    return -np.sum(t * np.log(y + delta)) / batch_size"
   ]
  },
  {
   "cell_type": "code",
   "execution_count": 25,
   "id": "5c3f5aec",
   "metadata": {},
   "outputs": [],
   "source": [
    "### softmax-with-loss 계층 구현\n",
    "class SoftMaxWithLoss:\n",
    "    def __init__(self):\n",
    "        self.y = None\n",
    "        self.t = None\n",
    "        self.loss = None\n",
    "        \n",
    "    def forward(self, x, t):\n",
    "        self.t = t\n",
    "        self.y = softmax(x)\n",
    "        self.loss = cross_entropy_error(self.y, self.t)\n",
    "        return self.loss\n",
    "        \n",
    "    def backward(self, dout=1):\n",
    "        batch_size = self.y.shape[0]\n",
    "        dx = (self.y - self.t) / batch_size\n",
    "        return dx"
   ]
  },
  {
   "cell_type": "code",
   "execution_count": null,
   "id": "dd6b766d",
   "metadata": {},
   "outputs": [],
   "source": []
  },
  {
   "cell_type": "markdown",
   "id": "7a965003",
   "metadata": {},
   "source": [
    "### 5.7 오차역전파법 구현하기"
   ]
  },
  {
   "cell_type": "code",
   "execution_count": 26,
   "id": "a476d2c2",
   "metadata": {},
   "outputs": [],
   "source": [
    "import sys, os\n",
    "sys.path.append(os.pardir)\n",
    "import numpy as np\n",
    "from collections import OrderedDict"
   ]
  },
  {
   "cell_type": "code",
   "execution_count": 27,
   "id": "27213ab7",
   "metadata": {},
   "outputs": [],
   "source": [
    "def numerical_gradient_1d(f,x):\n",
    "    h = 1e-4\n",
    "    grad = np.zeros_like(x)\n",
    "    \n",
    "    for idx in range(x.size):\n",
    "        tmp_val = x[idx]\n",
    "        \n",
    "        x[idx] = tmp_val + h\n",
    "        fxh1 = f(x)\n",
    "        \n",
    "        x[idx] = tmp_val - h\n",
    "        fxh2 = f(x)\n",
    "        \n",
    "        grad[idx] = (fxh1 - fxh2)/(2*h)\n",
    "        x[idx] = tmp_val\n",
    "    return grad"
   ]
  },
  {
   "cell_type": "code",
   "execution_count": 28,
   "id": "8091fd30",
   "metadata": {},
   "outputs": [],
   "source": [
    "def numerical_gradient(f,x):\n",
    "    if x.ndim == 1:\n",
    "        return numerical_gradient_1d(f,x)\n",
    "    else:\n",
    "        grad = np.zeros_like(x)\n",
    "        \n",
    "        for idx, x1 in enumerate(x):\n",
    "            grad[idx] = numerical_gradient_1d(f, x1)\n",
    "            \n",
    "        return grad"
   ]
  },
  {
   "cell_type": "code",
   "execution_count": 29,
   "id": "9efd5992",
   "metadata": {},
   "outputs": [],
   "source": [
    "class TwoLayerNet:\n",
    "    def __init__(self, input_size, hidden_size, output_size, weight_init_std=0.01):\n",
    "        \n",
    "        self.params = {}\n",
    "        self.params['W1'] = weight_init_std * np.random.randn(input_size, hidden_size)\n",
    "        self.params['b1'] = np.zeros(hidden_size)\n",
    "        self.params['W2'] = weight_init_std * np.random.randn(hidden_size, output_size)\n",
    "        self.params['b2'] = np.zeros(output_size)\n",
    "        \n",
    "        self.layers = OrderedDict()\n",
    "        self.layers['Affine1'] = Affine(self.params['W1'], self.params['b1'])\n",
    "        self.layers['Relu1'] = Relu()\n",
    "        self.layers['Affine2'] = Affine(self.params['W2'], self.params['b2'])\n",
    "        \n",
    "        self.lastLayer = SoftMaxWithLoss()\n",
    "        \n",
    "    def predict(self, x):\n",
    "        for layer in self.layers.values():\n",
    "            x = layer.forward(x)\n",
    "        return x\n",
    "        \n",
    "    def loss(self, x, t):\n",
    "        y = self.predict(x)\n",
    "        return self.lastLayer.forward(y,t)\n",
    "        \n",
    "    def accuracy(self, x, t):\n",
    "        y = self.predict(x)\n",
    "        y = np.argmax(y, axis=1)\n",
    "        if t.ndim != 1:\n",
    "            t = np.argmax(t, axis=1)\n",
    "        return np.sum(y == t) / float(x.shape[0])\n",
    "    \n",
    "    def numerical_gradient(self, x, t):\n",
    "        loss_W = lambda W: self.loss(x,t) \n",
    "        \n",
    "        grads = {}\n",
    "        grads['W1'] = numerical_gradient(loss_W, self.params['W1'])\n",
    "        grads['b1'] = numerical_gradient(loss_W, self.params['b1'])\n",
    "        grads['W2'] = numerical_gradient(loss_W, self.params['W2'])\n",
    "        grads['b2'] = numerical_gradient(loss_W, self.params['b2'])\n",
    "        return grads\n",
    "        \n",
    "    def gradient(self, x, t):\n",
    "        # 순전파\n",
    "        self.loss(x,t)\n",
    "        \n",
    "        # 역전파\n",
    "        dout = 1\n",
    "        dout = self.lastLayer.backward(dout)\n",
    "        \n",
    "        layers = list(self.layers.values())\n",
    "        layers.reverse()\n",
    "        for layer in layers:\n",
    "            dout = layer.backward(dout)\n",
    "            \n",
    "        grads = {}\n",
    "        grads['W1'] = self.layers['Affine1'].dw\n",
    "        grads['b1'] = self.layers['Affine1'].db\n",
    "        grads['W2'] = self.layers['Affine2'].dw\n",
    "        grads['b2'] = self.layers['Affine2'].db\n",
    "        \n",
    "        return grads"
   ]
  },
  {
   "cell_type": "code",
   "execution_count": 30,
   "id": "97d7fab9",
   "metadata": {},
   "outputs": [],
   "source": [
    "params = {}\n",
    "params['W1'] = np.random.rand(2,3)\n",
    "params['b1'] = np.zeros(3)\n",
    "params['W2'] = np.random.rand(3,3)\n",
    "params['b2'] = np.zeros(3)\n",
    "\n",
    "layers = {}\n",
    "layers['Affine1'] = Affine(params['W1'], params['b1'])\n",
    "layers['Relu'] = Sigmoid()\n",
    "layers['Affine2'] = Affine(params['W2'], params['b2'])"
   ]
  },
  {
   "cell_type": "code",
   "execution_count": 31,
   "id": "bfde23b5",
   "metadata": {},
   "outputs": [
    {
     "name": "stdout",
     "output_type": "stream",
     "text": [
      "[2.51819707 1.96706457 4.79914141]\n",
      "[0.9254077  0.87729547 0.99183047]\n",
      "[0.65133543 0.89853384 1.84691169]\n"
     ]
    }
   ],
   "source": [
    "x = np.array([2.0,3.0])\n",
    "for layer in layers.values():\n",
    "    x = layer.forward(x)\n",
    "    print(x)"
   ]
  },
  {
   "cell_type": "code",
   "execution_count": 32,
   "id": "e7a59c1c",
   "metadata": {},
   "outputs": [
    {
     "data": {
      "text/plain": [
       "[<__main__.Affine at 0x7f8a990ad7f0>,\n",
       " <__main__.Sigmoid at 0x7f8a990ad6d0>,\n",
       " <__main__.Affine at 0x7f8a990ad820>]"
      ]
     },
     "execution_count": 32,
     "metadata": {},
     "output_type": "execute_result"
    }
   ],
   "source": [
    "list(layers.values())"
   ]
  },
  {
   "cell_type": "code",
   "execution_count": 33,
   "id": "cfe1ba15",
   "metadata": {},
   "outputs": [
    {
     "data": {
      "text/plain": [
       "1.5"
      ]
     },
     "execution_count": 33,
     "metadata": {},
     "output_type": "execute_result"
    }
   ],
   "source": [
    "y = np.array([[1.0,3.2],[4.2,5.5],[1.2,3.5]])\n",
    "t = np.array([[0,1],[0,1],[0,1]])\n",
    "y = np.argmax(y, axis=1)\n",
    "t = np.argmax(t, axis=1)\n",
    "\n",
    "np.sum(y == t) / 2.0"
   ]
  },
  {
   "cell_type": "code",
   "execution_count": null,
   "id": "51859cc1",
   "metadata": {},
   "outputs": [],
   "source": []
  },
  {
   "cell_type": "markdown",
   "id": "bb7beb43",
   "metadata": {},
   "source": [
    "### 5.7.3 오차역전파법으로 구한 기울기 검증"
   ]
  },
  {
   "cell_type": "code",
   "execution_count": 34,
   "id": "24852ed9",
   "metadata": {},
   "outputs": [],
   "source": [
    "from dataset.mnist import load_mnist"
   ]
  },
  {
   "cell_type": "code",
   "execution_count": 35,
   "id": "aed84afb",
   "metadata": {},
   "outputs": [],
   "source": [
    "(x_train,t_train), (x_test,t_test) = load_mnist(normalize=True, one_hot_label=True, flatten =True)"
   ]
  },
  {
   "cell_type": "code",
   "execution_count": 36,
   "id": "28e2eb6d",
   "metadata": {},
   "outputs": [],
   "source": [
    "network = TwoLayerNet(input_size=784, hidden_size=50, output_size=10)"
   ]
  },
  {
   "cell_type": "code",
   "execution_count": 37,
   "id": "9702587a",
   "metadata": {},
   "outputs": [],
   "source": [
    "x_batch = x_train[:3]\n",
    "t_batch = t_train[:3]"
   ]
  },
  {
   "cell_type": "code",
   "execution_count": 38,
   "id": "58dd37dc",
   "metadata": {},
   "outputs": [],
   "source": [
    "grad_numerical = network.numerical_gradient(x_batch, t_batch)\n",
    "grad_backpro = network.gradient(x_batch, t_batch)"
   ]
  },
  {
   "cell_type": "code",
   "execution_count": 39,
   "id": "25fdce8b",
   "metadata": {},
   "outputs": [
    {
     "name": "stdout",
     "output_type": "stream",
     "text": [
      "W1 : 9.470842229057756e-07\n",
      "b1 : 1.0555112420272611e-05\n",
      "W2 : 5.089927474681804e-09\n",
      "b2 : 1.3997543656940615e-07\n"
     ]
    }
   ],
   "source": [
    "for key in grad_backpro.keys():\n",
    "    diff = np.average(np.abs(grad_backpro[key] - grad_numerical[key]))\n",
    "    print(f'{key} : {diff}')"
   ]
  },
  {
   "cell_type": "code",
   "execution_count": 40,
   "id": "11903af9",
   "metadata": {},
   "outputs": [
    {
     "name": "stdout",
     "output_type": "stream",
     "text": [
      "9.470842229057756e-07\n"
     ]
    }
   ],
   "source": [
    "diff = np.average(np.abs(grad_backpro['W1'] - grad_numerical['W1']))\n",
    "print(diff)"
   ]
  },
  {
   "cell_type": "code",
   "execution_count": null,
   "id": "ae38e428",
   "metadata": {},
   "outputs": [],
   "source": []
  },
  {
   "cell_type": "markdown",
   "id": "7b4ce490",
   "metadata": {},
   "source": [
    "### 5.7.4 오차역전파법을 사용한 학습 구현하기"
   ]
  },
  {
   "cell_type": "code",
   "execution_count": 41,
   "id": "1143b349",
   "metadata": {},
   "outputs": [],
   "source": [
    "(x_train,t_train), (x_test,t_test) = load_mnist(normalize=True, one_hot_label=True)"
   ]
  },
  {
   "cell_type": "code",
   "execution_count": 42,
   "id": "293ba61f",
   "metadata": {},
   "outputs": [],
   "source": [
    "network = TwoLayerNet(input_size=784, hidden_size=50, output_size=10)"
   ]
  },
  {
   "cell_type": "code",
   "execution_count": 43,
   "id": "0309d500",
   "metadata": {},
   "outputs": [],
   "source": [
    "iters_num = 10000\n",
    "batch_size = 100\n",
    "learning_rate = 0.1\n",
    "train_size = x_train.shape[0]"
   ]
  },
  {
   "cell_type": "code",
   "execution_count": 44,
   "id": "43c36099",
   "metadata": {},
   "outputs": [
    {
     "name": "stdout",
     "output_type": "stream",
     "text": [
      "train accuracy : 0.06658333333333333, test accuracy : 0.0673\n",
      "train accuracy : 0.9034666666666666, test accuracy : 0.9075\n",
      "train accuracy : 0.9197666666666666, test accuracy : 0.9241\n",
      "train accuracy : 0.93465, test accuracy : 0.9342\n",
      "train accuracy : 0.94275, test accuracy : 0.941\n",
      "train accuracy : 0.9488, test accuracy : 0.9468\n",
      "train accuracy : 0.95495, test accuracy : 0.9525\n",
      "train accuracy : 0.95855, test accuracy : 0.9541\n",
      "train accuracy : 0.9625833333333333, test accuracy : 0.9572\n",
      "train accuracy : 0.9663833333333334, test accuracy : 0.9601\n",
      "train accuracy : 0.9686333333333333, test accuracy : 0.9606\n",
      "train accuracy : 0.9709666666666666, test accuracy : 0.9639\n",
      "train accuracy : 0.9709833333333333, test accuracy : 0.9626\n",
      "train accuracy : 0.9737166666666667, test accuracy : 0.9647\n",
      "train accuracy : 0.97445, test accuracy : 0.9656\n",
      "train accuracy : 0.97685, test accuracy : 0.9676\n",
      "train accuracy : 0.9780333333333333, test accuracy : 0.9678\n"
     ]
    }
   ],
   "source": [
    "train_loss_list = []\n",
    "train_acc_list = []\n",
    "test_acc_list = []\n",
    "\n",
    "iter_per_epoch = max(train_size / batch_size, 1)\n",
    "\n",
    "for i in range(iters_num):\n",
    "    batch_mask = np.random.choice(train_size, batch_size)\n",
    "    x_batch = x_train[batch_mask]\n",
    "    t_batch = t_train[batch_mask]\n",
    "\n",
    "    grad = network.gradient(x_batch, t_batch)\n",
    "\n",
    "    for key in ('W1','b1','W2','b2'):\n",
    "        network.params[key] -= learning_rate * grad[key]\n",
    "\n",
    "    loss = network.loss(x_batch, t_batch)\n",
    "    train_loss_list.append(loss)\n",
    "\n",
    "    if i % iter_per_epoch == 0:\n",
    "        train_acc = network.accuracy(x_train, t_train)\n",
    "        test_acc = network.accuracy(x_test, t_test)\n",
    "        train_acc_list.append(train_acc)\n",
    "        test_acc_list.append(test_acc)\n",
    "        print(f'train accuracy : {train_acc}, test accuracy : {test_acc}')"
   ]
  },
  {
   "cell_type": "code",
   "execution_count": 45,
   "id": "4efcd832",
   "metadata": {},
   "outputs": [
    {
     "data": {
      "image/png": "[encoded data removed]",
      "text/plain": [
       "<Figure size 432x288 with 1 Axes>"
      ]
     },
     "metadata": {
      "needs_background": "light"
     },
     "output_type": "display_data"
    }
   ],
   "source": [
    "plt.plot(train_acc_list, label='train')\n",
    "plt.plot(test_acc_list, '--', label='test')\n",
    "plt.xlabel('epochs')\n",
    "plt.ylabel('accuracy')\n",
    "plt.xlim(0,17)\n",
    "plt.ylim(0.0,1.0)\n",
    "plt.legend(loc='upper right')\n",
    "plt.show()"
   ]
  },
  {
   "cell_type": "code",
   "execution_count": 65,
   "id": "6fb945fc",
   "metadata": {},
   "outputs": [
    {
     "data": {
      "text/plain": [
       "(784, 50)"
      ]
     },
     "execution_count": 65,
     "metadata": {},
     "output_type": "execute_result"
    }
   ],
   "source": [
    "v = {}\n",
    "for key, val in network.params.items():\n",
    "    v[key] = np.zeros_like(val)\n",
    "v['W1'].shape"
   ]
  },
  {
   "cell_type": "code",
   "execution_count": null,
   "id": "b62bd596",
   "metadata": {},
   "outputs": [],
   "source": []
  }
 ],
 "metadata": {
  "kernelspec": {
   "display_name": "Python 3 (ipykernel)",
   "language": "python",
   "name": "python3"
  },
  "language_info": {
   "codemirror_mode": {
    "name": "ipython",
    "version": 3
   },
   "file_extension": ".py",
   "mimetype": "text/x-python",
   "name": "python",
   "nbconvert_exporter": "python",
   "pygments_lexer": "ipython3",
   "version": "3.9.7"
  }
 },
 "nbformat": 4,
 "nbformat_minor": 5
}
